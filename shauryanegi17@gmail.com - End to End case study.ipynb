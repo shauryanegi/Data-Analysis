{
 "cells": [
  {
   "cell_type": "code",
   "execution_count": 1,
   "metadata": {
    "ExecuteTime": {
     "end_time": "2020-05-03T10:43:40.417328Z",
     "start_time": "2020-05-03T10:43:29.762557Z"
    }
   },
   "outputs": [
    {
     "name": "stdout",
     "output_type": "stream",
     "text": [
      "0.25.3\n",
      "1.16.5\n",
      "0.9.0\n",
      "TensorFlow Version: 2.1.0\n",
      "Default GPU Device: /device:GPU:0\n"
     ]
    }
   ],
   "source": [
    "import numpy as np\n",
    "import pandas as pd\n",
    "import pandas_summary\n",
    "import matplotlib.pyplot as plt\n",
    "import seaborn as sns\n",
    "import scipy.stats as stats\n",
    "import datetime as dt\n",
    "from datetime import datetime\n",
    "from datetime import timedelta\n",
    "%matplotlib inline\n",
    "import math\n",
    "import pandas_profiling\n",
    "from sklearn.model_selection import train_test_split\n",
    "from sklearn import metrics\n",
    "\n",
    "print(pd.__version__)\n",
    "print(np.__version__)\n",
    "print(sns.__version__)\n",
    "\n",
    "from distutils.version import LooseVersion\n",
    "import warnings\n",
    "import tensorflow as tf\n",
    "\n",
    "# Check TensorFlow Version\n",
    "assert LooseVersion(tf.__version__) >= LooseVersion('1.0'), 'Please use TensorFlow version 1.0 or newer.  You are using {}'.format(tf.__version__)\n",
    "print('TensorFlow Version: {}'.format(tf.__version__))\n",
    "\n",
    "# Check for a GPU\n",
    "if not tf.test.gpu_device_name():\n",
    "    warnings.warn('No GPU found. Please ensure you have installed TensorFlow correctly')\n",
    "else:\n",
    "    print('Default GPU Device: {}'.format(tf.test.gpu_device_name()))"
   ]
  },
  {
   "cell_type": "markdown",
   "metadata": {},
   "source": [
    "## User Defined Functions"
   ]
  },
  {
   "cell_type": "code",
   "execution_count": 2,
   "metadata": {
    "ExecuteTime": {
     "end_time": "2020-05-03T10:43:40.426304Z",
     "start_time": "2020-05-03T10:43:40.419323Z"
    }
   },
   "outputs": [],
   "source": [
    "# Create Data audit Report for continuous variables\n",
    "def continuous_var_summary(x):\n",
    "    return pd.Series([\n",
    "        x.count(),\n",
    "        x.isnull().sum(),\n",
    "        x.sum(),\n",
    "        x.mean(),\n",
    "        x.median(),\n",
    "        x.std(),\n",
    "        x.var(),\n",
    "        x.min(),\n",
    "        x.quantile(0.01),\n",
    "        x.quantile(0.05),\n",
    "        x.quantile(0.10),\n",
    "        x.quantile(0.25),\n",
    "        x.quantile(0.50),\n",
    "        x.quantile(0.75),\n",
    "        x.quantile(0.90),\n",
    "        x.quantile(0.95),\n",
    "        x.quantile(0.99),\n",
    "        x.max()\n",
    "    ],\n",
    "                     index=[\n",
    "                         'N', 'NMISS', 'SUM', 'MEAN', 'MEDIAN', 'STD', 'VAR',\n",
    "                         'MIN', 'P1', 'P5', 'P10', 'P25', 'P50', 'P75', 'P90',\n",
    "                         'P95', 'P99', 'MAX'\n",
    "                     ])"
   ]
  },
  {
   "cell_type": "code",
   "execution_count": 3,
   "metadata": {
    "ExecuteTime": {
     "end_time": "2020-05-03T10:43:40.435280Z",
     "start_time": "2020-05-03T10:43:40.428299Z"
    }
   },
   "outputs": [],
   "source": [
    "# Create Data audit Report for categorical variables\n",
    "def categorical_var_summary(x):\n",
    "    Mode = x.value_counts().sort_values(ascending=False)[0:1].reset_index()\n",
    "    return pd.Series([\n",
    "        x.count(),\n",
    "        x.isnull().sum(), Mode.iloc[0, 0], Mode.iloc[0, 1],\n",
    "        round(Mode.iloc[0, 1] * 100 / x.count(), 2)\n",
    "    ],\n",
    "                     index=['N', 'NMISS', 'MODE', 'FREQ', 'PERCENT'])"
   ]
  },
  {
   "cell_type": "code",
   "execution_count": 4,
   "metadata": {
    "ExecuteTime": {
     "end_time": "2020-05-03T10:43:40.442261Z",
     "start_time": "2020-05-03T10:43:40.437275Z"
    }
   },
   "outputs": [],
   "source": [
    "# Missing value imputation for categorical and continuous variables\n",
    "def missing_imputation(x, stats='mean'):\n",
    "    if (x.dtypes == 'float64') | (x.dtypes == 'int64'):\n",
    "        x = x.fillna(x.mean()) if stats == 'mean' else x.fillna(x.median())\n",
    "    else:\n",
    "        x = x.fillna(x.mode())\n",
    "    return x"
   ]
  },
  {
   "cell_type": "code",
   "execution_count": 5,
   "metadata": {
    "ExecuteTime": {
     "end_time": "2020-05-03T10:43:40.448246Z",
     "start_time": "2020-05-03T10:43:40.443260Z"
    }
   },
   "outputs": [],
   "source": [
    "# An utility function to create dummy variable\n",
    "def create_dummies(df, colname):\n",
    "    col_dummies = pd.get_dummies(df[colname], prefix=colname, drop_first=True)\n",
    "    df = pd.concat([df, col_dummies], axis=1)\n",
    "    df.drop(colname, axis=1, inplace=True)\n",
    "    return df"
   ]
  },
  {
   "cell_type": "code",
   "execution_count": 6,
   "metadata": {
    "ExecuteTime": {
     "end_time": "2020-05-03T10:43:40.454229Z",
     "start_time": "2020-05-03T10:43:40.450242Z"
    }
   },
   "outputs": [],
   "source": [
    "# create user defined function to create the freq plots\n",
    "def fn_countplot(pd_series):\n",
    "    plt.figure(figsize=(5, 3))\n",
    "    sns.countplot(y=pd_series)\n",
    "    print('This is a freq chart for ' + pd_series.name)\n",
    "    plt.show()\n",
    "    return"
   ]
  },
  {
   "cell_type": "code",
   "execution_count": 7,
   "metadata": {
    "ExecuteTime": {
     "end_time": "2020-05-03T10:43:40.460213Z",
     "start_time": "2020-05-03T10:43:40.456224Z"
    }
   },
   "outputs": [],
   "source": [
    "#Outlier Treatment\n",
    "\n",
    "def outlier_capping(x):\n",
    "    x = x.clip(upper=x.quantile(0.99))\n",
    "    x = x.clip(lower=x.quantile(0.01))\n",
    "    return x"
   ]
  },
  {
   "cell_type": "markdown",
   "metadata": {
    "ExecuteTime": {
     "end_time": "2020-04-26T12:17:29.190129Z",
     "start_time": "2020-04-26T12:17:29.187137Z"
    }
   },
   "source": [
    "## Importing the files"
   ]
  },
  {
   "cell_type": "code",
   "execution_count": 8,
   "metadata": {
    "ExecuteTime": {
     "end_time": "2020-05-03T10:43:41.386248Z",
     "start_time": "2020-05-03T10:43:40.462208Z"
    }
   },
   "outputs": [],
   "source": [
    "incharge = pd.read_csv(\n",
    "    'Medicare_Charge_Inpatient_DRG100_DRG_Summary_by_DRG_FY2011.csv')\n",
    "\n",
    "outcharge = pd.read_csv(\n",
    "    'Medicare_Charge_Outpatient_APC30_Summary_by_APC_CY2011.csv')\n",
    "\n",
    "inpatient = pd.read_csv(\n",
    "    'Medicare_Provider_Charge_Inpatient_DRG100_FY2011.csv')\n",
    "\n",
    "outpatient = pd.read_csv(\n",
    "    'Medicare_Provider_Charge_Outpatient_APC30_CY2011_v2.csv')\n",
    "\n",
    "history = pd.read_csv('Patient_history_samp.csv')\n",
    "\n",
    "review = pd.read_csv('Review_patient_history_samp.csv')\n",
    "\n",
    "review_trans = pd.read_csv('Rreview_transaction_coo.csv')\n",
    "\n",
    "trans = pd.read_csv('Transaction_coo.csv')"
   ]
  },
  {
   "cell_type": "markdown",
   "metadata": {},
   "source": [
    "## User Defined Functions"
   ]
  },
  {
   "cell_type": "code",
   "execution_count": 9,
   "metadata": {
    "ExecuteTime": {
     "end_time": "2020-05-03T10:43:41.397726Z",
     "start_time": "2020-05-03T10:43:41.388242Z"
    }
   },
   "outputs": [],
   "source": [
    "# Create Data audit Report for continuous variables\n",
    "def continuous_var_summary(x):\n",
    "    return pd.Series([\n",
    "        x.count(),\n",
    "        x.isnull().sum(),\n",
    "        x.sum(),\n",
    "        x.mean(),\n",
    "        x.median(),\n",
    "        x.std(),\n",
    "        x.var(),\n",
    "        x.min(),\n",
    "        x.quantile(0.01),\n",
    "        x.quantile(0.05),\n",
    "        x.quantile(0.10),\n",
    "        x.quantile(0.25),\n",
    "        x.quantile(0.50),\n",
    "        x.quantile(0.75),\n",
    "        x.quantile(0.90),\n",
    "        x.quantile(0.95),\n",
    "        x.quantile(0.99),\n",
    "        x.max()\n",
    "    ],\n",
    "                     index=[\n",
    "                         'N', 'NMISS', 'SUM', 'MEAN', 'MEDIAN', 'STD', 'VAR',\n",
    "                         'MIN', 'P1', 'P5', 'P10', 'P25', 'P50', 'P75', 'P90',\n",
    "                         'P95', 'P99', 'MAX'\n",
    "                     ])"
   ]
  },
  {
   "cell_type": "code",
   "execution_count": 10,
   "metadata": {
    "ExecuteTime": {
     "end_time": "2020-05-03T10:43:41.406701Z",
     "start_time": "2020-05-03T10:43:41.399720Z"
    }
   },
   "outputs": [],
   "source": [
    "# Create Data audit Report for categorical variables\n",
    "def categorical_var_summary(x):\n",
    "    Mode = x.value_counts().sort_values(ascending=False)[0:1].reset_index()\n",
    "    return pd.Series([\n",
    "        x.count(),\n",
    "        x.isnull().sum(), Mode.iloc[0, 0], Mode.iloc[0, 1],\n",
    "        round(Mode.iloc[0, 1] * 100 / x.count(), 2)\n",
    "    ],\n",
    "                     index=['N', 'NMISS', 'MODE', 'FREQ', 'PERCENT'])"
   ]
  },
  {
   "cell_type": "code",
   "execution_count": 11,
   "metadata": {
    "ExecuteTime": {
     "end_time": "2020-05-03T10:43:41.413683Z",
     "start_time": "2020-05-03T10:43:41.408696Z"
    }
   },
   "outputs": [],
   "source": [
    "# Missing value imputation for categorical and continuous variables\n",
    "def missing_imputation(x, stats='mean'):\n",
    "    if (x.dtypes == 'float64') | (x.dtypes == 'int64'):\n",
    "        x = x.fillna(x.mean()) if stats == 'mean' else x.fillna(x.median())\n",
    "    else:\n",
    "        x = x.fillna(x.mode())\n",
    "    return x "
   ]
  },
  {
   "cell_type": "code",
   "execution_count": 12,
   "metadata": {
    "ExecuteTime": {
     "end_time": "2020-05-03T10:43:41.420664Z",
     "start_time": "2020-05-03T10:43:41.415679Z"
    }
   },
   "outputs": [],
   "source": [
    "#An utility function to create dummy variable\n",
    "def create_dummies(df, colname):\n",
    "    col_dummies = pd.get_dummies(df[colname], prefix=colname, drop_first=True)\n",
    "    df = pd.concat([df, col_dummies], axis=1)\n",
    "    df.drop(colname, axis=1, inplace=True)\n",
    "    return df"
   ]
  },
  {
   "cell_type": "code",
   "execution_count": 13,
   "metadata": {
    "ExecuteTime": {
     "end_time": "2020-05-03T10:43:41.428643Z",
     "start_time": "2020-05-03T10:43:41.422660Z"
    }
   },
   "outputs": [],
   "source": [
    "# create user defined function to create the freq plots\n",
    "def fn_countplot(pd_series):\n",
    "    plt.figure(figsize=(5, 3))\n",
    "    sns.countplot(y=pd_series)\n",
    "    print('This is a freq chart for ' + pd_series.name)\n",
    "    plt.show()\n",
    "    return"
   ]
  },
  {
   "cell_type": "markdown",
   "metadata": {},
   "source": [
    "## Data Inspection for Analysis"
   ]
  },
  {
   "cell_type": "code",
   "execution_count": 14,
   "metadata": {
    "ExecuteTime": {
     "end_time": "2020-05-03T10:43:41.509426Z",
     "start_time": "2020-05-03T10:43:41.430638Z"
    }
   },
   "outputs": [
    {
     "name": "stdout",
     "output_type": "stream",
     "text": [
      "<class 'pandas.core.frame.DataFrame'>\n",
      "RangeIndex: 163065 entries, 0 to 163064\n",
      "Data columns (total 12 columns):\n",
      "DRG Definition                                163065 non-null object\n",
      "Provider Id                                   163065 non-null int64\n",
      "Provider Name                                 163065 non-null object\n",
      "Provider Street Address                       163065 non-null object\n",
      "Provider City                                 163065 non-null object\n",
      "Provider State                                163065 non-null object\n",
      "Provider Zip Code                             163065 non-null int64\n",
      "Hospital Referral Region (HRR) Description    163065 non-null object\n",
      "Total Discharges                              163065 non-null int64\n",
      "Average Covered Charges                       163065 non-null float64\n",
      "Average Total Payments                        163065 non-null float64\n",
      "Average Medicare Payments                     163065 non-null float64\n",
      "dtypes: float64(3), int64(3), object(6)\n",
      "memory usage: 14.9+ MB\n"
     ]
    }
   ],
   "source": [
    "inpatient.info()\n",
    "#No null values found"
   ]
  },
  {
   "cell_type": "code",
   "execution_count": 15,
   "metadata": {
    "ExecuteTime": {
     "end_time": "2020-05-03T10:43:41.535358Z",
     "start_time": "2020-05-03T10:43:41.511422Z"
    }
   },
   "outputs": [
    {
     "name": "stdout",
     "output_type": "stream",
     "text": [
      "<class 'pandas.core.frame.DataFrame'>\n",
      "RangeIndex: 43372 entries, 0 to 43371\n",
      "Data columns (total 11 columns):\n",
      "APC                                           43372 non-null object\n",
      "Provider Id                                   43372 non-null int64\n",
      "Provider Name                                 43372 non-null object\n",
      "Provider Street Address                       43372 non-null object\n",
      "Provider City                                 43372 non-null object\n",
      "Provider State                                43372 non-null object\n",
      "Provider Zip Code                             43372 non-null int64\n",
      "Hospital Referral Region (HRR) Description    43372 non-null object\n",
      "Outpatient Services                           43372 non-null int64\n",
      "Average  Estimated Submitted Charges          43372 non-null float64\n",
      "Average Total Payments                        43372 non-null float64\n",
      "dtypes: float64(2), int64(3), object(6)\n",
      "memory usage: 3.6+ MB\n"
     ]
    }
   ],
   "source": [
    "outpatient.info()\n",
    "\n",
    "#No null values found"
   ]
  },
  {
   "cell_type": "code",
   "execution_count": 16,
   "metadata": {
    "ExecuteTime": {
     "end_time": "2020-05-03T10:43:41.545331Z",
     "start_time": "2020-05-03T10:43:41.537352Z"
    }
   },
   "outputs": [
    {
     "name": "stdout",
     "output_type": "stream",
     "text": [
      "<class 'pandas.core.frame.DataFrame'>\n",
      "RangeIndex: 100 entries, 0 to 99\n",
      "Data columns (total 5 columns):\n",
      "DRG Definition               100 non-null object\n",
      "Total Discharges             100 non-null int64\n",
      "Average Covered Charges      100 non-null float64\n",
      "Average Total Payments       100 non-null float64\n",
      "Average Medicare Payments    100 non-null float64\n",
      "dtypes: float64(3), int64(1), object(1)\n",
      "memory usage: 4.0+ KB\n"
     ]
    }
   ],
   "source": [
    "incharge.info()"
   ]
  },
  {
   "cell_type": "code",
   "execution_count": 17,
   "metadata": {
    "ExecuteTime": {
     "end_time": "2020-05-03T10:43:41.554306Z",
     "start_time": "2020-05-03T10:43:41.547328Z"
    }
   },
   "outputs": [
    {
     "name": "stdout",
     "output_type": "stream",
     "text": [
      "<class 'pandas.core.frame.DataFrame'>\n",
      "RangeIndex: 30 entries, 0 to 29\n",
      "Data columns (total 4 columns):\n",
      "APC                                    30 non-null object\n",
      "Outpatient Services                    30 non-null int64\n",
      "Average Estimated Submitted Charges    30 non-null float64\n",
      "Average Total Payments                 30 non-null float64\n",
      "dtypes: float64(2), int64(1), object(1)\n",
      "memory usage: 1.1+ KB\n"
     ]
    }
   ],
   "source": [
    "outcharge.info()"
   ]
  },
  {
   "cell_type": "code",
   "execution_count": 18,
   "metadata": {
    "ExecuteTime": {
     "end_time": "2020-05-03T10:43:41.573255Z",
     "start_time": "2020-05-03T10:43:41.556302Z"
    }
   },
   "outputs": [
    {
     "data": {
      "text/html": [
       "<div>\n",
       "<style scoped>\n",
       "    .dataframe tbody tr th:only-of-type {\n",
       "        vertical-align: middle;\n",
       "    }\n",
       "\n",
       "    .dataframe tbody tr th {\n",
       "        vertical-align: top;\n",
       "    }\n",
       "\n",
       "    .dataframe thead th {\n",
       "        text-align: right;\n",
       "    }\n",
       "</style>\n",
       "<table border=\"1\" class=\"dataframe\">\n",
       "  <thead>\n",
       "    <tr style=\"text-align: right;\">\n",
       "      <th></th>\n",
       "      <th>DRG Definition</th>\n",
       "      <th>Total Discharges</th>\n",
       "      <th>Average Covered Charges</th>\n",
       "      <th>Average Total Payments</th>\n",
       "      <th>Average Medicare Payments</th>\n",
       "    </tr>\n",
       "  </thead>\n",
       "  <tbody>\n",
       "    <tr>\n",
       "      <th>0</th>\n",
       "      <td>039 - EXTRACRANIAL PROCEDURES W/O CC/MCC</td>\n",
       "      <td>37861</td>\n",
       "      <td>29228.55368</td>\n",
       "      <td>6902.381289</td>\n",
       "      <td>5514.435910</td>\n",
       "    </tr>\n",
       "    <tr>\n",
       "      <th>1</th>\n",
       "      <td>057 - DEGENERATIVE NERVOUS SYSTEM DISORDERS W/...</td>\n",
       "      <td>37927</td>\n",
       "      <td>23924.98059</td>\n",
       "      <td>6809.799325</td>\n",
       "      <td>5791.920242</td>\n",
       "    </tr>\n",
       "    <tr>\n",
       "      <th>2</th>\n",
       "      <td>064 - INTRACRANIAL HEMORRHAGE OR CEREBRAL INFA...</td>\n",
       "      <td>68163</td>\n",
       "      <td>49186.95644</td>\n",
       "      <td>13614.616130</td>\n",
       "      <td>12415.825360</td>\n",
       "    </tr>\n",
       "    <tr>\n",
       "      <th>3</th>\n",
       "      <td>065 - INTRACRANIAL HEMORRHAGE OR CEREBRAL INFA...</td>\n",
       "      <td>110983</td>\n",
       "      <td>30371.27399</td>\n",
       "      <td>8037.269492</td>\n",
       "      <td>6858.689088</td>\n",
       "    </tr>\n",
       "    <tr>\n",
       "      <th>4</th>\n",
       "      <td>066 - INTRACRANIAL HEMORRHAGE OR CEREBRAL INFA...</td>\n",
       "      <td>62346</td>\n",
       "      <td>23300.06199</td>\n",
       "      <td>5762.881821</td>\n",
       "      <td>4508.202659</td>\n",
       "    </tr>\n",
       "  </tbody>\n",
       "</table>\n",
       "</div>"
      ],
      "text/plain": [
       "                                      DRG Definition  Total Discharges  \\\n",
       "0           039 - EXTRACRANIAL PROCEDURES W/O CC/MCC             37861   \n",
       "1  057 - DEGENERATIVE NERVOUS SYSTEM DISORDERS W/...             37927   \n",
       "2  064 - INTRACRANIAL HEMORRHAGE OR CEREBRAL INFA...             68163   \n",
       "3  065 - INTRACRANIAL HEMORRHAGE OR CEREBRAL INFA...            110983   \n",
       "4  066 - INTRACRANIAL HEMORRHAGE OR CEREBRAL INFA...             62346   \n",
       "\n",
       "   Average Covered Charges  Average Total Payments  Average Medicare Payments  \n",
       "0              29228.55368             6902.381289                5514.435910  \n",
       "1              23924.98059             6809.799325                5791.920242  \n",
       "2              49186.95644            13614.616130               12415.825360  \n",
       "3              30371.27399             8037.269492                6858.689088  \n",
       "4              23300.06199             5762.881821                4508.202659  "
      ]
     },
     "execution_count": 18,
     "metadata": {},
     "output_type": "execute_result"
    }
   ],
   "source": [
    "incharge.head()"
   ]
  },
  {
   "cell_type": "code",
   "execution_count": 19,
   "metadata": {
    "ExecuteTime": {
     "end_time": "2020-05-03T10:43:41.586222Z",
     "start_time": "2020-05-03T10:43:41.574253Z"
    }
   },
   "outputs": [
    {
     "data": {
      "text/html": [
       "<div>\n",
       "<style scoped>\n",
       "    .dataframe tbody tr th:only-of-type {\n",
       "        vertical-align: middle;\n",
       "    }\n",
       "\n",
       "    .dataframe tbody tr th {\n",
       "        vertical-align: top;\n",
       "    }\n",
       "\n",
       "    .dataframe thead th {\n",
       "        text-align: right;\n",
       "    }\n",
       "</style>\n",
       "<table border=\"1\" class=\"dataframe\">\n",
       "  <thead>\n",
       "    <tr style=\"text-align: right;\">\n",
       "      <th></th>\n",
       "      <th>APC</th>\n",
       "      <th>Outpatient Services</th>\n",
       "      <th>Average Estimated Submitted Charges</th>\n",
       "      <th>Average Total Payments</th>\n",
       "    </tr>\n",
       "  </thead>\n",
       "  <tbody>\n",
       "    <tr>\n",
       "      <th>0</th>\n",
       "      <td>0012 - Level I Debridement &amp; Destruction</td>\n",
       "      <td>275987</td>\n",
       "      <td>74.202956</td>\n",
       "      <td>16.147079</td>\n",
       "    </tr>\n",
       "    <tr>\n",
       "      <th>1</th>\n",
       "      <td>0013 - Level II Debridement &amp; Destruction</td>\n",
       "      <td>434706</td>\n",
       "      <td>196.170070</td>\n",
       "      <td>56.133853</td>\n",
       "    </tr>\n",
       "    <tr>\n",
       "      <th>2</th>\n",
       "      <td>0015 - Level III Debridement &amp; Destruction</td>\n",
       "      <td>509576</td>\n",
       "      <td>326.503444</td>\n",
       "      <td>97.156250</td>\n",
       "    </tr>\n",
       "    <tr>\n",
       "      <th>3</th>\n",
       "      <td>0019 - Level I Excision/ Biopsy</td>\n",
       "      <td>27860</td>\n",
       "      <td>2013.181972</td>\n",
       "      <td>330.908369</td>\n",
       "    </tr>\n",
       "    <tr>\n",
       "      <th>4</th>\n",
       "      <td>0020 - Level II Excision/ Biopsy</td>\n",
       "      <td>40642</td>\n",
       "      <td>3161.457873</td>\n",
       "      <td>567.156154</td>\n",
       "    </tr>\n",
       "  </tbody>\n",
       "</table>\n",
       "</div>"
      ],
      "text/plain": [
       "                                          APC  Outpatient Services  \\\n",
       "0    0012 - Level I Debridement & Destruction               275987   \n",
       "1   0013 - Level II Debridement & Destruction               434706   \n",
       "2  0015 - Level III Debridement & Destruction               509576   \n",
       "3             0019 - Level I Excision/ Biopsy                27860   \n",
       "4            0020 - Level II Excision/ Biopsy                40642   \n",
       "\n",
       "   Average Estimated Submitted Charges  Average Total Payments  \n",
       "0                            74.202956               16.147079  \n",
       "1                           196.170070               56.133853  \n",
       "2                           326.503444               97.156250  \n",
       "3                          2013.181972              330.908369  \n",
       "4                          3161.457873              567.156154  "
      ]
     },
     "execution_count": 19,
     "metadata": {},
     "output_type": "execute_result"
    }
   ],
   "source": [
    "outcharge.head()"
   ]
  },
  {
   "cell_type": "code",
   "execution_count": 20,
   "metadata": {
    "ExecuteTime": {
     "end_time": "2020-05-03T10:43:41.598189Z",
     "start_time": "2020-05-03T10:43:41.587219Z"
    }
   },
   "outputs": [
    {
     "data": {
      "text/html": [
       "<div>\n",
       "<style scoped>\n",
       "    .dataframe tbody tr th:only-of-type {\n",
       "        vertical-align: middle;\n",
       "    }\n",
       "\n",
       "    .dataframe tbody tr th {\n",
       "        vertical-align: top;\n",
       "    }\n",
       "\n",
       "    .dataframe thead th {\n",
       "        text-align: right;\n",
       "    }\n",
       "</style>\n",
       "<table border=\"1\" class=\"dataframe\">\n",
       "  <thead>\n",
       "    <tr style=\"text-align: right;\">\n",
       "      <th></th>\n",
       "      <th>DRG Definition</th>\n",
       "      <th>Provider Id</th>\n",
       "      <th>Provider Name</th>\n",
       "      <th>Provider Street Address</th>\n",
       "      <th>Provider City</th>\n",
       "      <th>Provider State</th>\n",
       "      <th>Provider Zip Code</th>\n",
       "      <th>Hospital Referral Region (HRR) Description</th>\n",
       "      <th>Total Discharges</th>\n",
       "      <th>Average Covered Charges</th>\n",
       "      <th>Average Total Payments</th>\n",
       "      <th>Average Medicare Payments</th>\n",
       "    </tr>\n",
       "  </thead>\n",
       "  <tbody>\n",
       "    <tr>\n",
       "      <th>0</th>\n",
       "      <td>039 - EXTRACRANIAL PROCEDURES W/O CC/MCC</td>\n",
       "      <td>10001</td>\n",
       "      <td>SOUTHEAST ALABAMA MEDICAL CENTER</td>\n",
       "      <td>1108 ROSS CLARK CIRCLE</td>\n",
       "      <td>DOTHAN</td>\n",
       "      <td>AL</td>\n",
       "      <td>36301</td>\n",
       "      <td>AL - Dothan</td>\n",
       "      <td>91</td>\n",
       "      <td>32963.07692</td>\n",
       "      <td>5777.241758</td>\n",
       "      <td>4763.736264</td>\n",
       "    </tr>\n",
       "    <tr>\n",
       "      <th>1</th>\n",
       "      <td>039 - EXTRACRANIAL PROCEDURES W/O CC/MCC</td>\n",
       "      <td>10005</td>\n",
       "      <td>MARSHALL MEDICAL CENTER SOUTH</td>\n",
       "      <td>2505 U S HIGHWAY 431 NORTH</td>\n",
       "      <td>BOAZ</td>\n",
       "      <td>AL</td>\n",
       "      <td>35957</td>\n",
       "      <td>AL - Birmingham</td>\n",
       "      <td>14</td>\n",
       "      <td>15131.85714</td>\n",
       "      <td>5787.571429</td>\n",
       "      <td>4976.714286</td>\n",
       "    </tr>\n",
       "    <tr>\n",
       "      <th>2</th>\n",
       "      <td>039 - EXTRACRANIAL PROCEDURES W/O CC/MCC</td>\n",
       "      <td>10006</td>\n",
       "      <td>ELIZA COFFEE MEMORIAL HOSPITAL</td>\n",
       "      <td>205 MARENGO STREET</td>\n",
       "      <td>FLORENCE</td>\n",
       "      <td>AL</td>\n",
       "      <td>35631</td>\n",
       "      <td>AL - Birmingham</td>\n",
       "      <td>24</td>\n",
       "      <td>37560.37500</td>\n",
       "      <td>5434.958333</td>\n",
       "      <td>4453.791667</td>\n",
       "    </tr>\n",
       "    <tr>\n",
       "      <th>3</th>\n",
       "      <td>039 - EXTRACRANIAL PROCEDURES W/O CC/MCC</td>\n",
       "      <td>10011</td>\n",
       "      <td>ST VINCENT'S EAST</td>\n",
       "      <td>50 MEDICAL PARK EAST DRIVE</td>\n",
       "      <td>BIRMINGHAM</td>\n",
       "      <td>AL</td>\n",
       "      <td>35235</td>\n",
       "      <td>AL - Birmingham</td>\n",
       "      <td>25</td>\n",
       "      <td>13998.28000</td>\n",
       "      <td>5417.560000</td>\n",
       "      <td>4129.160000</td>\n",
       "    </tr>\n",
       "    <tr>\n",
       "      <th>4</th>\n",
       "      <td>039 - EXTRACRANIAL PROCEDURES W/O CC/MCC</td>\n",
       "      <td>10016</td>\n",
       "      <td>SHELBY BAPTIST MEDICAL CENTER</td>\n",
       "      <td>1000 FIRST STREET NORTH</td>\n",
       "      <td>ALABASTER</td>\n",
       "      <td>AL</td>\n",
       "      <td>35007</td>\n",
       "      <td>AL - Birmingham</td>\n",
       "      <td>18</td>\n",
       "      <td>31633.27778</td>\n",
       "      <td>5658.333333</td>\n",
       "      <td>4851.444444</td>\n",
       "    </tr>\n",
       "  </tbody>\n",
       "</table>\n",
       "</div>"
      ],
      "text/plain": [
       "                             DRG Definition  Provider Id  \\\n",
       "0  039 - EXTRACRANIAL PROCEDURES W/O CC/MCC        10001   \n",
       "1  039 - EXTRACRANIAL PROCEDURES W/O CC/MCC        10005   \n",
       "2  039 - EXTRACRANIAL PROCEDURES W/O CC/MCC        10006   \n",
       "3  039 - EXTRACRANIAL PROCEDURES W/O CC/MCC        10011   \n",
       "4  039 - EXTRACRANIAL PROCEDURES W/O CC/MCC        10016   \n",
       "\n",
       "                      Provider Name     Provider Street Address Provider City  \\\n",
       "0  SOUTHEAST ALABAMA MEDICAL CENTER      1108 ROSS CLARK CIRCLE        DOTHAN   \n",
       "1     MARSHALL MEDICAL CENTER SOUTH  2505 U S HIGHWAY 431 NORTH          BOAZ   \n",
       "2    ELIZA COFFEE MEMORIAL HOSPITAL          205 MARENGO STREET      FLORENCE   \n",
       "3                 ST VINCENT'S EAST  50 MEDICAL PARK EAST DRIVE    BIRMINGHAM   \n",
       "4     SHELBY BAPTIST MEDICAL CENTER     1000 FIRST STREET NORTH     ALABASTER   \n",
       "\n",
       "  Provider State  Provider Zip Code  \\\n",
       "0             AL              36301   \n",
       "1             AL              35957   \n",
       "2             AL              35631   \n",
       "3             AL              35235   \n",
       "4             AL              35007   \n",
       "\n",
       "  Hospital Referral Region (HRR) Description  Total Discharges  \\\n",
       "0                                AL - Dothan                91   \n",
       "1                            AL - Birmingham                14   \n",
       "2                            AL - Birmingham                24   \n",
       "3                            AL - Birmingham                25   \n",
       "4                            AL - Birmingham                18   \n",
       "\n",
       "   Average Covered Charges  Average Total Payments  Average Medicare Payments  \n",
       "0              32963.07692             5777.241758                4763.736264  \n",
       "1              15131.85714             5787.571429                4976.714286  \n",
       "2              37560.37500             5434.958333                4453.791667  \n",
       "3              13998.28000             5417.560000                4129.160000  \n",
       "4              31633.27778             5658.333333                4851.444444  "
      ]
     },
     "execution_count": 20,
     "metadata": {},
     "output_type": "execute_result"
    }
   ],
   "source": [
    "inpatient.head()"
   ]
  },
  {
   "cell_type": "code",
   "execution_count": 21,
   "metadata": {
    "ExecuteTime": {
     "end_time": "2020-05-03T10:43:41.610157Z",
     "start_time": "2020-05-03T10:43:41.599187Z"
    }
   },
   "outputs": [
    {
     "data": {
      "text/html": [
       "<div>\n",
       "<style scoped>\n",
       "    .dataframe tbody tr th:only-of-type {\n",
       "        vertical-align: middle;\n",
       "    }\n",
       "\n",
       "    .dataframe tbody tr th {\n",
       "        vertical-align: top;\n",
       "    }\n",
       "\n",
       "    .dataframe thead th {\n",
       "        text-align: right;\n",
       "    }\n",
       "</style>\n",
       "<table border=\"1\" class=\"dataframe\">\n",
       "  <thead>\n",
       "    <tr style=\"text-align: right;\">\n",
       "      <th></th>\n",
       "      <th>APC</th>\n",
       "      <th>Provider Id</th>\n",
       "      <th>Provider Name</th>\n",
       "      <th>Provider Street Address</th>\n",
       "      <th>Provider City</th>\n",
       "      <th>Provider State</th>\n",
       "      <th>Provider Zip Code</th>\n",
       "      <th>Hospital Referral Region (HRR) Description</th>\n",
       "      <th>Outpatient Services</th>\n",
       "      <th>Average  Estimated Submitted Charges</th>\n",
       "      <th>Average Total Payments</th>\n",
       "    </tr>\n",
       "  </thead>\n",
       "  <tbody>\n",
       "    <tr>\n",
       "      <th>0</th>\n",
       "      <td>0012 - Level I Debridement &amp; Destruction</td>\n",
       "      <td>10029</td>\n",
       "      <td>EAST ALABAMA MEDICAL CENTER AND SNF</td>\n",
       "      <td>2000 PEPPERELL PARKWAY</td>\n",
       "      <td>OPELIKA</td>\n",
       "      <td>AL</td>\n",
       "      <td>36801</td>\n",
       "      <td>AL - Birmingham</td>\n",
       "      <td>23</td>\n",
       "      <td>78.086957</td>\n",
       "      <td>21.910435</td>\n",
       "    </tr>\n",
       "    <tr>\n",
       "      <th>1</th>\n",
       "      <td>0012 - Level I Debridement &amp; Destruction</td>\n",
       "      <td>20024</td>\n",
       "      <td>CENTRAL PENINSULA GENERAL HOSPITAL</td>\n",
       "      <td>250 HOSPITAL PLACE</td>\n",
       "      <td>SOLDOTNA</td>\n",
       "      <td>AK</td>\n",
       "      <td>99669</td>\n",
       "      <td>AK - Anchorage</td>\n",
       "      <td>994</td>\n",
       "      <td>149.589749</td>\n",
       "      <td>36.623853</td>\n",
       "    </tr>\n",
       "    <tr>\n",
       "      <th>2</th>\n",
       "      <td>0012 - Level I Debridement &amp; Destruction</td>\n",
       "      <td>30064</td>\n",
       "      <td>UNIVERSITY OF ARIZONA MEDICAL CTR-UNIVERSIT, THE</td>\n",
       "      <td>1501 NORTH CAMPBELL AVENUE</td>\n",
       "      <td>TUCSON</td>\n",
       "      <td>AZ</td>\n",
       "      <td>85724</td>\n",
       "      <td>AZ - Tucson</td>\n",
       "      <td>1765</td>\n",
       "      <td>50.135411</td>\n",
       "      <td>14.541841</td>\n",
       "    </tr>\n",
       "    <tr>\n",
       "      <th>3</th>\n",
       "      <td>0012 - Level I Debridement &amp; Destruction</td>\n",
       "      <td>30088</td>\n",
       "      <td>BANNER BAYWOOD MEDICAL CENTER</td>\n",
       "      <td>6644 EAST BAYWOOD AVENUE</td>\n",
       "      <td>MESA</td>\n",
       "      <td>AZ</td>\n",
       "      <td>85206</td>\n",
       "      <td>AZ - Mesa</td>\n",
       "      <td>20</td>\n",
       "      <td>112.400000</td>\n",
       "      <td>23.736000</td>\n",
       "    </tr>\n",
       "    <tr>\n",
       "      <th>4</th>\n",
       "      <td>0012 - Level I Debridement &amp; Destruction</td>\n",
       "      <td>30111</td>\n",
       "      <td>UNIVERSITY OF ARIZONA MEDICAL CTR- SOUTH CAM, THE</td>\n",
       "      <td>2800 EAST AJO WAY</td>\n",
       "      <td>TUCSON</td>\n",
       "      <td>AZ</td>\n",
       "      <td>85713</td>\n",
       "      <td>AZ - Tucson</td>\n",
       "      <td>22</td>\n",
       "      <td>152.045455</td>\n",
       "      <td>16.569091</td>\n",
       "    </tr>\n",
       "  </tbody>\n",
       "</table>\n",
       "</div>"
      ],
      "text/plain": [
       "                                        APC  Provider Id  \\\n",
       "0  0012 - Level I Debridement & Destruction        10029   \n",
       "1  0012 - Level I Debridement & Destruction        20024   \n",
       "2  0012 - Level I Debridement & Destruction        30064   \n",
       "3  0012 - Level I Debridement & Destruction        30088   \n",
       "4  0012 - Level I Debridement & Destruction        30111   \n",
       "\n",
       "                                       Provider Name  \\\n",
       "0                EAST ALABAMA MEDICAL CENTER AND SNF   \n",
       "1                 CENTRAL PENINSULA GENERAL HOSPITAL   \n",
       "2   UNIVERSITY OF ARIZONA MEDICAL CTR-UNIVERSIT, THE   \n",
       "3                      BANNER BAYWOOD MEDICAL CENTER   \n",
       "4  UNIVERSITY OF ARIZONA MEDICAL CTR- SOUTH CAM, THE   \n",
       "\n",
       "      Provider Street Address Provider City Provider State  Provider Zip Code  \\\n",
       "0      2000 PEPPERELL PARKWAY       OPELIKA             AL              36801   \n",
       "1          250 HOSPITAL PLACE      SOLDOTNA             AK              99669   \n",
       "2  1501 NORTH CAMPBELL AVENUE        TUCSON             AZ              85724   \n",
       "3    6644 EAST BAYWOOD AVENUE          MESA             AZ              85206   \n",
       "4           2800 EAST AJO WAY        TUCSON             AZ              85713   \n",
       "\n",
       "  Hospital Referral Region (HRR) Description  Outpatient Services  \\\n",
       "0                            AL - Birmingham                   23   \n",
       "1                             AK - Anchorage                  994   \n",
       "2                                AZ - Tucson                 1765   \n",
       "3                                  AZ - Mesa                   20   \n",
       "4                                AZ - Tucson                   22   \n",
       "\n",
       "   Average  Estimated Submitted Charges  Average Total Payments  \n",
       "0                             78.086957               21.910435  \n",
       "1                            149.589749               36.623853  \n",
       "2                             50.135411               14.541841  \n",
       "3                            112.400000               23.736000  \n",
       "4                            152.045455               16.569091  "
      ]
     },
     "execution_count": 21,
     "metadata": {},
     "output_type": "execute_result"
    }
   ],
   "source": [
    "outpatient.head()"
   ]
  },
  {
   "cell_type": "markdown",
   "metadata": {},
   "source": [
    "### Part1: Identify providers that overcharge for certain procedures or regions where procedures are too expensive."
   ]
  },
  {
   "cell_type": "markdown",
   "metadata": {},
   "source": [
    "### Part1: A: Highest Cost Variation"
   ]
  },
  {
   "cell_type": "code",
   "execution_count": 22,
   "metadata": {
    "ExecuteTime": {
     "end_time": "2020-05-03T10:43:41.615144Z",
     "start_time": "2020-05-03T10:43:41.612152Z"
    }
   },
   "outputs": [],
   "source": [
    "#For Inpatient"
   ]
  },
  {
   "cell_type": "code",
   "execution_count": 23,
   "metadata": {
    "ExecuteTime": {
     "end_time": "2020-05-03T10:43:41.631104Z",
     "start_time": "2020-05-03T10:43:41.618137Z"
    }
   },
   "outputs": [
    {
     "data": {
      "text/html": [
       "<div>\n",
       "<style scoped>\n",
       "    .dataframe tbody tr th:only-of-type {\n",
       "        vertical-align: middle;\n",
       "    }\n",
       "\n",
       "    .dataframe tbody tr th {\n",
       "        vertical-align: top;\n",
       "    }\n",
       "\n",
       "    .dataframe thead th {\n",
       "        text-align: right;\n",
       "    }\n",
       "</style>\n",
       "<table border=\"1\" class=\"dataframe\">\n",
       "  <thead>\n",
       "    <tr style=\"text-align: right;\">\n",
       "      <th></th>\n",
       "      <th>DRG Definition</th>\n",
       "      <th>Provider State</th>\n",
       "      <th>Average Medicare Payments</th>\n",
       "    </tr>\n",
       "  </thead>\n",
       "  <tbody>\n",
       "    <tr>\n",
       "      <th>0</th>\n",
       "      <td>039 - EXTRACRANIAL PROCEDURES W/O CC/MCC</td>\n",
       "      <td>AL</td>\n",
       "      <td>4763.736264</td>\n",
       "    </tr>\n",
       "    <tr>\n",
       "      <th>1</th>\n",
       "      <td>039 - EXTRACRANIAL PROCEDURES W/O CC/MCC</td>\n",
       "      <td>AL</td>\n",
       "      <td>4976.714286</td>\n",
       "    </tr>\n",
       "    <tr>\n",
       "      <th>2</th>\n",
       "      <td>039 - EXTRACRANIAL PROCEDURES W/O CC/MCC</td>\n",
       "      <td>AL</td>\n",
       "      <td>4453.791667</td>\n",
       "    </tr>\n",
       "    <tr>\n",
       "      <th>3</th>\n",
       "      <td>039 - EXTRACRANIAL PROCEDURES W/O CC/MCC</td>\n",
       "      <td>AL</td>\n",
       "      <td>4129.160000</td>\n",
       "    </tr>\n",
       "    <tr>\n",
       "      <th>4</th>\n",
       "      <td>039 - EXTRACRANIAL PROCEDURES W/O CC/MCC</td>\n",
       "      <td>AL</td>\n",
       "      <td>4851.444444</td>\n",
       "    </tr>\n",
       "  </tbody>\n",
       "</table>\n",
       "</div>"
      ],
      "text/plain": [
       "                             DRG Definition Provider State  \\\n",
       "0  039 - EXTRACRANIAL PROCEDURES W/O CC/MCC             AL   \n",
       "1  039 - EXTRACRANIAL PROCEDURES W/O CC/MCC             AL   \n",
       "2  039 - EXTRACRANIAL PROCEDURES W/O CC/MCC             AL   \n",
       "3  039 - EXTRACRANIAL PROCEDURES W/O CC/MCC             AL   \n",
       "4  039 - EXTRACRANIAL PROCEDURES W/O CC/MCC             AL   \n",
       "\n",
       "   Average Medicare Payments  \n",
       "0                4763.736264  \n",
       "1                4976.714286  \n",
       "2                4453.791667  \n",
       "3                4129.160000  \n",
       "4                4851.444444  "
      ]
     },
     "execution_count": 23,
     "metadata": {},
     "output_type": "execute_result"
    }
   ],
   "source": [
    "a = inpatient.loc[:, [\n",
    "    'DRG Definition', 'Provider State', 'Average Medicare Payments'\n",
    "]]\n",
    "a.head()"
   ]
  },
  {
   "cell_type": "code",
   "execution_count": 24,
   "metadata": {
    "ExecuteTime": {
     "end_time": "2020-05-03T10:43:43.018414Z",
     "start_time": "2020-05-03T10:43:41.633096Z"
    }
   },
   "outputs": [],
   "source": [
    "amax = a.loc[a.groupby([\n",
    "    'DRG Definition', 'Provider State'\n",
    "])['Average Medicare Payments'].idxmax()].reset_index(drop=True)\n",
    "\n",
    "amin = a.loc[a.groupby([\n",
    "    'DRG Definition', 'Provider State'\n",
    "])['Average Medicare Payments'].idxmin()].reset_index(drop=True)"
   ]
  },
  {
   "cell_type": "code",
   "execution_count": 32,
   "metadata": {
    "ExecuteTime": {
     "end_time": "2020-05-03T10:46:13.735845Z",
     "start_time": "2020-05-03T10:46:13.701936Z"
    }
   },
   "outputs": [
    {
     "data": {
      "text/html": [
       "<div>\n",
       "<style scoped>\n",
       "    .dataframe tbody tr th:only-of-type {\n",
       "        vertical-align: middle;\n",
       "    }\n",
       "\n",
       "    .dataframe tbody tr th {\n",
       "        vertical-align: top;\n",
       "    }\n",
       "\n",
       "    .dataframe thead th {\n",
       "        text-align: right;\n",
       "    }\n",
       "</style>\n",
       "<table border=\"1\" class=\"dataframe\">\n",
       "  <thead>\n",
       "    <tr style=\"text-align: right;\">\n",
       "      <th></th>\n",
       "      <th>DRG Definition</th>\n",
       "      <th>Provider State</th>\n",
       "      <th>Average Medicare Payments</th>\n",
       "      <th>Variation</th>\n",
       "    </tr>\n",
       "  </thead>\n",
       "  <tbody>\n",
       "    <tr>\n",
       "      <th>20</th>\n",
       "      <td>039 - EXTRACRANIAL PROCEDURES W/O CC/MCC</td>\n",
       "      <td>MD</td>\n",
       "      <td>15855.18182</td>\n",
       "      <td>11506.646106</td>\n",
       "    </tr>\n",
       "    <tr>\n",
       "      <th>55</th>\n",
       "      <td>057 - DEGENERATIVE NERVOUS SYSTEM DISORDERS W/...</td>\n",
       "      <td>CA</td>\n",
       "      <td>22553.56250</td>\n",
       "      <td>18335.419643</td>\n",
       "    </tr>\n",
       "    <tr>\n",
       "      <th>122</th>\n",
       "      <td>064 - INTRACRANIAL HEMORRHAGE OR CEREBRAL INFA...</td>\n",
       "      <td>MD</td>\n",
       "      <td>48632.28125</td>\n",
       "      <td>40323.965461</td>\n",
       "    </tr>\n",
       "    <tr>\n",
       "      <th>157</th>\n",
       "      <td>065 - INTRACRANIAL HEMORRHAGE OR CEREBRAL INFA...</td>\n",
       "      <td>CA</td>\n",
       "      <td>23402.26316</td>\n",
       "      <td>17437.811237</td>\n",
       "    </tr>\n",
       "    <tr>\n",
       "      <th>208</th>\n",
       "      <td>066 - INTRACRANIAL HEMORRHAGE OR CEREBRAL INFA...</td>\n",
       "      <td>CA</td>\n",
       "      <td>13710.23529</td>\n",
       "      <td>9972.780745</td>\n",
       "    </tr>\n",
       "  </tbody>\n",
       "</table>\n",
       "</div>"
      ],
      "text/plain": [
       "                                        DRG Definition Provider State  \\\n",
       "20            039 - EXTRACRANIAL PROCEDURES W/O CC/MCC             MD   \n",
       "55   057 - DEGENERATIVE NERVOUS SYSTEM DISORDERS W/...             CA   \n",
       "122  064 - INTRACRANIAL HEMORRHAGE OR CEREBRAL INFA...             MD   \n",
       "157  065 - INTRACRANIAL HEMORRHAGE OR CEREBRAL INFA...             CA   \n",
       "208  066 - INTRACRANIAL HEMORRHAGE OR CEREBRAL INFA...             CA   \n",
       "\n",
       "     Average Medicare Payments     Variation  \n",
       "20                 15855.18182  11506.646106  \n",
       "55                 22553.56250  18335.419643  \n",
       "122                48632.28125  40323.965461  \n",
       "157                23402.26316  17437.811237  \n",
       "208                13710.23529   9972.780745  "
      ]
     },
     "execution_count": 32,
     "metadata": {},
     "output_type": "execute_result"
    }
   ],
   "source": [
    "a1 = amax.copy()\n",
    "a1['Variation'] = amax['Average Medicare Payments'] - amin[\n",
    "    'Average Medicare Payments']\n",
    "#a1.drop(columns = ['Average Medicare Payments'] , inplace = True)\n",
    "a1.loc[a1.groupby(['DRG Definition'])['Variation'].idxmax()].head()"
   ]
  },
  {
   "cell_type": "code",
   "execution_count": 33,
   "metadata": {
    "ExecuteTime": {
     "end_time": "2020-05-03T10:46:43.093023Z",
     "start_time": "2020-05-03T10:46:43.074073Z"
    }
   },
   "outputs": [
    {
     "data": {
      "text/html": [
       "<div>\n",
       "<style scoped>\n",
       "    .dataframe tbody tr th:only-of-type {\n",
       "        vertical-align: middle;\n",
       "    }\n",
       "\n",
       "    .dataframe tbody tr th {\n",
       "        vertical-align: top;\n",
       "    }\n",
       "\n",
       "    .dataframe thead th {\n",
       "        text-align: right;\n",
       "    }\n",
       "</style>\n",
       "<table border=\"1\" class=\"dataframe\">\n",
       "  <thead>\n",
       "    <tr style=\"text-align: right;\">\n",
       "      <th></th>\n",
       "      <th>APC</th>\n",
       "      <th>Provider State</th>\n",
       "      <th>Average Total Payments</th>\n",
       "    </tr>\n",
       "  </thead>\n",
       "  <tbody>\n",
       "    <tr>\n",
       "      <th>0</th>\n",
       "      <td>0012 - Level I Debridement &amp; Destruction</td>\n",
       "      <td>AL</td>\n",
       "      <td>21.910435</td>\n",
       "    </tr>\n",
       "    <tr>\n",
       "      <th>1</th>\n",
       "      <td>0012 - Level I Debridement &amp; Destruction</td>\n",
       "      <td>AK</td>\n",
       "      <td>36.623853</td>\n",
       "    </tr>\n",
       "    <tr>\n",
       "      <th>2</th>\n",
       "      <td>0012 - Level I Debridement &amp; Destruction</td>\n",
       "      <td>AZ</td>\n",
       "      <td>14.541841</td>\n",
       "    </tr>\n",
       "    <tr>\n",
       "      <th>3</th>\n",
       "      <td>0012 - Level I Debridement &amp; Destruction</td>\n",
       "      <td>AZ</td>\n",
       "      <td>23.736000</td>\n",
       "    </tr>\n",
       "    <tr>\n",
       "      <th>4</th>\n",
       "      <td>0012 - Level I Debridement &amp; Destruction</td>\n",
       "      <td>AZ</td>\n",
       "      <td>16.569091</td>\n",
       "    </tr>\n",
       "  </tbody>\n",
       "</table>\n",
       "</div>"
      ],
      "text/plain": [
       "                                        APC Provider State  \\\n",
       "0  0012 - Level I Debridement & Destruction             AL   \n",
       "1  0012 - Level I Debridement & Destruction             AK   \n",
       "2  0012 - Level I Debridement & Destruction             AZ   \n",
       "3  0012 - Level I Debridement & Destruction             AZ   \n",
       "4  0012 - Level I Debridement & Destruction             AZ   \n",
       "\n",
       "   Average Total Payments  \n",
       "0               21.910435  \n",
       "1               36.623853  \n",
       "2               14.541841  \n",
       "3               23.736000  \n",
       "4               16.569091  "
      ]
     },
     "execution_count": 33,
     "metadata": {},
     "output_type": "execute_result"
    }
   ],
   "source": [
    "#For outpatient\n",
    "a = outpatient.loc[:, ['APC', 'Provider State', 'Average Total Payments']]\n",
    "a.head()"
   ]
  },
  {
   "cell_type": "code",
   "execution_count": 34,
   "metadata": {
    "ExecuteTime": {
     "end_time": "2020-05-03T10:47:10.575598Z",
     "start_time": "2020-05-03T10:47:10.154221Z"
    }
   },
   "outputs": [],
   "source": [
    "amax=a.loc[a.groupby(['APC','Provider State'])['Average Total Payments'].idxmax()].reset_index(drop=True)\n",
    "amin=a.loc[a.groupby(['APC','Provider State'])['Average Total Payments'].idxmin()].reset_index(drop=True)"
   ]
  },
  {
   "cell_type": "code",
   "execution_count": 36,
   "metadata": {
    "ExecuteTime": {
     "end_time": "2020-05-03T10:47:48.833742Z",
     "start_time": "2020-05-03T10:47:48.816281Z"
    }
   },
   "outputs": [
    {
     "data": {
      "text/html": [
       "<div>\n",
       "<style scoped>\n",
       "    .dataframe tbody tr th:only-of-type {\n",
       "        vertical-align: middle;\n",
       "    }\n",
       "\n",
       "    .dataframe tbody tr th {\n",
       "        vertical-align: top;\n",
       "    }\n",
       "\n",
       "    .dataframe thead th {\n",
       "        text-align: right;\n",
       "    }\n",
       "</style>\n",
       "<table border=\"1\" class=\"dataframe\">\n",
       "  <thead>\n",
       "    <tr style=\"text-align: right;\">\n",
       "      <th></th>\n",
       "      <th>APC</th>\n",
       "      <th>Provider State</th>\n",
       "      <th>Average Total Payments</th>\n",
       "      <th>Variation</th>\n",
       "    </tr>\n",
       "  </thead>\n",
       "  <tbody>\n",
       "    <tr>\n",
       "      <th>20</th>\n",
       "      <td>0012 - Level I Debridement &amp; Destruction</td>\n",
       "      <td>MI</td>\n",
       "      <td>27.898261</td>\n",
       "      <td>20.593261</td>\n",
       "    </tr>\n",
       "    <tr>\n",
       "      <th>51</th>\n",
       "      <td>0013 - Level II Debridement &amp; Destruction</td>\n",
       "      <td>CA</td>\n",
       "      <td>85.930000</td>\n",
       "      <td>47.025556</td>\n",
       "    </tr>\n",
       "    <tr>\n",
       "      <th>101</th>\n",
       "      <td>0015 - Level III Debridement &amp; Destruction</td>\n",
       "      <td>CA</td>\n",
       "      <td>142.186505</td>\n",
       "      <td>83.536505</td>\n",
       "    </tr>\n",
       "    <tr>\n",
       "      <th>175</th>\n",
       "      <td>0019 - Level I Excision/ Biopsy</td>\n",
       "      <td>NY</td>\n",
       "      <td>416.140000</td>\n",
       "      <td>180.010667</td>\n",
       "    </tr>\n",
       "    <tr>\n",
       "      <th>194</th>\n",
       "      <td>0020 - Level II Excision/ Biopsy</td>\n",
       "      <td>CA</td>\n",
       "      <td>808.850000</td>\n",
       "      <td>296.625625</td>\n",
       "    </tr>\n",
       "  </tbody>\n",
       "</table>\n",
       "</div>"
      ],
      "text/plain": [
       "                                            APC Provider State  \\\n",
       "20     0012 - Level I Debridement & Destruction             MI   \n",
       "51    0013 - Level II Debridement & Destruction             CA   \n",
       "101  0015 - Level III Debridement & Destruction             CA   \n",
       "175             0019 - Level I Excision/ Biopsy             NY   \n",
       "194            0020 - Level II Excision/ Biopsy             CA   \n",
       "\n",
       "     Average Total Payments   Variation  \n",
       "20                27.898261   20.593261  \n",
       "51                85.930000   47.025556  \n",
       "101              142.186505   83.536505  \n",
       "175              416.140000  180.010667  \n",
       "194              808.850000  296.625625  "
      ]
     },
     "execution_count": 36,
     "metadata": {},
     "output_type": "execute_result"
    }
   ],
   "source": [
    "a1 = amax.copy()\n",
    "a1['Variation'] = amax['Average Total Payments'] - amin[\n",
    "    'Average Total Payments']\n",
    "#a1.drop(columns=['Average Total Payments'], inplace=True)\n",
    "a1.loc[a1.groupby(['APC'])['Variation'].idxmax()].head()"
   ]
  },
  {
   "cell_type": "markdown",
   "metadata": {},
   "source": [
    "## Part1: B: Highest-Cost Claims by Provider"
   ]
  },
  {
   "cell_type": "code",
   "execution_count": 37,
   "metadata": {
    "ExecuteTime": {
     "end_time": "2020-05-03T10:53:04.393412Z",
     "start_time": "2020-05-03T10:53:04.382441Z"
    }
   },
   "outputs": [
    {
     "data": {
      "text/html": [
       "<div>\n",
       "<style scoped>\n",
       "    .dataframe tbody tr th:only-of-type {\n",
       "        vertical-align: middle;\n",
       "    }\n",
       "\n",
       "    .dataframe tbody tr th {\n",
       "        vertical-align: top;\n",
       "    }\n",
       "\n",
       "    .dataframe thead th {\n",
       "        text-align: right;\n",
       "    }\n",
       "</style>\n",
       "<table border=\"1\" class=\"dataframe\">\n",
       "  <thead>\n",
       "    <tr style=\"text-align: right;\">\n",
       "      <th></th>\n",
       "      <th>DRG Definition</th>\n",
       "      <th>Provider Id</th>\n",
       "      <th>Average Medicare Payments</th>\n",
       "    </tr>\n",
       "  </thead>\n",
       "  <tbody>\n",
       "    <tr>\n",
       "      <th>0</th>\n",
       "      <td>039 - EXTRACRANIAL PROCEDURES W/O CC/MCC</td>\n",
       "      <td>10001</td>\n",
       "      <td>4763.736264</td>\n",
       "    </tr>\n",
       "    <tr>\n",
       "      <th>1</th>\n",
       "      <td>039 - EXTRACRANIAL PROCEDURES W/O CC/MCC</td>\n",
       "      <td>10005</td>\n",
       "      <td>4976.714286</td>\n",
       "    </tr>\n",
       "    <tr>\n",
       "      <th>2</th>\n",
       "      <td>039 - EXTRACRANIAL PROCEDURES W/O CC/MCC</td>\n",
       "      <td>10006</td>\n",
       "      <td>4453.791667</td>\n",
       "    </tr>\n",
       "    <tr>\n",
       "      <th>3</th>\n",
       "      <td>039 - EXTRACRANIAL PROCEDURES W/O CC/MCC</td>\n",
       "      <td>10011</td>\n",
       "      <td>4129.160000</td>\n",
       "    </tr>\n",
       "    <tr>\n",
       "      <th>4</th>\n",
       "      <td>039 - EXTRACRANIAL PROCEDURES W/O CC/MCC</td>\n",
       "      <td>10016</td>\n",
       "      <td>4851.444444</td>\n",
       "    </tr>\n",
       "  </tbody>\n",
       "</table>\n",
       "</div>"
      ],
      "text/plain": [
       "                             DRG Definition  Provider Id  \\\n",
       "0  039 - EXTRACRANIAL PROCEDURES W/O CC/MCC        10001   \n",
       "1  039 - EXTRACRANIAL PROCEDURES W/O CC/MCC        10005   \n",
       "2  039 - EXTRACRANIAL PROCEDURES W/O CC/MCC        10006   \n",
       "3  039 - EXTRACRANIAL PROCEDURES W/O CC/MCC        10011   \n",
       "4  039 - EXTRACRANIAL PROCEDURES W/O CC/MCC        10016   \n",
       "\n",
       "   Average Medicare Payments  \n",
       "0                4763.736264  \n",
       "1                4976.714286  \n",
       "2                4453.791667  \n",
       "3                4129.160000  \n",
       "4                4851.444444  "
      ]
     },
     "execution_count": 37,
     "metadata": {},
     "output_type": "execute_result"
    }
   ],
   "source": [
    "#For inpatient\n",
    "b = inpatient.loc[:, [\n",
    "    'DRG Definition', 'Provider Id', 'Average Medicare Payments'\n",
    "]]\n",
    "b.head()"
   ]
  },
  {
   "cell_type": "code",
   "execution_count": 38,
   "metadata": {
    "ExecuteTime": {
     "end_time": "2020-05-03T10:53:42.427546Z",
     "start_time": "2020-05-03T10:53:21.767409Z"
    }
   },
   "outputs": [
    {
     "data": {
      "text/html": [
       "<div>\n",
       "<style scoped>\n",
       "    .dataframe tbody tr th:only-of-type {\n",
       "        vertical-align: middle;\n",
       "    }\n",
       "\n",
       "    .dataframe tbody tr th {\n",
       "        vertical-align: top;\n",
       "    }\n",
       "\n",
       "    .dataframe thead th {\n",
       "        text-align: right;\n",
       "    }\n",
       "</style>\n",
       "<table border=\"1\" class=\"dataframe\">\n",
       "  <thead>\n",
       "    <tr style=\"text-align: right;\">\n",
       "      <th></th>\n",
       "      <th>DRG Definition</th>\n",
       "      <th>Provider Id</th>\n",
       "      <th>Average Medicare Payments</th>\n",
       "    </tr>\n",
       "  </thead>\n",
       "  <tbody>\n",
       "    <tr>\n",
       "      <th>456</th>\n",
       "      <td>039 - EXTRACRANIAL PROCEDURES W/O CC/MCC</td>\n",
       "      <td>210029</td>\n",
       "      <td>15855.18182</td>\n",
       "    </tr>\n",
       "    <tr>\n",
       "      <th>1554</th>\n",
       "      <td>057 - DEGENERATIVE NERVOUS SYSTEM DISORDERS W/...</td>\n",
       "      <td>210009</td>\n",
       "      <td>22873.49398</td>\n",
       "    </tr>\n",
       "    <tr>\n",
       "      <th>2986</th>\n",
       "      <td>064 - INTRACRANIAL HEMORRHAGE OR CEREBRAL INFA...</td>\n",
       "      <td>210009</td>\n",
       "      <td>48632.28125</td>\n",
       "    </tr>\n",
       "    <tr>\n",
       "      <th>4156</th>\n",
       "      <td>065 - INTRACRANIAL HEMORRHAGE OR CEREBRAL INFA...</td>\n",
       "      <td>50228</td>\n",
       "      <td>23402.26316</td>\n",
       "    </tr>\n",
       "    <tr>\n",
       "      <th>6365</th>\n",
       "      <td>066 - INTRACRANIAL HEMORRHAGE OR CEREBRAL INFA...</td>\n",
       "      <td>50228</td>\n",
       "      <td>13710.23529</td>\n",
       "    </tr>\n",
       "  </tbody>\n",
       "</table>\n",
       "</div>"
      ],
      "text/plain": [
       "                                         DRG Definition  Provider Id  \\\n",
       "456            039 - EXTRACRANIAL PROCEDURES W/O CC/MCC       210029   \n",
       "1554  057 - DEGENERATIVE NERVOUS SYSTEM DISORDERS W/...       210009   \n",
       "2986  064 - INTRACRANIAL HEMORRHAGE OR CEREBRAL INFA...       210009   \n",
       "4156  065 - INTRACRANIAL HEMORRHAGE OR CEREBRAL INFA...        50228   \n",
       "6365  066 - INTRACRANIAL HEMORRHAGE OR CEREBRAL INFA...        50228   \n",
       "\n",
       "      Average Medicare Payments  \n",
       "456                 15855.18182  \n",
       "1554                22873.49398  \n",
       "2986                48632.28125  \n",
       "4156                23402.26316  \n",
       "6365                13710.23529  "
      ]
     },
     "execution_count": 38,
     "metadata": {},
     "output_type": "execute_result"
    }
   ],
   "source": [
    "bmax = b.loc[b.groupby([\n",
    "    'DRG Definition', 'Provider Id'\n",
    "])['Average Medicare Payments'].idxmax()].reset_index(drop=True)\n",
    "bmax.loc[bmax.groupby(['DRG Definition'\n",
    "                       ])['Average Medicare Payments'].idxmax()].head()"
   ]
  },
  {
   "cell_type": "code",
   "execution_count": 39,
   "metadata": {
    "ExecuteTime": {
     "end_time": "2020-05-03T10:53:44.915510Z",
     "start_time": "2020-05-03T10:53:44.902544Z"
    }
   },
   "outputs": [
    {
     "data": {
      "text/html": [
       "<div>\n",
       "<style scoped>\n",
       "    .dataframe tbody tr th:only-of-type {\n",
       "        vertical-align: middle;\n",
       "    }\n",
       "\n",
       "    .dataframe tbody tr th {\n",
       "        vertical-align: top;\n",
       "    }\n",
       "\n",
       "    .dataframe thead th {\n",
       "        text-align: right;\n",
       "    }\n",
       "</style>\n",
       "<table border=\"1\" class=\"dataframe\">\n",
       "  <thead>\n",
       "    <tr style=\"text-align: right;\">\n",
       "      <th></th>\n",
       "      <th>APC</th>\n",
       "      <th>Provider Id</th>\n",
       "      <th>Average Total Payments</th>\n",
       "    </tr>\n",
       "  </thead>\n",
       "  <tbody>\n",
       "    <tr>\n",
       "      <th>0</th>\n",
       "      <td>0012 - Level I Debridement &amp; Destruction</td>\n",
       "      <td>10029</td>\n",
       "      <td>21.910435</td>\n",
       "    </tr>\n",
       "    <tr>\n",
       "      <th>1</th>\n",
       "      <td>0012 - Level I Debridement &amp; Destruction</td>\n",
       "      <td>20024</td>\n",
       "      <td>36.623853</td>\n",
       "    </tr>\n",
       "    <tr>\n",
       "      <th>2</th>\n",
       "      <td>0012 - Level I Debridement &amp; Destruction</td>\n",
       "      <td>30064</td>\n",
       "      <td>14.541841</td>\n",
       "    </tr>\n",
       "    <tr>\n",
       "      <th>3</th>\n",
       "      <td>0012 - Level I Debridement &amp; Destruction</td>\n",
       "      <td>30088</td>\n",
       "      <td>23.736000</td>\n",
       "    </tr>\n",
       "    <tr>\n",
       "      <th>4</th>\n",
       "      <td>0012 - Level I Debridement &amp; Destruction</td>\n",
       "      <td>30111</td>\n",
       "      <td>16.569091</td>\n",
       "    </tr>\n",
       "  </tbody>\n",
       "</table>\n",
       "</div>"
      ],
      "text/plain": [
       "                                        APC  Provider Id  \\\n",
       "0  0012 - Level I Debridement & Destruction        10029   \n",
       "1  0012 - Level I Debridement & Destruction        20024   \n",
       "2  0012 - Level I Debridement & Destruction        30064   \n",
       "3  0012 - Level I Debridement & Destruction        30088   \n",
       "4  0012 - Level I Debridement & Destruction        30111   \n",
       "\n",
       "   Average Total Payments  \n",
       "0               21.910435  \n",
       "1               36.623853  \n",
       "2               14.541841  \n",
       "3               23.736000  \n",
       "4               16.569091  "
      ]
     },
     "execution_count": 39,
     "metadata": {},
     "output_type": "execute_result"
    }
   ],
   "source": [
    "#For outpatient\n",
    "b = outpatient[['APC', 'Provider Id', 'Average Total Payments']]\n",
    "b.head()"
   ]
  },
  {
   "cell_type": "code",
   "execution_count": 40,
   "metadata": {
    "ExecuteTime": {
     "end_time": "2020-05-03T10:54:11.132835Z",
     "start_time": "2020-05-03T10:54:05.734575Z"
    }
   },
   "outputs": [
    {
     "data": {
      "text/html": [
       "<div>\n",
       "<style scoped>\n",
       "    .dataframe tbody tr th:only-of-type {\n",
       "        vertical-align: middle;\n",
       "    }\n",
       "\n",
       "    .dataframe tbody tr th {\n",
       "        vertical-align: top;\n",
       "    }\n",
       "\n",
       "    .dataframe thead th {\n",
       "        text-align: right;\n",
       "    }\n",
       "</style>\n",
       "<table border=\"1\" class=\"dataframe\">\n",
       "  <thead>\n",
       "    <tr style=\"text-align: right;\">\n",
       "      <th></th>\n",
       "      <th>APC</th>\n",
       "      <th>Provider Id</th>\n",
       "      <th>Average Total Payments</th>\n",
       "    </tr>\n",
       "  </thead>\n",
       "  <tbody>\n",
       "    <tr>\n",
       "      <th>1</th>\n",
       "      <td>0012 - Level I Debridement &amp; Destruction</td>\n",
       "      <td>20024</td>\n",
       "      <td>36.623853</td>\n",
       "    </tr>\n",
       "    <tr>\n",
       "      <th>424</th>\n",
       "      <td>0013 - Level II Debridement &amp; Destruction</td>\n",
       "      <td>50334</td>\n",
       "      <td>85.930000</td>\n",
       "    </tr>\n",
       "    <tr>\n",
       "      <th>1874</th>\n",
       "      <td>0015 - Level III Debridement &amp; Destruction</td>\n",
       "      <td>50153</td>\n",
       "      <td>142.186505</td>\n",
       "    </tr>\n",
       "    <tr>\n",
       "      <th>3322</th>\n",
       "      <td>0019 - Level I Excision/ Biopsy</td>\n",
       "      <td>50002</td>\n",
       "      <td>470.720000</td>\n",
       "    </tr>\n",
       "    <tr>\n",
       "      <th>3837</th>\n",
       "      <td>0020 - Level II Excision/ Biopsy</td>\n",
       "      <td>50153</td>\n",
       "      <td>808.850000</td>\n",
       "    </tr>\n",
       "  </tbody>\n",
       "</table>\n",
       "</div>"
      ],
      "text/plain": [
       "                                             APC  Provider Id  \\\n",
       "1       0012 - Level I Debridement & Destruction        20024   \n",
       "424    0013 - Level II Debridement & Destruction        50334   \n",
       "1874  0015 - Level III Debridement & Destruction        50153   \n",
       "3322             0019 - Level I Excision/ Biopsy        50002   \n",
       "3837            0020 - Level II Excision/ Biopsy        50153   \n",
       "\n",
       "      Average Total Payments  \n",
       "1                  36.623853  \n",
       "424                85.930000  \n",
       "1874              142.186505  \n",
       "3322              470.720000  \n",
       "3837              808.850000  "
      ]
     },
     "execution_count": 40,
     "metadata": {},
     "output_type": "execute_result"
    }
   ],
   "source": [
    "bmax = b.loc[b.groupby(\n",
    "    ['APC',\n",
    "     'Provider Id'])['Average Total Payments'].idxmax()].reset_index(drop=True)\n",
    "bmax.loc[bmax.groupby(['APC'])['Average Total Payments'].idxmax()].head()"
   ]
  },
  {
   "cell_type": "code",
   "execution_count": 41,
   "metadata": {
    "ExecuteTime": {
     "end_time": "2020-05-03T10:56:15.455506Z",
     "start_time": "2020-05-03T10:56:15.451517Z"
    }
   },
   "outputs": [],
   "source": [
    "#Part1: C: Highest-Cost Claims by Region"
   ]
  },
  {
   "cell_type": "code",
   "execution_count": 44,
   "metadata": {
    "ExecuteTime": {
     "end_time": "2020-05-03T10:56:54.042133Z",
     "start_time": "2020-05-03T10:56:54.031161Z"
    }
   },
   "outputs": [
    {
     "data": {
      "text/html": [
       "<div>\n",
       "<style scoped>\n",
       "    .dataframe tbody tr th:only-of-type {\n",
       "        vertical-align: middle;\n",
       "    }\n",
       "\n",
       "    .dataframe tbody tr th {\n",
       "        vertical-align: top;\n",
       "    }\n",
       "\n",
       "    .dataframe thead th {\n",
       "        text-align: right;\n",
       "    }\n",
       "</style>\n",
       "<table border=\"1\" class=\"dataframe\">\n",
       "  <thead>\n",
       "    <tr style=\"text-align: right;\">\n",
       "      <th></th>\n",
       "      <th>DRG Definition</th>\n",
       "      <th>Provider State</th>\n",
       "      <th>Average Medicare Payments</th>\n",
       "    </tr>\n",
       "  </thead>\n",
       "  <tbody>\n",
       "    <tr>\n",
       "      <th>0</th>\n",
       "      <td>039 - EXTRACRANIAL PROCEDURES W/O CC/MCC</td>\n",
       "      <td>AL</td>\n",
       "      <td>4763.736264</td>\n",
       "    </tr>\n",
       "    <tr>\n",
       "      <th>1</th>\n",
       "      <td>039 - EXTRACRANIAL PROCEDURES W/O CC/MCC</td>\n",
       "      <td>AL</td>\n",
       "      <td>4976.714286</td>\n",
       "    </tr>\n",
       "    <tr>\n",
       "      <th>2</th>\n",
       "      <td>039 - EXTRACRANIAL PROCEDURES W/O CC/MCC</td>\n",
       "      <td>AL</td>\n",
       "      <td>4453.791667</td>\n",
       "    </tr>\n",
       "    <tr>\n",
       "      <th>3</th>\n",
       "      <td>039 - EXTRACRANIAL PROCEDURES W/O CC/MCC</td>\n",
       "      <td>AL</td>\n",
       "      <td>4129.160000</td>\n",
       "    </tr>\n",
       "    <tr>\n",
       "      <th>4</th>\n",
       "      <td>039 - EXTRACRANIAL PROCEDURES W/O CC/MCC</td>\n",
       "      <td>AL</td>\n",
       "      <td>4851.444444</td>\n",
       "    </tr>\n",
       "  </tbody>\n",
       "</table>\n",
       "</div>"
      ],
      "text/plain": [
       "                             DRG Definition Provider State  \\\n",
       "0  039 - EXTRACRANIAL PROCEDURES W/O CC/MCC             AL   \n",
       "1  039 - EXTRACRANIAL PROCEDURES W/O CC/MCC             AL   \n",
       "2  039 - EXTRACRANIAL PROCEDURES W/O CC/MCC             AL   \n",
       "3  039 - EXTRACRANIAL PROCEDURES W/O CC/MCC             AL   \n",
       "4  039 - EXTRACRANIAL PROCEDURES W/O CC/MCC             AL   \n",
       "\n",
       "   Average Medicare Payments  \n",
       "0                4763.736264  \n",
       "1                4976.714286  \n",
       "2                4453.791667  \n",
       "3                4129.160000  \n",
       "4                4851.444444  "
      ]
     },
     "execution_count": 44,
     "metadata": {},
     "output_type": "execute_result"
    }
   ],
   "source": [
    "#For inpatient\n",
    "c = inpatient.loc[:,[\n",
    "    'DRG Definition', 'Provider State', 'Average Medicare Payments'\n",
    "]]\n",
    "c.head()"
   ]
  },
  {
   "cell_type": "code",
   "execution_count": 45,
   "metadata": {
    "ExecuteTime": {
     "end_time": "2020-05-03T10:56:54.747260Z",
     "start_time": "2020-05-03T10:56:54.043130Z"
    }
   },
   "outputs": [
    {
     "data": {
      "text/html": [
       "<div>\n",
       "<style scoped>\n",
       "    .dataframe tbody tr th:only-of-type {\n",
       "        vertical-align: middle;\n",
       "    }\n",
       "\n",
       "    .dataframe tbody tr th {\n",
       "        vertical-align: top;\n",
       "    }\n",
       "\n",
       "    .dataframe thead th {\n",
       "        text-align: right;\n",
       "    }\n",
       "</style>\n",
       "<table border=\"1\" class=\"dataframe\">\n",
       "  <thead>\n",
       "    <tr style=\"text-align: right;\">\n",
       "      <th></th>\n",
       "      <th>DRG Definition</th>\n",
       "      <th>Provider State</th>\n",
       "      <th>Average Medicare Payments</th>\n",
       "    </tr>\n",
       "  </thead>\n",
       "  <tbody>\n",
       "    <tr>\n",
       "      <th>20</th>\n",
       "      <td>039 - EXTRACRANIAL PROCEDURES W/O CC/MCC</td>\n",
       "      <td>MD</td>\n",
       "      <td>15855.18182</td>\n",
       "    </tr>\n",
       "    <tr>\n",
       "      <th>71</th>\n",
       "      <td>057 - DEGENERATIVE NERVOUS SYSTEM DISORDERS W/...</td>\n",
       "      <td>MD</td>\n",
       "      <td>22873.49398</td>\n",
       "    </tr>\n",
       "    <tr>\n",
       "      <th>122</th>\n",
       "      <td>064 - INTRACRANIAL HEMORRHAGE OR CEREBRAL INFA...</td>\n",
       "      <td>MD</td>\n",
       "      <td>48632.28125</td>\n",
       "    </tr>\n",
       "    <tr>\n",
       "      <th>157</th>\n",
       "      <td>065 - INTRACRANIAL HEMORRHAGE OR CEREBRAL INFA...</td>\n",
       "      <td>CA</td>\n",
       "      <td>23402.26316</td>\n",
       "    </tr>\n",
       "    <tr>\n",
       "      <th>208</th>\n",
       "      <td>066 - INTRACRANIAL HEMORRHAGE OR CEREBRAL INFA...</td>\n",
       "      <td>CA</td>\n",
       "      <td>13710.23529</td>\n",
       "    </tr>\n",
       "  </tbody>\n",
       "</table>\n",
       "</div>"
      ],
      "text/plain": [
       "                                        DRG Definition Provider State  \\\n",
       "20            039 - EXTRACRANIAL PROCEDURES W/O CC/MCC             MD   \n",
       "71   057 - DEGENERATIVE NERVOUS SYSTEM DISORDERS W/...             MD   \n",
       "122  064 - INTRACRANIAL HEMORRHAGE OR CEREBRAL INFA...             MD   \n",
       "157  065 - INTRACRANIAL HEMORRHAGE OR CEREBRAL INFA...             CA   \n",
       "208  066 - INTRACRANIAL HEMORRHAGE OR CEREBRAL INFA...             CA   \n",
       "\n",
       "     Average Medicare Payments  \n",
       "20                 15855.18182  \n",
       "71                 22873.49398  \n",
       "122                48632.28125  \n",
       "157                23402.26316  \n",
       "208                13710.23529  "
      ]
     },
     "execution_count": 45,
     "metadata": {},
     "output_type": "execute_result"
    }
   ],
   "source": [
    "cmax = c.loc[c.groupby([\n",
    "    'DRG Definition', 'Provider State'\n",
    "])['Average Medicare Payments'].idxmax()].reset_index(drop=True)\n",
    "cmax.loc[cmax.groupby(['DRG Definition'\n",
    "                       ])['Average Medicare Payments'].idxmax()].head()"
   ]
  },
  {
   "cell_type": "code",
   "execution_count": 46,
   "metadata": {
    "ExecuteTime": {
     "end_time": "2020-05-03T10:57:04.313052Z",
     "start_time": "2020-05-03T10:57:04.303078Z"
    }
   },
   "outputs": [
    {
     "data": {
      "text/html": [
       "<div>\n",
       "<style scoped>\n",
       "    .dataframe tbody tr th:only-of-type {\n",
       "        vertical-align: middle;\n",
       "    }\n",
       "\n",
       "    .dataframe tbody tr th {\n",
       "        vertical-align: top;\n",
       "    }\n",
       "\n",
       "    .dataframe thead th {\n",
       "        text-align: right;\n",
       "    }\n",
       "</style>\n",
       "<table border=\"1\" class=\"dataframe\">\n",
       "  <thead>\n",
       "    <tr style=\"text-align: right;\">\n",
       "      <th></th>\n",
       "      <th>APC</th>\n",
       "      <th>Provider State</th>\n",
       "      <th>Average Total Payments</th>\n",
       "    </tr>\n",
       "  </thead>\n",
       "  <tbody>\n",
       "    <tr>\n",
       "      <th>0</th>\n",
       "      <td>0012 - Level I Debridement &amp; Destruction</td>\n",
       "      <td>AL</td>\n",
       "      <td>21.910435</td>\n",
       "    </tr>\n",
       "    <tr>\n",
       "      <th>1</th>\n",
       "      <td>0012 - Level I Debridement &amp; Destruction</td>\n",
       "      <td>AK</td>\n",
       "      <td>36.623853</td>\n",
       "    </tr>\n",
       "    <tr>\n",
       "      <th>2</th>\n",
       "      <td>0012 - Level I Debridement &amp; Destruction</td>\n",
       "      <td>AZ</td>\n",
       "      <td>14.541841</td>\n",
       "    </tr>\n",
       "    <tr>\n",
       "      <th>3</th>\n",
       "      <td>0012 - Level I Debridement &amp; Destruction</td>\n",
       "      <td>AZ</td>\n",
       "      <td>23.736000</td>\n",
       "    </tr>\n",
       "    <tr>\n",
       "      <th>4</th>\n",
       "      <td>0012 - Level I Debridement &amp; Destruction</td>\n",
       "      <td>AZ</td>\n",
       "      <td>16.569091</td>\n",
       "    </tr>\n",
       "  </tbody>\n",
       "</table>\n",
       "</div>"
      ],
      "text/plain": [
       "                                        APC Provider State  \\\n",
       "0  0012 - Level I Debridement & Destruction             AL   \n",
       "1  0012 - Level I Debridement & Destruction             AK   \n",
       "2  0012 - Level I Debridement & Destruction             AZ   \n",
       "3  0012 - Level I Debridement & Destruction             AZ   \n",
       "4  0012 - Level I Debridement & Destruction             AZ   \n",
       "\n",
       "   Average Total Payments  \n",
       "0               21.910435  \n",
       "1               36.623853  \n",
       "2               14.541841  \n",
       "3               23.736000  \n",
       "4               16.569091  "
      ]
     },
     "execution_count": 46,
     "metadata": {},
     "output_type": "execute_result"
    }
   ],
   "source": [
    "#For outpatient\n",
    "c = outpatient[['APC', 'Provider State', 'Average Total Payments']]\n",
    "c.head()"
   ]
  },
  {
   "cell_type": "code",
   "execution_count": 47,
   "metadata": {
    "ExecuteTime": {
     "end_time": "2020-05-03T10:57:16.507344Z",
     "start_time": "2020-05-03T10:57:16.287425Z"
    }
   },
   "outputs": [
    {
     "data": {
      "text/html": [
       "<div>\n",
       "<style scoped>\n",
       "    .dataframe tbody tr th:only-of-type {\n",
       "        vertical-align: middle;\n",
       "    }\n",
       "\n",
       "    .dataframe tbody tr th {\n",
       "        vertical-align: top;\n",
       "    }\n",
       "\n",
       "    .dataframe thead th {\n",
       "        text-align: right;\n",
       "    }\n",
       "</style>\n",
       "<table border=\"1\" class=\"dataframe\">\n",
       "  <thead>\n",
       "    <tr style=\"text-align: right;\">\n",
       "      <th></th>\n",
       "      <th>APC</th>\n",
       "      <th>Provider State</th>\n",
       "      <th>Average Total Payments</th>\n",
       "    </tr>\n",
       "  </thead>\n",
       "  <tbody>\n",
       "    <tr>\n",
       "      <th>0</th>\n",
       "      <td>0012 - Level I Debridement &amp; Destruction</td>\n",
       "      <td>AK</td>\n",
       "      <td>36.623853</td>\n",
       "    </tr>\n",
       "    <tr>\n",
       "      <th>51</th>\n",
       "      <td>0013 - Level II Debridement &amp; Destruction</td>\n",
       "      <td>CA</td>\n",
       "      <td>85.930000</td>\n",
       "    </tr>\n",
       "    <tr>\n",
       "      <th>101</th>\n",
       "      <td>0015 - Level III Debridement &amp; Destruction</td>\n",
       "      <td>CA</td>\n",
       "      <td>142.186505</td>\n",
       "    </tr>\n",
       "    <tr>\n",
       "      <th>150</th>\n",
       "      <td>0019 - Level I Excision/ Biopsy</td>\n",
       "      <td>CA</td>\n",
       "      <td>470.720000</td>\n",
       "    </tr>\n",
       "    <tr>\n",
       "      <th>194</th>\n",
       "      <td>0020 - Level II Excision/ Biopsy</td>\n",
       "      <td>CA</td>\n",
       "      <td>808.850000</td>\n",
       "    </tr>\n",
       "  </tbody>\n",
       "</table>\n",
       "</div>"
      ],
      "text/plain": [
       "                                            APC Provider State  \\\n",
       "0      0012 - Level I Debridement & Destruction             AK   \n",
       "51    0013 - Level II Debridement & Destruction             CA   \n",
       "101  0015 - Level III Debridement & Destruction             CA   \n",
       "150             0019 - Level I Excision/ Biopsy             CA   \n",
       "194            0020 - Level II Excision/ Biopsy             CA   \n",
       "\n",
       "     Average Total Payments  \n",
       "0                 36.623853  \n",
       "51                85.930000  \n",
       "101              142.186505  \n",
       "150              470.720000  \n",
       "194              808.850000  "
      ]
     },
     "execution_count": 47,
     "metadata": {},
     "output_type": "execute_result"
    }
   ],
   "source": [
    "cmax = c.loc[c.groupby([\n",
    "    'APC', 'Provider State'\n",
    "])['Average Total Payments'].idxmax()].reset_index(drop=True)\n",
    "cmax.loc[cmax.groupby(['APC'])['Average Total Payments'].idxmax()].head()"
   ]
  },
  {
   "cell_type": "code",
   "execution_count": 48,
   "metadata": {
    "ExecuteTime": {
     "end_time": "2020-05-03T10:57:23.770288Z",
     "start_time": "2020-05-03T10:57:23.766316Z"
    }
   },
   "outputs": [],
   "source": [
    "#Part1: D: Highest Number of Procedures and Largest Differences between Claims and Reimbursements"
   ]
  },
  {
   "cell_type": "code",
   "execution_count": 49,
   "metadata": {
    "ExecuteTime": {
     "end_time": "2020-05-03T10:57:32.503295Z",
     "start_time": "2020-05-03T10:57:32.484346Z"
    }
   },
   "outputs": [
    {
     "data": {
      "text/html": [
       "<div>\n",
       "<style scoped>\n",
       "    .dataframe tbody tr th:only-of-type {\n",
       "        vertical-align: middle;\n",
       "    }\n",
       "\n",
       "    .dataframe tbody tr th {\n",
       "        vertical-align: top;\n",
       "    }\n",
       "\n",
       "    .dataframe thead th {\n",
       "        text-align: right;\n",
       "    }\n",
       "</style>\n",
       "<table border=\"1\" class=\"dataframe\">\n",
       "  <thead>\n",
       "    <tr style=\"text-align: right;\">\n",
       "      <th></th>\n",
       "      <th>DRG Definition</th>\n",
       "      <th>Provider State</th>\n",
       "      <th>Total Discharges</th>\n",
       "      <th>Average Total Payments</th>\n",
       "      <th>Average Medicare Payments</th>\n",
       "    </tr>\n",
       "  </thead>\n",
       "  <tbody>\n",
       "    <tr>\n",
       "      <th>0</th>\n",
       "      <td>039 - EXTRACRANIAL PROCEDURES W/O CC/MCC</td>\n",
       "      <td>AL</td>\n",
       "      <td>91</td>\n",
       "      <td>5777.241758</td>\n",
       "      <td>4763.736264</td>\n",
       "    </tr>\n",
       "    <tr>\n",
       "      <th>1</th>\n",
       "      <td>039 - EXTRACRANIAL PROCEDURES W/O CC/MCC</td>\n",
       "      <td>AL</td>\n",
       "      <td>14</td>\n",
       "      <td>5787.571429</td>\n",
       "      <td>4976.714286</td>\n",
       "    </tr>\n",
       "    <tr>\n",
       "      <th>2</th>\n",
       "      <td>039 - EXTRACRANIAL PROCEDURES W/O CC/MCC</td>\n",
       "      <td>AL</td>\n",
       "      <td>24</td>\n",
       "      <td>5434.958333</td>\n",
       "      <td>4453.791667</td>\n",
       "    </tr>\n",
       "    <tr>\n",
       "      <th>3</th>\n",
       "      <td>039 - EXTRACRANIAL PROCEDURES W/O CC/MCC</td>\n",
       "      <td>AL</td>\n",
       "      <td>25</td>\n",
       "      <td>5417.560000</td>\n",
       "      <td>4129.160000</td>\n",
       "    </tr>\n",
       "    <tr>\n",
       "      <th>4</th>\n",
       "      <td>039 - EXTRACRANIAL PROCEDURES W/O CC/MCC</td>\n",
       "      <td>AL</td>\n",
       "      <td>18</td>\n",
       "      <td>5658.333333</td>\n",
       "      <td>4851.444444</td>\n",
       "    </tr>\n",
       "  </tbody>\n",
       "</table>\n",
       "</div>"
      ],
      "text/plain": [
       "                             DRG Definition Provider State  Total Discharges  \\\n",
       "0  039 - EXTRACRANIAL PROCEDURES W/O CC/MCC             AL                91   \n",
       "1  039 - EXTRACRANIAL PROCEDURES W/O CC/MCC             AL                14   \n",
       "2  039 - EXTRACRANIAL PROCEDURES W/O CC/MCC             AL                24   \n",
       "3  039 - EXTRACRANIAL PROCEDURES W/O CC/MCC             AL                25   \n",
       "4  039 - EXTRACRANIAL PROCEDURES W/O CC/MCC             AL                18   \n",
       "\n",
       "   Average Total Payments  Average Medicare Payments  \n",
       "0             5777.241758                4763.736264  \n",
       "1             5787.571429                4976.714286  \n",
       "2             5434.958333                4453.791667  \n",
       "3             5417.560000                4129.160000  \n",
       "4             5658.333333                4851.444444  "
      ]
     },
     "execution_count": 49,
     "metadata": {},
     "output_type": "execute_result"
    }
   ],
   "source": [
    "#For inpatient\n",
    "d = inpatient[[\n",
    "    'DRG Definition', 'Provider State', 'Total Discharges',\n",
    "    'Average Total Payments', 'Average Medicare Payments'\n",
    "]]\n",
    "d.head()"
   ]
  },
  {
   "cell_type": "code",
   "execution_count": 50,
   "metadata": {
    "ExecuteTime": {
     "end_time": "2020-05-03T10:57:44.126156Z",
     "start_time": "2020-05-03T10:57:43.326295Z"
    }
   },
   "outputs": [
    {
     "name": "stderr",
     "output_type": "stream",
     "text": [
      "C:\\Users\\shaur\\Anaconda3\\lib\\site-packages\\ipykernel_launcher.py:3: SettingWithCopyWarning: \n",
      "A value is trying to be set on a copy of a slice from a DataFrame.\n",
      "Try using .loc[row_indexer,col_indexer] = value instead\n",
      "\n",
      "See the caveats in the documentation: http://pandas.pydata.org/pandas-docs/stable/user_guide/indexing.html#returning-a-view-versus-a-copy\n",
      "  This is separate from the ipykernel package so we can avoid doing imports until\n",
      "C:\\Users\\shaur\\Anaconda3\\lib\\site-packages\\pandas\\core\\frame.py:4117: SettingWithCopyWarning: \n",
      "A value is trying to be set on a copy of a slice from a DataFrame\n",
      "\n",
      "See the caveats in the documentation: http://pandas.pydata.org/pandas-docs/stable/user_guide/indexing.html#returning-a-view-versus-a-copy\n",
      "  errors=errors,\n"
     ]
    },
    {
     "data": {
      "text/html": [
       "<div>\n",
       "<style scoped>\n",
       "    .dataframe tbody tr th:only-of-type {\n",
       "        vertical-align: middle;\n",
       "    }\n",
       "\n",
       "    .dataframe tbody tr th {\n",
       "        vertical-align: top;\n",
       "    }\n",
       "\n",
       "    .dataframe thead th {\n",
       "        text-align: right;\n",
       "    }\n",
       "</style>\n",
       "<table border=\"1\" class=\"dataframe\">\n",
       "  <thead>\n",
       "    <tr style=\"text-align: right;\">\n",
       "      <th></th>\n",
       "      <th>DRG Definition</th>\n",
       "      <th>Provider State</th>\n",
       "      <th>DPC</th>\n",
       "    </tr>\n",
       "  </thead>\n",
       "  <tbody>\n",
       "    <tr>\n",
       "      <th>14</th>\n",
       "      <td>039 - EXTRACRANIAL PROCEDURES W/O CC/MCC</td>\n",
       "      <td>IL</td>\n",
       "      <td>876.167969</td>\n",
       "    </tr>\n",
       "    <tr>\n",
       "      <th>66</th>\n",
       "      <td>057 - DEGENERATIVE NERVOUS SYSTEM DISORDERS W/...</td>\n",
       "      <td>IN</td>\n",
       "      <td>314.899408</td>\n",
       "    </tr>\n",
       "    <tr>\n",
       "      <th>116</th>\n",
       "      <td>064 - INTRACRANIAL HEMORRHAGE OR CEREBRAL INFA...</td>\n",
       "      <td>IL</td>\n",
       "      <td>1020.664062</td>\n",
       "    </tr>\n",
       "    <tr>\n",
       "      <th>164</th>\n",
       "      <td>065 - INTRACRANIAL HEMORRHAGE OR CEREBRAL INFA...</td>\n",
       "      <td>HI</td>\n",
       "      <td>1410.236111</td>\n",
       "    </tr>\n",
       "    <tr>\n",
       "      <th>235</th>\n",
       "      <td>066 - INTRACRANIAL HEMORRHAGE OR CEREBRAL INFA...</td>\n",
       "      <td>NJ</td>\n",
       "      <td>437.876033</td>\n",
       "    </tr>\n",
       "  </tbody>\n",
       "</table>\n",
       "</div>"
      ],
      "text/plain": [
       "                                        DRG Definition Provider State  \\\n",
       "14            039 - EXTRACRANIAL PROCEDURES W/O CC/MCC             IL   \n",
       "66   057 - DEGENERATIVE NERVOUS SYSTEM DISORDERS W/...             IN   \n",
       "116  064 - INTRACRANIAL HEMORRHAGE OR CEREBRAL INFA...             IL   \n",
       "164  065 - INTRACRANIAL HEMORRHAGE OR CEREBRAL INFA...             HI   \n",
       "235  066 - INTRACRANIAL HEMORRHAGE OR CEREBRAL INFA...             NJ   \n",
       "\n",
       "             DPC  \n",
       "14    876.167969  \n",
       "66    314.899408  \n",
       "116  1020.664062  \n",
       "164  1410.236111  \n",
       "235   437.876033  "
      ]
     },
     "execution_count": 50,
     "metadata": {},
     "output_type": "execute_result"
    }
   ],
   "source": [
    "#DPC=Difference between Average Total Payments and Average Medicare Payments per discharge\n",
    "d['DPC'] = (d['Average Total Payments'] -\n",
    "            d['Average Medicare Payments']) / d['Total Discharges']\n",
    "d.drop([\n",
    "    'Total Discharges', 'Average Total Payments', 'Average Medicare Payments'\n",
    "],\n",
    "       axis=1,\n",
    "       inplace=True)\n",
    "dmax = d.loc[d.groupby(['DRG Definition', 'Provider State'\n",
    "                        ])['DPC'].idxmax()].reset_index(drop=True)\n",
    "dmax.loc[dmax.groupby(['DRG Definition'])['DPC'].idxmax()].head()"
   ]
  },
  {
   "cell_type": "code",
   "execution_count": 51,
   "metadata": {
    "ExecuteTime": {
     "end_time": "2020-05-03T10:58:43.611785Z",
     "start_time": "2020-05-03T10:58:43.607796Z"
    }
   },
   "outputs": [],
   "source": [
    "#For outpatient"
   ]
  },
  {
   "cell_type": "code",
   "execution_count": 52,
   "metadata": {
    "ExecuteTime": {
     "end_time": "2020-05-03T10:58:51.211304Z",
     "start_time": "2020-05-03T10:58:51.195347Z"
    }
   },
   "outputs": [
    {
     "data": {
      "text/html": [
       "<div>\n",
       "<style scoped>\n",
       "    .dataframe tbody tr th:only-of-type {\n",
       "        vertical-align: middle;\n",
       "    }\n",
       "\n",
       "    .dataframe tbody tr th {\n",
       "        vertical-align: top;\n",
       "    }\n",
       "\n",
       "    .dataframe thead th {\n",
       "        text-align: right;\n",
       "    }\n",
       "</style>\n",
       "<table border=\"1\" class=\"dataframe\">\n",
       "  <thead>\n",
       "    <tr style=\"text-align: right;\">\n",
       "      <th></th>\n",
       "      <th>APC</th>\n",
       "      <th>Provider State</th>\n",
       "      <th>Outpatient Services</th>\n",
       "      <th>Average  Estimated Submitted Charges</th>\n",
       "      <th>Average Total Payments</th>\n",
       "    </tr>\n",
       "  </thead>\n",
       "  <tbody>\n",
       "    <tr>\n",
       "      <th>0</th>\n",
       "      <td>0012 - Level I Debridement &amp; Destruction</td>\n",
       "      <td>AL</td>\n",
       "      <td>23</td>\n",
       "      <td>78.086957</td>\n",
       "      <td>21.910435</td>\n",
       "    </tr>\n",
       "    <tr>\n",
       "      <th>1</th>\n",
       "      <td>0012 - Level I Debridement &amp; Destruction</td>\n",
       "      <td>AK</td>\n",
       "      <td>994</td>\n",
       "      <td>149.589749</td>\n",
       "      <td>36.623853</td>\n",
       "    </tr>\n",
       "    <tr>\n",
       "      <th>2</th>\n",
       "      <td>0012 - Level I Debridement &amp; Destruction</td>\n",
       "      <td>AZ</td>\n",
       "      <td>1765</td>\n",
       "      <td>50.135411</td>\n",
       "      <td>14.541841</td>\n",
       "    </tr>\n",
       "    <tr>\n",
       "      <th>3</th>\n",
       "      <td>0012 - Level I Debridement &amp; Destruction</td>\n",
       "      <td>AZ</td>\n",
       "      <td>20</td>\n",
       "      <td>112.400000</td>\n",
       "      <td>23.736000</td>\n",
       "    </tr>\n",
       "    <tr>\n",
       "      <th>4</th>\n",
       "      <td>0012 - Level I Debridement &amp; Destruction</td>\n",
       "      <td>AZ</td>\n",
       "      <td>22</td>\n",
       "      <td>152.045455</td>\n",
       "      <td>16.569091</td>\n",
       "    </tr>\n",
       "  </tbody>\n",
       "</table>\n",
       "</div>"
      ],
      "text/plain": [
       "                                        APC Provider State  \\\n",
       "0  0012 - Level I Debridement & Destruction             AL   \n",
       "1  0012 - Level I Debridement & Destruction             AK   \n",
       "2  0012 - Level I Debridement & Destruction             AZ   \n",
       "3  0012 - Level I Debridement & Destruction             AZ   \n",
       "4  0012 - Level I Debridement & Destruction             AZ   \n",
       "\n",
       "   Outpatient Services  Average  Estimated Submitted Charges  \\\n",
       "0                   23                             78.086957   \n",
       "1                  994                            149.589749   \n",
       "2                 1765                             50.135411   \n",
       "3                   20                            112.400000   \n",
       "4                   22                            152.045455   \n",
       "\n",
       "   Average Total Payments  \n",
       "0               21.910435  \n",
       "1               36.623853  \n",
       "2               14.541841  \n",
       "3               23.736000  \n",
       "4               16.569091  "
      ]
     },
     "execution_count": 52,
     "metadata": {},
     "output_type": "execute_result"
    }
   ],
   "source": [
    "d = outpatient[[\n",
    "    'APC', 'Provider State', 'Outpatient Services',\n",
    "    'Average  Estimated Submitted Charges', 'Average Total Payments'\n",
    "]]\n",
    "d.head()"
   ]
  },
  {
   "cell_type": "code",
   "execution_count": 53,
   "metadata": {
    "ExecuteTime": {
     "end_time": "2020-05-03T10:59:02.646609Z",
     "start_time": "2020-05-03T10:59:02.422183Z"
    }
   },
   "outputs": [
    {
     "name": "stderr",
     "output_type": "stream",
     "text": [
      "C:\\Users\\shaur\\Anaconda3\\lib\\site-packages\\ipykernel_launcher.py:3: SettingWithCopyWarning: \n",
      "A value is trying to be set on a copy of a slice from a DataFrame.\n",
      "Try using .loc[row_indexer,col_indexer] = value instead\n",
      "\n",
      "See the caveats in the documentation: http://pandas.pydata.org/pandas-docs/stable/user_guide/indexing.html#returning-a-view-versus-a-copy\n",
      "  This is separate from the ipykernel package so we can avoid doing imports until\n"
     ]
    },
    {
     "data": {
      "text/html": [
       "<div>\n",
       "<style scoped>\n",
       "    .dataframe tbody tr th:only-of-type {\n",
       "        vertical-align: middle;\n",
       "    }\n",
       "\n",
       "    .dataframe tbody tr th {\n",
       "        vertical-align: top;\n",
       "    }\n",
       "\n",
       "    .dataframe thead th {\n",
       "        text-align: right;\n",
       "    }\n",
       "</style>\n",
       "<table border=\"1\" class=\"dataframe\">\n",
       "  <thead>\n",
       "    <tr style=\"text-align: right;\">\n",
       "      <th></th>\n",
       "      <th>APC</th>\n",
       "      <th>Provider State</th>\n",
       "      <th>DPO</th>\n",
       "    </tr>\n",
       "  </thead>\n",
       "  <tbody>\n",
       "    <tr>\n",
       "      <th>27</th>\n",
       "      <td>0012 - Level I Debridement &amp; Destruction</td>\n",
       "      <td>NE</td>\n",
       "      <td>55.162667</td>\n",
       "    </tr>\n",
       "    <tr>\n",
       "      <th>48</th>\n",
       "      <td>0013 - Level II Debridement &amp; Destruction</td>\n",
       "      <td>AL</td>\n",
       "      <td>398.107692</td>\n",
       "    </tr>\n",
       "    <tr>\n",
       "      <th>118</th>\n",
       "      <td>0015 - Level III Debridement &amp; Destruction</td>\n",
       "      <td>MI</td>\n",
       "      <td>233.392562</td>\n",
       "    </tr>\n",
       "    <tr>\n",
       "      <th>150</th>\n",
       "      <td>0019 - Level I Excision/ Biopsy</td>\n",
       "      <td>CA</td>\n",
       "      <td>2172.817083</td>\n",
       "    </tr>\n",
       "    <tr>\n",
       "      <th>234</th>\n",
       "      <td>0020 - Level II Excision/ Biopsy</td>\n",
       "      <td>VA</td>\n",
       "      <td>1350.947190</td>\n",
       "    </tr>\n",
       "  </tbody>\n",
       "</table>\n",
       "</div>"
      ],
      "text/plain": [
       "                                            APC Provider State          DPO\n",
       "27     0012 - Level I Debridement & Destruction             NE    55.162667\n",
       "48    0013 - Level II Debridement & Destruction             AL   398.107692\n",
       "118  0015 - Level III Debridement & Destruction             MI   233.392562\n",
       "150             0019 - Level I Excision/ Biopsy             CA  2172.817083\n",
       "234            0020 - Level II Excision/ Biopsy             VA  1350.947190"
      ]
     },
     "execution_count": 53,
     "metadata": {},
     "output_type": "execute_result"
    }
   ],
   "source": [
    "#DPO=Difference between Average Total Payments and Average Estimated Submitted Charges per outservice\n",
    "d['DPO'] = (d['Average  Estimated Submitted Charges'] -\n",
    "            d['Average Total Payments']) / d['Outpatient Services']\n",
    "d.drop([\n",
    "    'Outpatient Services', 'Average Total Payments',\n",
    "    'Average  Estimated Submitted Charges'\n",
    "],\n",
    "       axis=1,\n",
    "       inplace=True)\n",
    "dmax = d.loc[d.groupby(['APC', 'Provider State'\n",
    "                        ])['DPO'].idxmax()].reset_index(drop=True)\n",
    "dmax.loc[dmax.groupby(['APC'])['DPO'].idxmax()].head()"
   ]
  },
  {
   "cell_type": "code",
   "execution_count": 54,
   "metadata": {
    "ExecuteTime": {
     "end_time": "2020-05-03T10:59:30.914097Z",
     "start_time": "2020-05-03T10:59:30.909111Z"
    }
   },
   "outputs": [],
   "source": [
    "#Part2: Identify the three providers that are least similar to other providers and the three regions that are least similar to other regions"
   ]
  },
  {
   "cell_type": "code",
   "execution_count": 55,
   "metadata": {
    "ExecuteTime": {
     "end_time": "2020-05-03T10:59:35.782280Z",
     "start_time": "2020-05-03T10:59:35.777294Z"
    }
   },
   "outputs": [],
   "source": [
    "#Part2: A: Providers Least Like Others"
   ]
  },
  {
   "cell_type": "code",
   "execution_count": 56,
   "metadata": {
    "ExecuteTime": {
     "end_time": "2020-05-03T10:59:45.028938Z",
     "start_time": "2020-05-03T10:59:45.005002Z"
    }
   },
   "outputs": [
    {
     "data": {
      "text/html": [
       "<div>\n",
       "<style scoped>\n",
       "    .dataframe tbody tr th:only-of-type {\n",
       "        vertical-align: middle;\n",
       "    }\n",
       "\n",
       "    .dataframe tbody tr th {\n",
       "        vertical-align: top;\n",
       "    }\n",
       "\n",
       "    .dataframe thead th {\n",
       "        text-align: right;\n",
       "    }\n",
       "</style>\n",
       "<table border=\"1\" class=\"dataframe\">\n",
       "  <thead>\n",
       "    <tr style=\"text-align: right;\">\n",
       "      <th></th>\n",
       "      <th>Provider Id</th>\n",
       "      <th>Average Medicare Payments</th>\n",
       "    </tr>\n",
       "  </thead>\n",
       "  <tbody>\n",
       "    <tr>\n",
       "      <th>0</th>\n",
       "      <td>10001</td>\n",
       "      <td>7678.218337</td>\n",
       "    </tr>\n",
       "    <tr>\n",
       "      <th>1</th>\n",
       "      <td>10005</td>\n",
       "      <td>5793.635452</td>\n",
       "    </tr>\n",
       "    <tr>\n",
       "      <th>2</th>\n",
       "      <td>10006</td>\n",
       "      <td>7145.964071</td>\n",
       "    </tr>\n",
       "    <tr>\n",
       "      <th>3</th>\n",
       "      <td>10007</td>\n",
       "      <td>4047.029737</td>\n",
       "    </tr>\n",
       "    <tr>\n",
       "      <th>4</th>\n",
       "      <td>10008</td>\n",
       "      <td>4963.552805</td>\n",
       "    </tr>\n",
       "  </tbody>\n",
       "</table>\n",
       "</div>"
      ],
      "text/plain": [
       "   Provider Id  Average Medicare Payments\n",
       "0        10001                7678.218337\n",
       "1        10005                5793.635452\n",
       "2        10006                7145.964071\n",
       "3        10007                4047.029737\n",
       "4        10008                4963.552805"
      ]
     },
     "execution_count": 56,
     "metadata": {},
     "output_type": "execute_result"
    }
   ],
   "source": [
    "#For inpatient\n",
    "a = inpatient[['Provider Id', 'Average Medicare Payments'\n",
    "               ]].groupby('Provider Id').mean().reset_index()\n",
    "a.head()"
   ]
  },
  {
   "cell_type": "code",
   "execution_count": 59,
   "metadata": {
    "ExecuteTime": {
     "end_time": "2020-05-03T11:00:08.585316Z",
     "start_time": "2020-05-03T11:00:08.012833Z"
    }
   },
   "outputs": [
    {
     "data": {
      "image/png": "[encoded data removed]",
      "text/plain": [
       "<Figure size 432x432 with 3 Axes>"
      ]
     },
     "metadata": {
      "needs_background": "light"
     },
     "output_type": "display_data"
    }
   ],
   "source": [
    "sns.jointplot(x='Provider Id', y='Average Medicare Payments', data=a)\n",
    "plt.show()"
   ]
  },
  {
   "cell_type": "code",
   "execution_count": 64,
   "metadata": {
    "ExecuteTime": {
     "end_time": "2020-05-03T11:01:20.008500Z",
     "start_time": "2020-05-03T11:01:19.998527Z"
    }
   },
   "outputs": [
    {
     "data": {
      "text/plain": [
       "LinearRegression(copy_X=True, fit_intercept=True, n_jobs=None, normalize=False)"
      ]
     },
     "execution_count": 64,
     "metadata": {},
     "output_type": "execute_result"
    }
   ],
   "source": [
    "from sklearn.linear_model import LinearRegression\n",
    "from sklearn.ensemble import RandomForestRegressor\n",
    "model = LinearRegression()\n",
    "model.fit(a['Provider Id'].values.reshape(-1, 1),\n",
    "          a['Average Medicare Payments'].values.reshape(-1, 1))"
   ]
  },
  {
   "cell_type": "code",
   "execution_count": 65,
   "metadata": {
    "ExecuteTime": {
     "end_time": "2020-05-03T11:01:20.596979Z",
     "start_time": "2020-05-03T11:01:20.586009Z"
    }
   },
   "outputs": [
    {
     "data": {
      "text/plain": [
       "0.01382522674279818"
      ]
     },
     "execution_count": 65,
     "metadata": {},
     "output_type": "execute_result"
    }
   ],
   "source": [
    "model.score(a['Provider Id'].values.reshape(-1, 1),\n",
    "          a['Average Medicare Payments'].values.reshape(-1, 1))"
   ]
  },
  {
   "cell_type": "code",
   "execution_count": 66,
   "metadata": {
    "ExecuteTime": {
     "end_time": "2020-05-03T11:01:37.498886Z",
     "start_time": "2020-05-03T11:01:37.140340Z"
    }
   },
   "outputs": [
    {
     "name": "stderr",
     "output_type": "stream",
     "text": [
      "C:\\Users\\shaur\\Anaconda3\\lib\\site-packages\\ipykernel_launcher.py:3: DataConversionWarning: A column-vector y was passed when a 1d array was expected. Please change the shape of y to (n_samples,), for example using ravel().\n",
      "  This is separate from the ipykernel package so we can avoid doing imports until\n"
     ]
    },
    {
     "data": {
      "text/plain": [
       "RandomForestRegressor(bootstrap=True, ccp_alpha=0.0, criterion='mse',\n",
       "                      max_depth=None, max_features='auto', max_leaf_nodes=None,\n",
       "                      max_samples=None, min_impurity_decrease=0.0,\n",
       "                      min_impurity_split=None, min_samples_leaf=1,\n",
       "                      min_samples_split=2, min_weight_fraction_leaf=0.0,\n",
       "                      n_estimators=100, n_jobs=None, oob_score=False,\n",
       "                      random_state=None, verbose=0, warm_start=False)"
      ]
     },
     "execution_count": 66,
     "metadata": {},
     "output_type": "execute_result"
    }
   ],
   "source": [
    "model_rand = RandomForestRegressor()\n",
    "model_rand.fit(a['Provider Id'].values.reshape(-1, 1),\n",
    "               a['Average Medicare Payments'].values.reshape(-1, 1))"
   ]
  },
  {
   "cell_type": "code",
   "execution_count": 67,
   "metadata": {
    "ExecuteTime": {
     "end_time": "2020-05-03T11:01:46.478221Z",
     "start_time": "2020-05-03T11:01:46.429352Z"
    }
   },
   "outputs": [
    {
     "data": {
      "text/plain": [
       "0.8592835056926411"
      ]
     },
     "execution_count": 67,
     "metadata": {},
     "output_type": "execute_result"
    }
   ],
   "source": [
    "model_rand.score(a['Provider Id'].values.reshape(-1, 1),\n",
    "                 a['Average Medicare Payments'].values.reshape(-1, 1))"
   ]
  },
  {
   "cell_type": "code",
   "execution_count": 73,
   "metadata": {
    "ExecuteTime": {
     "end_time": "2020-05-03T11:07:01.076209Z",
     "start_time": "2020-05-03T11:06:47.652250Z"
    }
   },
   "outputs": [
    {
     "name": "stdout",
     "output_type": "stream",
     "text": [
      "Fitting 10 folds for each of 70 candidates, totalling 700 fits\n"
     ]
    },
    {
     "name": "stderr",
     "output_type": "stream",
     "text": [
      "[Parallel(n_jobs=-1)]: Using backend LokyBackend with 8 concurrent workers.\n",
      "[Parallel(n_jobs=-1)]: Batch computation too fast (0.0549s.) Setting batch_size=2.\n",
      "[Parallel(n_jobs=-1)]: Done   2 tasks      | elapsed:    0.0s\n",
      "[Parallel(n_jobs=-1)]: Done   9 tasks      | elapsed:    0.0s\n",
      "[Parallel(n_jobs=-1)]: Done  16 tasks      | elapsed:    0.0s\n",
      "[Parallel(n_jobs=-1)]: Batch computation too fast (0.1566s.) Setting batch_size=4.\n",
      "[Parallel(n_jobs=-1)]: Done  34 tasks      | elapsed:    0.3s\n",
      "[Parallel(n_jobs=-1)]: Done  56 tasks      | elapsed:    0.7s\n",
      "[Parallel(n_jobs=-1)]: Done 100 tasks      | elapsed:    3.0s\n",
      "[Parallel(n_jobs=-1)]: Batch computation too slow (2.1234s.) Setting batch_size=1.\n",
      "[Parallel(n_jobs=-1)]: Done 144 tasks      | elapsed:    5.8s\n",
      "[Parallel(n_jobs=-1)]: Done 166 tasks      | elapsed:    6.2s\n",
      "[Parallel(n_jobs=-1)]: Done 182 tasks      | elapsed:    6.6s\n",
      "[Parallel(n_jobs=-1)]: Done 200 tasks      | elapsed:    7.0s\n",
      "[Parallel(n_jobs=-1)]: Batch computation too fast (0.1895s.) Setting batch_size=2.\n",
      "[Parallel(n_jobs=-1)]: Done 215 tasks      | elapsed:    7.1s\n",
      "[Parallel(n_jobs=-1)]: Done 238 tasks      | elapsed:    7.4s\n",
      "[Parallel(n_jobs=-1)]: Done 272 tasks      | elapsed:    8.0s\n",
      "[Parallel(n_jobs=-1)]: Done 310 tasks      | elapsed:    8.4s\n",
      "[Parallel(n_jobs=-1)]: Done 350 tasks      | elapsed:    9.0s\n",
      "[Parallel(n_jobs=-1)]: Done 394 tasks      | elapsed:    9.4s\n",
      "[Parallel(n_jobs=-1)]: Done 436 tasks      | elapsed:    9.9s\n",
      "[Parallel(n_jobs=-1)]: Done 482 tasks      | elapsed:   10.4s\n",
      "[Parallel(n_jobs=-1)]: Done 528 tasks      | elapsed:   10.8s\n",
      "[Parallel(n_jobs=-1)]: Done 578 tasks      | elapsed:   11.3s\n",
      "[Parallel(n_jobs=-1)]: Done 628 tasks      | elapsed:   11.8s\n",
      "[Parallel(n_jobs=-1)]: Done 681 tasks      | elapsed:   12.4s\n",
      "[Parallel(n_jobs=-1)]: Done 685 out of 700 | elapsed:   12.4s remaining:    0.2s\n",
      "[Parallel(n_jobs=-1)]: Done 700 out of 700 | elapsed:   12.6s finished\n",
      "C:\\Users\\shaur\\Anaconda3\\lib\\site-packages\\sklearn\\model_selection\\_search.py:739: DataConversionWarning: A column-vector y was passed when a 1d array was expected. Please change the shape of y to (n_samples,), for example using ravel().\n",
      "  self.best_estimator_.fit(X, y, **fit_params)\n"
     ]
    },
    {
     "data": {
      "text/plain": [
       "GridSearchCV(cv=10, error_score=nan,\n",
       "             estimator=RandomForestRegressor(bootstrap=True, ccp_alpha=0.0,\n",
       "                                             criterion='mse', max_depth=None,\n",
       "                                             max_features='auto',\n",
       "                                             max_leaf_nodes=None,\n",
       "                                             max_samples=None,\n",
       "                                             min_impurity_decrease=0.0,\n",
       "                                             min_impurity_split=None,\n",
       "                                             min_samples_leaf=1,\n",
       "                                             min_samples_split=2,\n",
       "                                             min_weight_fraction_leaf=0.0,\n",
       "                                             n_estimators=100, n_jobs=None,\n",
       "                                             oob_score=False,\n",
       "                                             random_state=12345, verbose=0,\n",
       "                                             warm_start=False),\n",
       "             iid='deprecated', n_jobs=-1,\n",
       "             param_grid={'max_features': range(0, 10),\n",
       "                         'n_estimators': [70, 80, 90, 100, 120, 150, 200]},\n",
       "             pre_dispatch='2*n_jobs', refit=True, return_train_score=False,\n",
       "             scoring=None, verbose=10)"
      ]
     },
     "execution_count": 73,
     "metadata": {},
     "output_type": "execute_result"
    }
   ],
   "source": [
    "from sklearn.model_selection import GridSearchCV\n",
    "\n",
    "param_grid = {\n",
    "    'n_estimators': [70, 80, 90, 100, 120, 150, 200],\n",
    "    'max_features': range(0, 10, 1),\n",
    "}\n",
    "\n",
    "model_rgscv = GridSearchCV(RandomForestRegressor(random_state=12345),\n",
    "                           param_grid,\n",
    "                           cv=10,\n",
    "                           verbose=10,\n",
    "                           n_jobs=-1)\n",
    "\n",
    "model_rgscv.fit(a['Provider Id'].values.reshape(-1, 1),\n",
    "                a['Average Medicare Payments'].values.reshape(-1, 1))"
   ]
  },
  {
   "cell_type": "code",
   "execution_count": 75,
   "metadata": {
    "ExecuteTime": {
     "end_time": "2020-05-03T11:07:42.744056Z",
     "start_time": "2020-05-03T11:07:42.664269Z"
    }
   },
   "outputs": [
    {
     "data": {
      "text/plain": [
       "0.8616041713563215"
      ]
     },
     "execution_count": 75,
     "metadata": {},
     "output_type": "execute_result"
    }
   ],
   "source": [
    "model_rgscv.score(a['Provider Id'].values.reshape(-1, 1),\n",
    "                a['Average Medicare Payments'].values.reshape(-1, 1))"
   ]
  },
  {
   "cell_type": "code",
   "execution_count": 110,
   "metadata": {
    "ExecuteTime": {
     "end_time": "2020-05-03T11:16:43.343635Z",
     "start_time": "2020-05-03T11:16:43.337650Z"
    }
   },
   "outputs": [],
   "source": [
    "from keras.models import Sequential\n",
    "from keras.layers import Dense\n",
    "#Initializing Neural Network\n",
    "classifier=Sequential()"
   ]
  },
  {
   "cell_type": "code",
   "execution_count": 111,
   "metadata": {
    "ExecuteTime": {
     "end_time": "2020-05-03T11:16:43.503208Z",
     "start_time": "2020-05-03T11:16:43.496227Z"
    }
   },
   "outputs": [
    {
     "name": "stderr",
     "output_type": "stream",
     "text": [
      "C:\\Users\\shaur\\Anaconda3\\lib\\site-packages\\ipykernel_launcher.py:2: UserWarning: Update your `Dense` call to the Keras 2 API: `Dense(activation=\"relu\", units=6, kernel_initializer=\"uniform\")`\n",
      "  \n",
      "C:\\Users\\shaur\\Anaconda3\\lib\\site-packages\\ipykernel_launcher.py:5: UserWarning: Update your `Dense` call to the Keras 2 API: `Dense(activation=\"relu\", units=4, kernel_initializer=\"uniform\")`\n",
      "  \"\"\"\n",
      "C:\\Users\\shaur\\Anaconda3\\lib\\site-packages\\ipykernel_launcher.py:8: UserWarning: Update your `Dense` call to the Keras 2 API: `Dense(activation=\"relu\", units=1, kernel_initializer=\"uniform\")`\n",
      "  \n"
     ]
    }
   ],
   "source": [
    "# Adding the input layer and the first hidden layer\n",
    "classifier.add(Dense(output_dim = 6, init = 'uniform', activation = 'relu'))\n",
    "\n",
    "# Adding the second hidden layer\n",
    "classifier.add(Dense(output_dim = 4 , init = 'uniform', activation = 'relu'))\n",
    "\n",
    "# Adding the output layer\n",
    "classifier.add(Dense(output_dim = 1, init = 'uniform', activation = 'relu'))"
   ]
  },
  {
   "cell_type": "code",
   "execution_count": 114,
   "metadata": {
    "ExecuteTime": {
     "end_time": "2020-05-03T11:17:00.838905Z",
     "start_time": "2020-05-03T11:17:00.797016Z"
    }
   },
   "outputs": [],
   "source": [
    "# Compiling Neural Network\n",
    "classifier.compile(optimizer = 'sgd', loss = 'mean_squared_error', weighted_metrics = ['mae'], metrics= ['acc'])"
   ]
  },
  {
   "cell_type": "markdown",
   "metadata": {},
   "source": [
    "### Random Forest Regressor gave the best accuracy so we will go ahead with that."
   ]
  },
  {
   "cell_type": "code",
   "execution_count": 116,
   "metadata": {
    "ExecuteTime": {
     "end_time": "2020-05-03T11:17:43.952758Z",
     "start_time": "2020-05-03T11:17:43.902380Z"
    }
   },
   "outputs": [],
   "source": [
    "a['Predicted']=model_rgscv.predict(a['Provider Id'].values.reshape(-1,1))\n",
    "a['Residual']=abs(a['Predicted']-a['Average Medicare Payments'])"
   ]
  },
  {
   "cell_type": "code",
   "execution_count": 121,
   "metadata": {
    "ExecuteTime": {
     "end_time": "2020-05-03T11:19:15.959100Z",
     "start_time": "2020-05-03T11:19:15.950124Z"
    }
   },
   "outputs": [
    {
     "data": {
      "text/html": [
       "<div>\n",
       "<style scoped>\n",
       "    .dataframe tbody tr th:only-of-type {\n",
       "        vertical-align: middle;\n",
       "    }\n",
       "\n",
       "    .dataframe tbody tr th {\n",
       "        vertical-align: top;\n",
       "    }\n",
       "\n",
       "    .dataframe thead th {\n",
       "        text-align: right;\n",
       "    }\n",
       "</style>\n",
       "<table border=\"1\" class=\"dataframe\">\n",
       "  <thead>\n",
       "    <tr style=\"text-align: right;\">\n",
       "      <th></th>\n",
       "      <th>Provider Id</th>\n",
       "      <th>Average Medicare Payments</th>\n",
       "      <th>Predicted</th>\n",
       "      <th>Residual</th>\n",
       "    </tr>\n",
       "  </thead>\n",
       "  <tbody>\n",
       "    <tr>\n",
       "      <th>3143</th>\n",
       "      <td>490142</td>\n",
       "      <td>41836.888890</td>\n",
       "      <td>28375.273054</td>\n",
       "      <td>13461.615836</td>\n",
       "    </tr>\n",
       "    <tr>\n",
       "      <th>540</th>\n",
       "      <td>60096</td>\n",
       "      <td>39943.173080</td>\n",
       "      <td>28701.824243</td>\n",
       "      <td>11241.348837</td>\n",
       "    </tr>\n",
       "    <tr>\n",
       "      <th>1102</th>\n",
       "      <td>150166</td>\n",
       "      <td>25098.255195</td>\n",
       "      <td>17412.557874</td>\n",
       "      <td>7685.697321</td>\n",
       "    </tr>\n",
       "  </tbody>\n",
       "</table>\n",
       "</div>"
      ],
      "text/plain": [
       "      Provider Id  Average Medicare Payments     Predicted      Residual\n",
       "3143       490142               41836.888890  28375.273054  13461.615836\n",
       "540         60096               39943.173080  28701.824243  11241.348837\n",
       "1102       150166               25098.255195  17412.557874   7685.697321"
      ]
     },
     "execution_count": 121,
     "metadata": {},
     "output_type": "execute_result"
    }
   ],
   "source": [
    "#Details Concerning Required Providers\n",
    "a.sort_values('Residual', ascending=False).head(3)"
   ]
  },
  {
   "cell_type": "code",
   "execution_count": 122,
   "metadata": {
    "ExecuteTime": {
     "end_time": "2020-05-03T11:19:43.324468Z",
     "start_time": "2020-05-03T11:19:43.310506Z"
    }
   },
   "outputs": [
    {
     "data": {
      "text/html": [
       "<div>\n",
       "<style scoped>\n",
       "    .dataframe tbody tr th:only-of-type {\n",
       "        vertical-align: middle;\n",
       "    }\n",
       "\n",
       "    .dataframe tbody tr th {\n",
       "        vertical-align: top;\n",
       "    }\n",
       "\n",
       "    .dataframe thead th {\n",
       "        text-align: right;\n",
       "    }\n",
       "</style>\n",
       "<table border=\"1\" class=\"dataframe\">\n",
       "  <thead>\n",
       "    <tr style=\"text-align: right;\">\n",
       "      <th></th>\n",
       "      <th>Provider Id</th>\n",
       "      <th>Average Total Payments</th>\n",
       "    </tr>\n",
       "  </thead>\n",
       "  <tbody>\n",
       "    <tr>\n",
       "      <th>0</th>\n",
       "      <td>10001</td>\n",
       "      <td>285.699426</td>\n",
       "    </tr>\n",
       "    <tr>\n",
       "      <th>1</th>\n",
       "      <td>10005</td>\n",
       "      <td>254.564837</td>\n",
       "    </tr>\n",
       "    <tr>\n",
       "      <th>2</th>\n",
       "      <td>10006</td>\n",
       "      <td>221.871666</td>\n",
       "    </tr>\n",
       "    <tr>\n",
       "      <th>3</th>\n",
       "      <td>10007</td>\n",
       "      <td>251.371890</td>\n",
       "    </tr>\n",
       "    <tr>\n",
       "      <th>4</th>\n",
       "      <td>10008</td>\n",
       "      <td>207.481575</td>\n",
       "    </tr>\n",
       "  </tbody>\n",
       "</table>\n",
       "</div>"
      ],
      "text/plain": [
       "   Provider Id  Average Total Payments\n",
       "0        10001              285.699426\n",
       "1        10005              254.564837\n",
       "2        10006              221.871666\n",
       "3        10007              251.371890\n",
       "4        10008              207.481575"
      ]
     },
     "execution_count": 122,
     "metadata": {},
     "output_type": "execute_result"
    }
   ],
   "source": [
    "#For outpatient\n",
    "a=outpatient[['Provider Id','Average Total Payments']].groupby('Provider Id').mean().reset_index()\n",
    "a.head()"
   ]
  },
  {
   "cell_type": "code",
   "execution_count": 124,
   "metadata": {
    "ExecuteTime": {
     "end_time": "2020-05-03T11:19:57.562408Z",
     "start_time": "2020-05-03T11:19:56.970991Z"
    }
   },
   "outputs": [
    {
     "data": {
      "image/png": "[encoded data removed]",
      "text/plain": [
       "<Figure size 432x432 with 3 Axes>"
      ]
     },
     "metadata": {
      "needs_background": "light"
     },
     "output_type": "display_data"
    }
   ],
   "source": [
    "sns.jointplot(x='Provider Id', y='Average Total Payments', data=a)\n",
    "plt.show()"
   ]
  },
  {
   "cell_type": "code",
   "execution_count": 125,
   "metadata": {
    "ExecuteTime": {
     "end_time": "2020-05-03T11:22:14.593624Z",
     "start_time": "2020-05-03T11:22:14.216632Z"
    }
   },
   "outputs": [
    {
     "name": "stderr",
     "output_type": "stream",
     "text": [
      "C:\\Users\\shaur\\Anaconda3\\lib\\site-packages\\ipykernel_launcher.py:2: DataConversionWarning: A column-vector y was passed when a 1d array was expected. Please change the shape of y to (n_samples,), for example using ravel().\n",
      "  \n"
     ]
    },
    {
     "data": {
      "text/plain": [
       "RandomForestRegressor(bootstrap=True, ccp_alpha=0.0, criterion='mse',\n",
       "                      max_depth=None, max_features='auto', max_leaf_nodes=None,\n",
       "                      max_samples=None, min_impurity_decrease=0.0,\n",
       "                      min_impurity_split=None, min_samples_leaf=1,\n",
       "                      min_samples_split=2, min_weight_fraction_leaf=0.0,\n",
       "                      n_estimators=100, n_jobs=None, oob_score=False,\n",
       "                      random_state=None, verbose=0, warm_start=False)"
      ]
     },
     "execution_count": 125,
     "metadata": {},
     "output_type": "execute_result"
    }
   ],
   "source": [
    "model = RandomForestRegressor()\n",
    "model.fit(a['Provider Id'].values.reshape(-1,1),a['Average Total Payments'].values.reshape(-1,1))"
   ]
  },
  {
   "cell_type": "code",
   "execution_count": 126,
   "metadata": {
    "ExecuteTime": {
     "end_time": "2020-05-03T11:22:30.748042Z",
     "start_time": "2020-05-03T11:22:30.699174Z"
    }
   },
   "outputs": [
    {
     "data": {
      "text/plain": [
       "0.8245306831561162"
      ]
     },
     "execution_count": 126,
     "metadata": {},
     "output_type": "execute_result"
    }
   ],
   "source": [
    "model.score(a['Provider Id'].values.reshape(-1, 1),\n",
    "            a['Average Total Payments'].values.reshape(-1, 1))"
   ]
  },
  {
   "cell_type": "code",
   "execution_count": 128,
   "metadata": {
    "ExecuteTime": {
     "end_time": "2020-05-03T11:23:18.176599Z",
     "start_time": "2020-05-03T11:23:01.478101Z"
    }
   },
   "outputs": [
    {
     "name": "stdout",
     "output_type": "stream",
     "text": [
      "Fitting 10 folds for each of 70 candidates, totalling 700 fits\n"
     ]
    },
    {
     "name": "stderr",
     "output_type": "stream",
     "text": [
      "[Parallel(n_jobs=-1)]: Using backend LokyBackend with 8 concurrent workers.\n",
      "[Parallel(n_jobs=-1)]: Done   2 tasks      | elapsed:    1.3s\n",
      "[Parallel(n_jobs=-1)]: Done   9 tasks      | elapsed:    1.4s\n",
      "[Parallel(n_jobs=-1)]: Done  16 tasks      | elapsed:    1.5s\n",
      "[Parallel(n_jobs=-1)]: Done  25 tasks      | elapsed:    1.5s\n",
      "[Parallel(n_jobs=-1)]: Batch computation too fast (0.1956s.) Setting batch_size=2.\n",
      "[Parallel(n_jobs=-1)]: Done  34 tasks      | elapsed:    1.7s\n",
      "[Parallel(n_jobs=-1)]: Done  45 tasks      | elapsed:    1.8s\n",
      "[Parallel(n_jobs=-1)]: Done  64 tasks      | elapsed:    2.1s\n",
      "[Parallel(n_jobs=-1)]: Done  90 tasks      | elapsed:    4.2s\n",
      "[Parallel(n_jobs=-1)]: Batch computation too slow (2.0602s.) Setting batch_size=1.\n",
      "[Parallel(n_jobs=-1)]: Done 116 tasks      | elapsed:    6.5s\n",
      "[Parallel(n_jobs=-1)]: Done 137 tasks      | elapsed:    9.0s\n",
      "[Parallel(n_jobs=-1)]: Done 152 tasks      | elapsed:    9.4s\n",
      "[Parallel(n_jobs=-1)]: Done 169 tasks      | elapsed:    9.7s\n",
      "[Parallel(n_jobs=-1)]: Done 186 tasks      | elapsed:    9.9s\n",
      "[Parallel(n_jobs=-1)]: Done 205 tasks      | elapsed:   10.3s\n",
      "[Parallel(n_jobs=-1)]: Batch computation too fast (0.1859s.) Setting batch_size=2.\n",
      "[Parallel(n_jobs=-1)]: Done 224 tasks      | elapsed:   10.5s\n",
      "[Parallel(n_jobs=-1)]: Done 250 tasks      | elapsed:   10.7s\n",
      "[Parallel(n_jobs=-1)]: Done 292 tasks      | elapsed:   11.2s\n",
      "[Parallel(n_jobs=-1)]: Done 338 tasks      | elapsed:   11.8s\n",
      "[Parallel(n_jobs=-1)]: Done 384 tasks      | elapsed:   12.4s\n",
      "[Parallel(n_jobs=-1)]: Done 434 tasks      | elapsed:   13.1s\n",
      "[Parallel(n_jobs=-1)]: Done 484 tasks      | elapsed:   13.7s\n",
      "[Parallel(n_jobs=-1)]: Done 538 tasks      | elapsed:   14.3s\n",
      "[Parallel(n_jobs=-1)]: Done 592 tasks      | elapsed:   14.9s\n",
      "[Parallel(n_jobs=-1)]: Done 650 tasks      | elapsed:   15.6s\n",
      "[Parallel(n_jobs=-1)]: Done 700 out of 700 | elapsed:   16.2s finished\n",
      "C:\\Users\\shaur\\Anaconda3\\lib\\site-packages\\sklearn\\model_selection\\_search.py:739: DataConversionWarning: A column-vector y was passed when a 1d array was expected. Please change the shape of y to (n_samples,), for example using ravel().\n",
      "  self.best_estimator_.fit(X, y, **fit_params)\n"
     ]
    },
    {
     "data": {
      "text/plain": [
       "GridSearchCV(cv=10, error_score=nan,\n",
       "             estimator=RandomForestRegressor(bootstrap=True, ccp_alpha=0.0,\n",
       "                                             criterion='mse', max_depth=None,\n",
       "                                             max_features='auto',\n",
       "                                             max_leaf_nodes=None,\n",
       "                                             max_samples=None,\n",
       "                                             min_impurity_decrease=0.0,\n",
       "                                             min_impurity_split=None,\n",
       "                                             min_samples_leaf=1,\n",
       "                                             min_samples_split=2,\n",
       "                                             min_weight_fraction_leaf=0.0,\n",
       "                                             n_estimators=100, n_jobs=None,\n",
       "                                             oob_score=False,\n",
       "                                             random_state=12345, verbose=0,\n",
       "                                             warm_start=False),\n",
       "             iid='deprecated', n_jobs=-1,\n",
       "             param_grid={'max_features': range(0, 10),\n",
       "                         'n_estimators': [70, 80, 90, 100, 120, 150, 200]},\n",
       "             pre_dispatch='2*n_jobs', refit=True, return_train_score=False,\n",
       "             scoring=None, verbose=10)"
      ]
     },
     "execution_count": 128,
     "metadata": {},
     "output_type": "execute_result"
    }
   ],
   "source": [
    "from sklearn.model_selection import GridSearchCV\n",
    "\n",
    "param_grid = {\n",
    "    'n_estimators': [70, 80, 90, 100, 120, 150, 200],\n",
    "    'max_features': range(0, 10, 1),\n",
    "}\n",
    "\n",
    "model_rgscv = GridSearchCV(RandomForestRegressor(random_state=12345),\n",
    "                           param_grid,\n",
    "                           cv=10,\n",
    "                           verbose=10,\n",
    "                           n_jobs=-1)\n",
    "\n",
    "model_rgscv.fit(a['Provider Id'].values.reshape(-1, 1),\n",
    "                a['Average Total Payments'].values.reshape(-1, 1))"
   ]
  },
  {
   "cell_type": "code",
   "execution_count": 129,
   "metadata": {
    "ExecuteTime": {
     "end_time": "2020-05-03T11:23:48.055247Z",
     "start_time": "2020-05-03T11:23:48.013359Z"
    }
   },
   "outputs": [
    {
     "data": {
      "text/plain": [
       "0.8285631697332523"
      ]
     },
     "execution_count": 129,
     "metadata": {},
     "output_type": "execute_result"
    }
   ],
   "source": [
    "model_rgscv.score(a['Provider Id'].values.reshape(-1, 1),\n",
    "            a['Average Total Payments'].values.reshape(-1, 1))"
   ]
  },
  {
   "cell_type": "code",
   "execution_count": 130,
   "metadata": {
    "ExecuteTime": {
     "end_time": "2020-05-03T11:24:04.100038Z",
     "start_time": "2020-05-03T11:24:04.059147Z"
    }
   },
   "outputs": [],
   "source": [
    "a['Predicted']=model_rgscv.predict(a['Provider Id'].values.reshape(-1,1))\n",
    "a['Residual']=abs(a['Predicted']-a['Average Total Payments'])"
   ]
  },
  {
   "cell_type": "code",
   "execution_count": 132,
   "metadata": {
    "ExecuteTime": {
     "end_time": "2020-05-03T11:24:20.410320Z",
     "start_time": "2020-05-03T11:24:20.401344Z"
    }
   },
   "outputs": [
    {
     "data": {
      "text/html": [
       "<div>\n",
       "<style scoped>\n",
       "    .dataframe tbody tr th:only-of-type {\n",
       "        vertical-align: middle;\n",
       "    }\n",
       "\n",
       "    .dataframe tbody tr th {\n",
       "        vertical-align: top;\n",
       "    }\n",
       "\n",
       "    .dataframe thead th {\n",
       "        text-align: right;\n",
       "    }\n",
       "</style>\n",
       "<table border=\"1\" class=\"dataframe\">\n",
       "  <thead>\n",
       "    <tr style=\"text-align: right;\">\n",
       "      <th></th>\n",
       "      <th>Provider Id</th>\n",
       "      <th>Average Total Payments</th>\n",
       "      <th>Predicted</th>\n",
       "      <th>Residual</th>\n",
       "    </tr>\n",
       "  </thead>\n",
       "  <tbody>\n",
       "    <tr>\n",
       "      <th>432</th>\n",
       "      <td>50714</td>\n",
       "      <td>960.595632</td>\n",
       "      <td>751.311614</td>\n",
       "      <td>209.284018</td>\n",
       "    </tr>\n",
       "    <tr>\n",
       "      <th>284</th>\n",
       "      <td>50205</td>\n",
       "      <td>585.830000</td>\n",
       "      <td>459.402246</td>\n",
       "      <td>126.427754</td>\n",
       "    </tr>\n",
       "    <tr>\n",
       "      <th>3134</th>\n",
       "      <td>670061</td>\n",
       "      <td>712.396480</td>\n",
       "      <td>590.455504</td>\n",
       "      <td>121.940976</td>\n",
       "    </tr>\n",
       "  </tbody>\n",
       "</table>\n",
       "</div>"
      ],
      "text/plain": [
       "      Provider Id  Average Total Payments   Predicted    Residual\n",
       "432         50714              960.595632  751.311614  209.284018\n",
       "284         50205              585.830000  459.402246  126.427754\n",
       "3134       670061              712.396480  590.455504  121.940976"
      ]
     },
     "execution_count": 132,
     "metadata": {},
     "output_type": "execute_result"
    }
   ],
   "source": [
    "#Details Concerning Required Providers\n",
    "a.sort_values('Residual',ascending=False).head(3)"
   ]
  },
  {
   "cell_type": "code",
   "execution_count": 133,
   "metadata": {
    "ExecuteTime": {
     "end_time": "2020-05-03T11:24:32.162910Z",
     "start_time": "2020-05-03T11:24:32.158920Z"
    }
   },
   "outputs": [],
   "source": [
    "#Part2: B: Regions Least Like Others"
   ]
  },
  {
   "cell_type": "code",
   "execution_count": 134,
   "metadata": {
    "ExecuteTime": {
     "end_time": "2020-05-03T11:24:41.248485Z",
     "start_time": "2020-05-03T11:24:41.219564Z"
    }
   },
   "outputs": [
    {
     "data": {
      "text/html": [
       "<div>\n",
       "<style scoped>\n",
       "    .dataframe tbody tr th:only-of-type {\n",
       "        vertical-align: middle;\n",
       "    }\n",
       "\n",
       "    .dataframe tbody tr th {\n",
       "        vertical-align: top;\n",
       "    }\n",
       "\n",
       "    .dataframe thead th {\n",
       "        text-align: right;\n",
       "    }\n",
       "</style>\n",
       "<table border=\"1\" class=\"dataframe\">\n",
       "  <thead>\n",
       "    <tr style=\"text-align: right;\">\n",
       "      <th></th>\n",
       "      <th>Provider State</th>\n",
       "      <th>Average Medicare Payments</th>\n",
       "      <th>State_col</th>\n",
       "    </tr>\n",
       "  </thead>\n",
       "  <tbody>\n",
       "    <tr>\n",
       "      <th>0</th>\n",
       "      <td>AK</td>\n",
       "      <td>12958.973677</td>\n",
       "      <td>0</td>\n",
       "    </tr>\n",
       "    <tr>\n",
       "      <th>1</th>\n",
       "      <td>AL</td>\n",
       "      <td>6418.011329</td>\n",
       "      <td>1</td>\n",
       "    </tr>\n",
       "    <tr>\n",
       "      <th>2</th>\n",
       "      <td>AR</td>\n",
       "      <td>6919.725054</td>\n",
       "      <td>2</td>\n",
       "    </tr>\n",
       "    <tr>\n",
       "      <th>3</th>\n",
       "      <td>AZ</td>\n",
       "      <td>8825.721445</td>\n",
       "      <td>3</td>\n",
       "    </tr>\n",
       "    <tr>\n",
       "      <th>4</th>\n",
       "      <td>CA</td>\n",
       "      <td>11494.385763</td>\n",
       "      <td>4</td>\n",
       "    </tr>\n",
       "  </tbody>\n",
       "</table>\n",
       "</div>"
      ],
      "text/plain": [
       "  Provider State  Average Medicare Payments  State_col\n",
       "0             AK               12958.973677          0\n",
       "1             AL                6418.011329          1\n",
       "2             AR                6919.725054          2\n",
       "3             AZ                8825.721445          3\n",
       "4             CA               11494.385763          4"
      ]
     },
     "execution_count": 134,
     "metadata": {},
     "output_type": "execute_result"
    }
   ],
   "source": [
    "#For inpatient\n",
    "b = inpatient[['Provider State', 'Average Medicare Payments'\n",
    "               ]].groupby('Provider State').mean().reset_index()\n",
    "b['State_col'] = b.index\n",
    "b.head()"
   ]
  },
  {
   "cell_type": "code",
   "execution_count": 135,
   "metadata": {
    "ExecuteTime": {
     "end_time": "2020-05-03T11:29:35.864662Z",
     "start_time": "2020-05-03T11:29:35.361994Z"
    }
   },
   "outputs": [
    {
     "data": {
      "image/png": "[encoded data removed]",
      "text/plain": [
       "<Figure size 432x432 with 3 Axes>"
      ]
     },
     "metadata": {
      "needs_background": "light"
     },
     "output_type": "display_data"
    }
   ],
   "source": [
    "sns.jointplot(x='State_col', y='Average Medicare Payments', data=b)\n",
    "plt.show()"
   ]
  },
  {
   "cell_type": "code",
   "execution_count": 136,
   "metadata": {
    "ExecuteTime": {
     "end_time": "2020-05-03T11:29:52.548264Z",
     "start_time": "2020-05-03T11:29:52.476457Z"
    }
   },
   "outputs": [
    {
     "name": "stderr",
     "output_type": "stream",
     "text": [
      "C:\\Users\\shaur\\Anaconda3\\lib\\site-packages\\ipykernel_launcher.py:2: DataConversionWarning: A column-vector y was passed when a 1d array was expected. Please change the shape of y to (n_samples,), for example using ravel().\n",
      "  \n"
     ]
    },
    {
     "data": {
      "text/plain": [
       "RandomForestRegressor(bootstrap=True, ccp_alpha=0.0, criterion='mse',\n",
       "                      max_depth=None, max_features='auto', max_leaf_nodes=None,\n",
       "                      max_samples=None, min_impurity_decrease=0.0,\n",
       "                      min_impurity_split=None, min_samples_leaf=1,\n",
       "                      min_samples_split=2, min_weight_fraction_leaf=0.0,\n",
       "                      n_estimators=100, n_jobs=None, oob_score=False,\n",
       "                      random_state=None, verbose=0, warm_start=False)"
      ]
     },
     "execution_count": 136,
     "metadata": {},
     "output_type": "execute_result"
    }
   ],
   "source": [
    "model = RandomForestRegressor()\n",
    "model.fit(b['State_col'].values.reshape(-1,1),b['Average Medicare Payments'].values.reshape(-1,1))"
   ]
  },
  {
   "cell_type": "code",
   "execution_count": 137,
   "metadata": {
    "ExecuteTime": {
     "end_time": "2020-05-03T11:30:00.563163Z",
     "start_time": "2020-05-03T11:30:00.544214Z"
    }
   },
   "outputs": [
    {
     "data": {
      "text/plain": [
       "0.7839642283218924"
      ]
     },
     "execution_count": 137,
     "metadata": {},
     "output_type": "execute_result"
    }
   ],
   "source": [
    "model.score(b['State_col'].values.reshape(-1,1),b['Average Medicare Payments'].values.reshape(-1,1))"
   ]
  },
  {
   "cell_type": "code",
   "execution_count": 138,
   "metadata": {
    "ExecuteTime": {
     "end_time": "2020-05-03T11:30:43.640147Z",
     "start_time": "2020-05-03T11:30:33.702899Z"
    }
   },
   "outputs": [
    {
     "name": "stdout",
     "output_type": "stream",
     "text": [
      "Fitting 10 folds for each of 70 candidates, totalling 700 fits\n"
     ]
    },
    {
     "name": "stderr",
     "output_type": "stream",
     "text": [
      "[Parallel(n_jobs=-1)]: Using backend LokyBackend with 8 concurrent workers.\n",
      "[Parallel(n_jobs=-1)]: Done   2 tasks      | elapsed:    1.3s\n",
      "[Parallel(n_jobs=-1)]: Done   9 tasks      | elapsed:    1.4s\n",
      "[Parallel(n_jobs=-1)]: Done  16 tasks      | elapsed:    1.5s\n",
      "[Parallel(n_jobs=-1)]: Done  25 tasks      | elapsed:    1.5s\n",
      "[Parallel(n_jobs=-1)]: Batch computation too fast (0.1914s.) Setting batch_size=2.\n",
      "[Parallel(n_jobs=-1)]: Done  34 tasks      | elapsed:    1.6s\n",
      "[Parallel(n_jobs=-1)]: Done  45 tasks      | elapsed:    1.7s\n",
      "[Parallel(n_jobs=-1)]: Done  64 tasks      | elapsed:    2.1s\n",
      "[Parallel(n_jobs=-1)]: Done  90 tasks      | elapsed:    2.4s\n",
      "[Parallel(n_jobs=-1)]: Done 116 tasks      | elapsed:    2.9s\n",
      "[Parallel(n_jobs=-1)]: Done 146 tasks      | elapsed:    3.5s\n",
      "[Parallel(n_jobs=-1)]: Done 176 tasks      | elapsed:    3.7s\n",
      "[Parallel(n_jobs=-1)]: Done 210 tasks      | elapsed:    4.2s\n",
      "[Parallel(n_jobs=-1)]: Done 244 tasks      | elapsed:    4.5s\n",
      "[Parallel(n_jobs=-1)]: Done 282 tasks      | elapsed:    5.0s\n",
      "[Parallel(n_jobs=-1)]: Done 320 tasks      | elapsed:    5.3s\n",
      "[Parallel(n_jobs=-1)]: Done 362 tasks      | elapsed:    5.9s\n",
      "[Parallel(n_jobs=-1)]: Done 404 tasks      | elapsed:    6.4s\n",
      "[Parallel(n_jobs=-1)]: Done 450 tasks      | elapsed:    6.8s\n",
      "[Parallel(n_jobs=-1)]: Done 496 tasks      | elapsed:    7.4s\n",
      "[Parallel(n_jobs=-1)]: Done 546 tasks      | elapsed:    8.0s\n",
      "[Parallel(n_jobs=-1)]: Done 596 tasks      | elapsed:    8.5s\n",
      "[Parallel(n_jobs=-1)]: Done 650 tasks      | elapsed:    9.1s\n",
      "[Parallel(n_jobs=-1)]: Done 700 out of 700 | elapsed:    9.7s finished\n",
      "C:\\Users\\shaur\\Anaconda3\\lib\\site-packages\\sklearn\\model_selection\\_search.py:739: DataConversionWarning: A column-vector y was passed when a 1d array was expected. Please change the shape of y to (n_samples,), for example using ravel().\n",
      "  self.best_estimator_.fit(X, y, **fit_params)\n"
     ]
    },
    {
     "data": {
      "text/plain": [
       "GridSearchCV(cv=10, error_score=nan,\n",
       "             estimator=RandomForestRegressor(bootstrap=True, ccp_alpha=0.0,\n",
       "                                             criterion='mse', max_depth=None,\n",
       "                                             max_features='auto',\n",
       "                                             max_leaf_nodes=None,\n",
       "                                             max_samples=None,\n",
       "                                             min_impurity_decrease=0.0,\n",
       "                                             min_impurity_split=None,\n",
       "                                             min_samples_leaf=1,\n",
       "                                             min_samples_split=2,\n",
       "                                             min_weight_fraction_leaf=0.0,\n",
       "                                             n_estimators=100, n_jobs=None,\n",
       "                                             oob_score=False,\n",
       "                                             random_state=12345, verbose=0,\n",
       "                                             warm_start=False),\n",
       "             iid='deprecated', n_jobs=-1,\n",
       "             param_grid={'max_features': range(0, 10),\n",
       "                         'n_estimators': [70, 80, 90, 100, 120, 150, 200]},\n",
       "             pre_dispatch='2*n_jobs', refit=True, return_train_score=False,\n",
       "             scoring=None, verbose=10)"
      ]
     },
     "execution_count": 138,
     "metadata": {},
     "output_type": "execute_result"
    }
   ],
   "source": [
    "from sklearn.model_selection import GridSearchCV\n",
    "\n",
    "param_grid = {\n",
    "    'n_estimators': [70, 80, 90, 100, 120, 150, 200],\n",
    "    'max_features': range(0, 10, 1),\n",
    "}\n",
    "\n",
    "model_rgscv = GridSearchCV(RandomForestRegressor(random_state=12345),\n",
    "                           param_grid,\n",
    "                           cv=10,\n",
    "                           verbose=10,\n",
    "                           n_jobs=-1)\n",
    "\n",
    "model_rgscv.fit(b['State_col'].values.reshape(-1, 1),\n",
    "                b['Average Medicare Payments'].values.reshape(-1, 1))"
   ]
  },
  {
   "cell_type": "code",
   "execution_count": 139,
   "metadata": {
    "ExecuteTime": {
     "end_time": "2020-05-03T11:30:52.091908Z",
     "start_time": "2020-05-03T11:30:52.071963Z"
    }
   },
   "outputs": [
    {
     "data": {
      "text/plain": [
       "0.8008950118175274"
      ]
     },
     "execution_count": 139,
     "metadata": {},
     "output_type": "execute_result"
    }
   ],
   "source": [
    "model_rgscv.score(b['State_col'].values.reshape(-1,1),b['Average Medicare Payments'].values.reshape(-1,1))"
   ]
  },
  {
   "cell_type": "code",
   "execution_count": 140,
   "metadata": {
    "ExecuteTime": {
     "end_time": "2020-05-03T11:31:04.517685Z",
     "start_time": "2020-05-03T11:31:04.492753Z"
    }
   },
   "outputs": [],
   "source": [
    "b['Predicted']=model_rgscv.predict(b['State_col'].values.reshape(-1,1))\n",
    "b['Residual']=abs(b['Predicted']-b['Average Medicare Payments'])"
   ]
  },
  {
   "cell_type": "code",
   "execution_count": 142,
   "metadata": {
    "ExecuteTime": {
     "end_time": "2020-05-03T11:31:15.370094Z",
     "start_time": "2020-05-03T11:31:15.358127Z"
    }
   },
   "outputs": [
    {
     "data": {
      "text/html": [
       "<div>\n",
       "<style scoped>\n",
       "    .dataframe tbody tr th:only-of-type {\n",
       "        vertical-align: middle;\n",
       "    }\n",
       "\n",
       "    .dataframe tbody tr th {\n",
       "        vertical-align: top;\n",
       "    }\n",
       "\n",
       "    .dataframe thead th {\n",
       "        text-align: right;\n",
       "    }\n",
       "</style>\n",
       "<table border=\"1\" class=\"dataframe\">\n",
       "  <thead>\n",
       "    <tr style=\"text-align: right;\">\n",
       "      <th></th>\n",
       "      <th>Provider State</th>\n",
       "      <th>Average Medicare Payments</th>\n",
       "      <th>State_col</th>\n",
       "      <th>Predicted</th>\n",
       "      <th>Residual</th>\n",
       "    </tr>\n",
       "  </thead>\n",
       "  <tbody>\n",
       "    <tr>\n",
       "      <th>0</th>\n",
       "      <td>AK</td>\n",
       "      <td>12958.973677</td>\n",
       "      <td>0</td>\n",
       "      <td>11109.792003</td>\n",
       "      <td>1849.181674</td>\n",
       "    </tr>\n",
       "    <tr>\n",
       "      <th>1</th>\n",
       "      <td>AL</td>\n",
       "      <td>6418.011329</td>\n",
       "      <td>1</td>\n",
       "      <td>8133.654135</td>\n",
       "      <td>1715.642806</td>\n",
       "    </tr>\n",
       "    <tr>\n",
       "      <th>4</th>\n",
       "      <td>CA</td>\n",
       "      <td>11494.385763</td>\n",
       "      <td>4</td>\n",
       "      <td>10249.450856</td>\n",
       "      <td>1244.934908</td>\n",
       "    </tr>\n",
       "  </tbody>\n",
       "</table>\n",
       "</div>"
      ],
      "text/plain": [
       "  Provider State  Average Medicare Payments  State_col     Predicted  \\\n",
       "0             AK               12958.973677          0  11109.792003   \n",
       "1             AL                6418.011329          1   8133.654135   \n",
       "4             CA               11494.385763          4  10249.450856   \n",
       "\n",
       "      Residual  \n",
       "0  1849.181674  \n",
       "1  1715.642806  \n",
       "4  1244.934908  "
      ]
     },
     "execution_count": 142,
     "metadata": {},
     "output_type": "execute_result"
    }
   ],
   "source": [
    "#Details Concerning Required States\n",
    "b.sort_values('Residual',ascending=False).head(3)"
   ]
  },
  {
   "cell_type": "code",
   "execution_count": 143,
   "metadata": {
    "ExecuteTime": {
     "end_time": "2020-05-03T11:31:30.404072Z",
     "start_time": "2020-05-03T11:31:30.389113Z"
    }
   },
   "outputs": [],
   "source": [
    "#For outpatients\n",
    "b = outpatient[['Provider State', 'Average Total Payments'\n",
    "                ]].groupby('Provider State').mean().reset_index()\n",
    "b['State_col'] = b.index"
   ]
  },
  {
   "cell_type": "code",
   "execution_count": 144,
   "metadata": {
    "ExecuteTime": {
     "end_time": "2020-05-03T11:31:47.180892Z",
     "start_time": "2020-05-03T11:31:46.671256Z"
    }
   },
   "outputs": [
    {
     "data": {
      "image/png": "[encoded data removed]",
      "text/plain": [
       "<Figure size 432x432 with 3 Axes>"
      ]
     },
     "metadata": {
      "needs_background": "light"
     },
     "output_type": "display_data"
    }
   ],
   "source": [
    "sns.jointplot(x='State_col', y='Average Total Payments', data=b)\n",
    "\n",
    "plt.show()"
   ]
  },
  {
   "cell_type": "code",
   "execution_count": 145,
   "metadata": {
    "ExecuteTime": {
     "end_time": "2020-05-03T11:31:58.232307Z",
     "start_time": "2020-05-03T11:31:58.163491Z"
    }
   },
   "outputs": [
    {
     "name": "stderr",
     "output_type": "stream",
     "text": [
      "C:\\Users\\shaur\\Anaconda3\\lib\\site-packages\\ipykernel_launcher.py:2: DataConversionWarning: A column-vector y was passed when a 1d array was expected. Please change the shape of y to (n_samples,), for example using ravel().\n",
      "  \n"
     ]
    },
    {
     "data": {
      "text/plain": [
       "RandomForestRegressor(bootstrap=True, ccp_alpha=0.0, criterion='mse',\n",
       "                      max_depth=None, max_features='auto', max_leaf_nodes=None,\n",
       "                      max_samples=None, min_impurity_decrease=0.0,\n",
       "                      min_impurity_split=None, min_samples_leaf=1,\n",
       "                      min_samples_split=2, min_weight_fraction_leaf=0.0,\n",
       "                      n_estimators=100, n_jobs=None, oob_score=False,\n",
       "                      random_state=None, verbose=0, warm_start=False)"
      ]
     },
     "execution_count": 145,
     "metadata": {},
     "output_type": "execute_result"
    }
   ],
   "source": [
    "model = RandomForestRegressor()\n",
    "model.fit(b['State_col'].values.reshape(-1,1), b['Average Total Payments'].values.reshape(-1,1))"
   ]
  },
  {
   "cell_type": "code",
   "execution_count": 146,
   "metadata": {
    "ExecuteTime": {
     "end_time": "2020-05-03T11:32:10.689991Z",
     "start_time": "2020-05-03T11:32:10.674034Z"
    }
   },
   "outputs": [
    {
     "data": {
      "text/plain": [
       "0.7802858379909832"
      ]
     },
     "execution_count": 146,
     "metadata": {},
     "output_type": "execute_result"
    }
   ],
   "source": [
    "model.score(b['State_col'].values.reshape(-1,1), b['Average Total Payments'].values.reshape(-1,1))"
   ]
  },
  {
   "cell_type": "code",
   "execution_count": 147,
   "metadata": {
    "ExecuteTime": {
     "end_time": "2020-05-03T11:32:43.524849Z",
     "start_time": "2020-05-03T11:32:35.182869Z"
    }
   },
   "outputs": [
    {
     "name": "stdout",
     "output_type": "stream",
     "text": [
      "Fitting 10 folds for each of 70 candidates, totalling 700 fits\n"
     ]
    },
    {
     "name": "stderr",
     "output_type": "stream",
     "text": [
      "[Parallel(n_jobs=-1)]: Using backend LokyBackend with 8 concurrent workers.\n",
      "[Parallel(n_jobs=-1)]: Batch computation too fast (0.0459s.) Setting batch_size=2.\n",
      "[Parallel(n_jobs=-1)]: Done   2 tasks      | elapsed:    0.0s\n",
      "[Parallel(n_jobs=-1)]: Done   9 tasks      | elapsed:    0.0s\n",
      "[Parallel(n_jobs=-1)]: Done  16 tasks      | elapsed:    0.1s\n",
      "[Parallel(n_jobs=-1)]: Batch computation too fast (0.1685s.) Setting batch_size=4.\n",
      "[Parallel(n_jobs=-1)]: Done  34 tasks      | elapsed:    0.3s\n",
      "[Parallel(n_jobs=-1)]: Done  56 tasks      | elapsed:    0.7s\n",
      "[Parallel(n_jobs=-1)]: Done 100 tasks      | elapsed:    1.2s\n",
      "[Parallel(n_jobs=-1)]: Done 144 tasks      | elapsed:    2.0s\n",
      "[Parallel(n_jobs=-1)]: Done 196 tasks      | elapsed:    2.8s\n",
      "[Parallel(n_jobs=-1)]: Done 248 tasks      | elapsed:    3.3s\n",
      "[Parallel(n_jobs=-1)]: Done 308 tasks      | elapsed:    3.9s\n",
      "[Parallel(n_jobs=-1)]: Done 368 tasks      | elapsed:    4.5s\n",
      "[Parallel(n_jobs=-1)]: Done 436 tasks      | elapsed:    5.3s\n",
      "[Parallel(n_jobs=-1)]: Done 504 tasks      | elapsed:    6.0s\n",
      "[Parallel(n_jobs=-1)]: Done 580 tasks      | elapsed:    6.8s\n",
      "[Parallel(n_jobs=-1)]: Done 656 tasks      | elapsed:    7.7s\n",
      "[Parallel(n_jobs=-1)]: Done 685 out of 700 | elapsed:    8.0s remaining:    0.1s\n",
      "[Parallel(n_jobs=-1)]: Done 700 out of 700 | elapsed:    8.1s finished\n",
      "C:\\Users\\shaur\\Anaconda3\\lib\\site-packages\\sklearn\\model_selection\\_search.py:739: DataConversionWarning: A column-vector y was passed when a 1d array was expected. Please change the shape of y to (n_samples,), for example using ravel().\n",
      "  self.best_estimator_.fit(X, y, **fit_params)\n"
     ]
    },
    {
     "data": {
      "text/plain": [
       "GridSearchCV(cv=10, error_score=nan,\n",
       "             estimator=RandomForestRegressor(bootstrap=True, ccp_alpha=0.0,\n",
       "                                             criterion='mse', max_depth=None,\n",
       "                                             max_features='auto',\n",
       "                                             max_leaf_nodes=None,\n",
       "                                             max_samples=None,\n",
       "                                             min_impurity_decrease=0.0,\n",
       "                                             min_impurity_split=None,\n",
       "                                             min_samples_leaf=1,\n",
       "                                             min_samples_split=2,\n",
       "                                             min_weight_fraction_leaf=0.0,\n",
       "                                             n_estimators=100, n_jobs=None,\n",
       "                                             oob_score=False,\n",
       "                                             random_state=12345, verbose=0,\n",
       "                                             warm_start=False),\n",
       "             iid='deprecated', n_jobs=-1,\n",
       "             param_grid={'max_features': range(0, 10),\n",
       "                         'n_estimators': [70, 80, 90, 100, 120, 150, 200]},\n",
       "             pre_dispatch='2*n_jobs', refit=True, return_train_score=False,\n",
       "             scoring=None, verbose=10)"
      ]
     },
     "execution_count": 147,
     "metadata": {},
     "output_type": "execute_result"
    }
   ],
   "source": [
    "from sklearn.model_selection import GridSearchCV\n",
    "\n",
    "param_grid = {\n",
    "    'n_estimators': [70, 80, 90, 100, 120, 150, 200],\n",
    "    'max_features': range(0, 10, 1),\n",
    "}\n",
    "\n",
    "model_rgscv = GridSearchCV(RandomForestRegressor(random_state=12345),\n",
    "                           param_grid,\n",
    "                           cv=10,\n",
    "                           verbose=10,\n",
    "                           n_jobs=-1)\n",
    "\n",
    "model_rgscv.fit(b['State_col'].values.reshape(-1, 1),\n",
    "                b['Average Total Payments'].values.reshape(-1, 1))"
   ]
  },
  {
   "cell_type": "code",
   "execution_count": 148,
   "metadata": {
    "ExecuteTime": {
     "end_time": "2020-05-03T11:32:43.543798Z",
     "start_time": "2020-05-03T11:32:43.529836Z"
    }
   },
   "outputs": [
    {
     "data": {
      "text/plain": [
       "0.7802858379909832"
      ]
     },
     "execution_count": 148,
     "metadata": {},
     "output_type": "execute_result"
    }
   ],
   "source": [
    "model.score(b['State_col'].values.reshape(-1,1), b['Average Total Payments'].values.reshape(-1,1))"
   ]
  },
  {
   "cell_type": "code",
   "execution_count": 149,
   "metadata": {
    "ExecuteTime": {
     "end_time": "2020-05-03T11:32:59.072321Z",
     "start_time": "2020-05-03T11:32:59.056365Z"
    }
   },
   "outputs": [],
   "source": [
    "b['Predicted'] = model.predict(b['State_col'].values.reshape(-1, 1))\n",
    "b['Residual'] = abs(b['Predicted'] - b['Average Total Payments'])"
   ]
  },
  {
   "cell_type": "code",
   "execution_count": 150,
   "metadata": {
    "ExecuteTime": {
     "end_time": "2020-05-03T11:33:11.836646Z",
     "start_time": "2020-05-03T11:33:11.818693Z"
    }
   },
   "outputs": [
    {
     "data": {
      "text/html": [
       "<div>\n",
       "<style scoped>\n",
       "    .dataframe tbody tr th:only-of-type {\n",
       "        vertical-align: middle;\n",
       "    }\n",
       "\n",
       "    .dataframe tbody tr th {\n",
       "        vertical-align: top;\n",
       "    }\n",
       "\n",
       "    .dataframe thead th {\n",
       "        text-align: right;\n",
       "    }\n",
       "</style>\n",
       "<table border=\"1\" class=\"dataframe\">\n",
       "  <thead>\n",
       "    <tr style=\"text-align: right;\">\n",
       "      <th></th>\n",
       "      <th>Provider State</th>\n",
       "      <th>Average Total Payments</th>\n",
       "      <th>State_col</th>\n",
       "      <th>Predicted</th>\n",
       "      <th>Residual</th>\n",
       "    </tr>\n",
       "  </thead>\n",
       "  <tbody>\n",
       "    <tr>\n",
       "      <th>49</th>\n",
       "      <td>WY</td>\n",
       "      <td>307.213348</td>\n",
       "      <td>49</td>\n",
       "      <td>287.101547</td>\n",
       "      <td>20.111801</td>\n",
       "    </tr>\n",
       "    <tr>\n",
       "      <th>31</th>\n",
       "      <td>NM</td>\n",
       "      <td>257.995555</td>\n",
       "      <td>31</td>\n",
       "      <td>276.501275</td>\n",
       "      <td>18.505720</td>\n",
       "    </tr>\n",
       "    <tr>\n",
       "      <th>27</th>\n",
       "      <td>ND</td>\n",
       "      <td>308.585477</td>\n",
       "      <td>27</td>\n",
       "      <td>290.242285</td>\n",
       "      <td>18.343193</td>\n",
       "    </tr>\n",
       "  </tbody>\n",
       "</table>\n",
       "</div>"
      ],
      "text/plain": [
       "   Provider State  Average Total Payments  State_col   Predicted   Residual\n",
       "49             WY              307.213348         49  287.101547  20.111801\n",
       "31             NM              257.995555         31  276.501275  18.505720\n",
       "27             ND              308.585477         27  290.242285  18.343193"
      ]
     },
     "execution_count": 150,
     "metadata": {},
     "output_type": "execute_result"
    }
   ],
   "source": [
    "#Details Concerning Required States\n",
    "b.sort_values('Residual', ascending=False).head(3)"
   ]
  },
  {
   "cell_type": "markdown",
   "metadata": {
    "ExecuteTime": {
     "end_time": "2020-05-03T11:33:19.544759Z",
     "start_time": "2020-05-03T11:33:19.539772Z"
    }
   },
   "source": [
    "### Part3: Identify 10000 Medicare patients who are involved in anomalous activities."
   ]
  },
  {
   "cell_type": "code",
   "execution_count": 158,
   "metadata": {
    "ExecuteTime": {
     "end_time": "2020-05-03T11:50:34.487196Z",
     "start_time": "2020-05-03T11:50:34.478220Z"
    }
   },
   "outputs": [
    {
     "data": {
      "text/html": [
       "<div>\n",
       "<style scoped>\n",
       "    .dataframe tbody tr th:only-of-type {\n",
       "        vertical-align: middle;\n",
       "    }\n",
       "\n",
       "    .dataframe tbody tr th {\n",
       "        vertical-align: top;\n",
       "    }\n",
       "\n",
       "    .dataframe thead th {\n",
       "        text-align: right;\n",
       "    }\n",
       "</style>\n",
       "<table border=\"1\" class=\"dataframe\">\n",
       "  <thead>\n",
       "    <tr style=\"text-align: right;\">\n",
       "      <th></th>\n",
       "      <th>id</th>\n",
       "      <th>age</th>\n",
       "      <th>gender</th>\n",
       "      <th>income</th>\n",
       "    </tr>\n",
       "  </thead>\n",
       "  <tbody>\n",
       "    <tr>\n",
       "      <th>0</th>\n",
       "      <td>306535165</td>\n",
       "      <td>65-74</td>\n",
       "      <td>F</td>\n",
       "      <td>24000-31999</td>\n",
       "    </tr>\n",
       "    <tr>\n",
       "      <th>1</th>\n",
       "      <td>742231134</td>\n",
       "      <td>65-74</td>\n",
       "      <td>F</td>\n",
       "      <td>48000+</td>\n",
       "    </tr>\n",
       "    <tr>\n",
       "      <th>2</th>\n",
       "      <td>928807201</td>\n",
       "      <td>75-84</td>\n",
       "      <td>M</td>\n",
       "      <td>24000-31999</td>\n",
       "    </tr>\n",
       "    <tr>\n",
       "      <th>3</th>\n",
       "      <td>83686538</td>\n",
       "      <td>&lt;65</td>\n",
       "      <td>F</td>\n",
       "      <td>32000-47999</td>\n",
       "    </tr>\n",
       "    <tr>\n",
       "      <th>4</th>\n",
       "      <td>755607449</td>\n",
       "      <td>65-74</td>\n",
       "      <td>F</td>\n",
       "      <td>48000+</td>\n",
       "    </tr>\n",
       "  </tbody>\n",
       "</table>\n",
       "</div>"
      ],
      "text/plain": [
       "          id    age gender       income\n",
       "0  306535165  65-74      F  24000-31999\n",
       "1  742231134  65-74      F       48000+\n",
       "2  928807201  75-84      M  24000-31999\n",
       "3   83686538    <65      F  32000-47999\n",
       "4  755607449  65-74      F       48000+"
      ]
     },
     "execution_count": 158,
     "metadata": {},
     "output_type": "execute_result"
    }
   ],
   "source": [
    "history.head()"
   ]
  },
  {
   "cell_type": "code",
   "execution_count": 159,
   "metadata": {
    "ExecuteTime": {
     "end_time": "2020-05-03T11:50:34.729548Z",
     "start_time": "2020-05-03T11:50:34.670705Z"
    }
   },
   "outputs": [
    {
     "name": "stdout",
     "output_type": "stream",
     "text": [
      "<class 'pandas.core.frame.DataFrame'>\n",
      "RangeIndex: 500000 entries, 0 to 499999\n",
      "Data columns (total 4 columns):\n",
      "id        500000 non-null int64\n",
      "age       497470 non-null object\n",
      "gender    500000 non-null object\n",
      "income    497469 non-null object\n",
      "dtypes: int64(1), object(3)\n",
      "memory usage: 15.3+ MB\n"
     ]
    }
   ],
   "source": [
    "history.info()"
   ]
  },
  {
   "cell_type": "code",
   "execution_count": 160,
   "metadata": {
    "ExecuteTime": {
     "end_time": "2020-05-03T11:50:34.896102Z",
     "start_time": "2020-05-03T11:50:34.862194Z"
    }
   },
   "outputs": [
    {
     "data": {
      "text/html": [
       "<div>\n",
       "<style scoped>\n",
       "    .dataframe tbody tr th:only-of-type {\n",
       "        vertical-align: middle;\n",
       "    }\n",
       "\n",
       "    .dataframe tbody tr th {\n",
       "        vertical-align: top;\n",
       "    }\n",
       "\n",
       "    .dataframe thead th {\n",
       "        text-align: right;\n",
       "    }\n",
       "</style>\n",
       "<table border=\"1\" class=\"dataframe\">\n",
       "  <thead>\n",
       "    <tr style=\"text-align: right;\">\n",
       "      <th></th>\n",
       "      <th>id</th>\n",
       "    </tr>\n",
       "  </thead>\n",
       "  <tbody>\n",
       "    <tr>\n",
       "      <th>count</th>\n",
       "      <td>5.000000e+05</td>\n",
       "    </tr>\n",
       "    <tr>\n",
       "      <th>mean</th>\n",
       "      <td>5.001562e+08</td>\n",
       "    </tr>\n",
       "    <tr>\n",
       "      <th>std</th>\n",
       "      <td>2.884206e+08</td>\n",
       "    </tr>\n",
       "    <tr>\n",
       "      <th>min</th>\n",
       "      <td>7.561000e+03</td>\n",
       "    </tr>\n",
       "    <tr>\n",
       "      <th>25%</th>\n",
       "      <td>2.505402e+08</td>\n",
       "    </tr>\n",
       "    <tr>\n",
       "      <th>50%</th>\n",
       "      <td>5.001085e+08</td>\n",
       "    </tr>\n",
       "    <tr>\n",
       "      <th>75%</th>\n",
       "      <td>7.495556e+08</td>\n",
       "    </tr>\n",
       "    <tr>\n",
       "      <th>max</th>\n",
       "      <td>9.999957e+08</td>\n",
       "    </tr>\n",
       "  </tbody>\n",
       "</table>\n",
       "</div>"
      ],
      "text/plain": [
       "                 id\n",
       "count  5.000000e+05\n",
       "mean   5.001562e+08\n",
       "std    2.884206e+08\n",
       "min    7.561000e+03\n",
       "25%    2.505402e+08\n",
       "50%    5.001085e+08\n",
       "75%    7.495556e+08\n",
       "max    9.999957e+08"
      ]
     },
     "execution_count": 160,
     "metadata": {},
     "output_type": "execute_result"
    }
   ],
   "source": [
    "history.describe()"
   ]
  },
  {
   "cell_type": "code",
   "execution_count": 161,
   "metadata": {
    "ExecuteTime": {
     "end_time": "2020-05-03T11:50:35.049692Z",
     "start_time": "2020-05-03T11:50:35.039719Z"
    }
   },
   "outputs": [
    {
     "data": {
      "text/html": [
       "<div>\n",
       "<style scoped>\n",
       "    .dataframe tbody tr th:only-of-type {\n",
       "        vertical-align: middle;\n",
       "    }\n",
       "\n",
       "    .dataframe tbody tr th {\n",
       "        vertical-align: top;\n",
       "    }\n",
       "\n",
       "    .dataframe thead th {\n",
       "        text-align: right;\n",
       "    }\n",
       "</style>\n",
       "<table border=\"1\" class=\"dataframe\">\n",
       "  <thead>\n",
       "    <tr style=\"text-align: right;\">\n",
       "      <th></th>\n",
       "      <th>id</th>\n",
       "      <th>global_proc_id</th>\n",
       "      <th>count</th>\n",
       "    </tr>\n",
       "  </thead>\n",
       "  <tbody>\n",
       "    <tr>\n",
       "      <th>0</th>\n",
       "      <td>159125</td>\n",
       "      <td>1</td>\n",
       "      <td>1</td>\n",
       "    </tr>\n",
       "    <tr>\n",
       "      <th>1</th>\n",
       "      <td>191852</td>\n",
       "      <td>1</td>\n",
       "      <td>1</td>\n",
       "    </tr>\n",
       "    <tr>\n",
       "      <th>2</th>\n",
       "      <td>321083</td>\n",
       "      <td>1</td>\n",
       "      <td>1</td>\n",
       "    </tr>\n",
       "    <tr>\n",
       "      <th>3</th>\n",
       "      <td>383037</td>\n",
       "      <td>1</td>\n",
       "      <td>1</td>\n",
       "    </tr>\n",
       "    <tr>\n",
       "      <th>4</th>\n",
       "      <td>467729</td>\n",
       "      <td>1</td>\n",
       "      <td>1</td>\n",
       "    </tr>\n",
       "  </tbody>\n",
       "</table>\n",
       "</div>"
      ],
      "text/plain": [
       "       id  global_proc_id  count\n",
       "0  159125               1      1\n",
       "1  191852               1      1\n",
       "2  321083               1      1\n",
       "3  383037               1      1\n",
       "4  467729               1      1"
      ]
     },
     "execution_count": 161,
     "metadata": {},
     "output_type": "execute_result"
    }
   ],
   "source": [
    "trans.head()"
   ]
  },
  {
   "cell_type": "code",
   "execution_count": 162,
   "metadata": {
    "ExecuteTime": {
     "end_time": "2020-05-03T11:50:35.290565Z",
     "start_time": "2020-05-03T11:50:35.217761Z"
    }
   },
   "outputs": [
    {
     "name": "stdout",
     "output_type": "stream",
     "text": [
      "<class 'pandas.core.frame.DataFrame'>\n",
      "RangeIndex: 1514809 entries, 0 to 1514808\n",
      "Data columns (total 3 columns):\n",
      "id                1514809 non-null int64\n",
      "global_proc_id    1514809 non-null int64\n",
      "count             1514809 non-null int64\n",
      "dtypes: int64(3)\n",
      "memory usage: 34.7 MB\n"
     ]
    }
   ],
   "source": [
    "trans.info()"
   ]
  },
  {
   "cell_type": "code",
   "execution_count": 163,
   "metadata": {
    "ExecuteTime": {
     "end_time": "2020-05-03T11:50:35.572811Z",
     "start_time": "2020-05-03T11:50:35.412240Z"
    }
   },
   "outputs": [
    {
     "data": {
      "text/html": [
       "<div>\n",
       "<style scoped>\n",
       "    .dataframe tbody tr th:only-of-type {\n",
       "        vertical-align: middle;\n",
       "    }\n",
       "\n",
       "    .dataframe tbody tr th {\n",
       "        vertical-align: top;\n",
       "    }\n",
       "\n",
       "    .dataframe thead th {\n",
       "        text-align: right;\n",
       "    }\n",
       "</style>\n",
       "<table border=\"1\" class=\"dataframe\">\n",
       "  <thead>\n",
       "    <tr style=\"text-align: right;\">\n",
       "      <th></th>\n",
       "      <th>id</th>\n",
       "      <th>global_proc_id</th>\n",
       "      <th>count</th>\n",
       "    </tr>\n",
       "  </thead>\n",
       "  <tbody>\n",
       "    <tr>\n",
       "      <th>count</th>\n",
       "      <td>1.514809e+06</td>\n",
       "      <td>1.514809e+06</td>\n",
       "      <td>1514809.0</td>\n",
       "    </tr>\n",
       "    <tr>\n",
       "      <th>mean</th>\n",
       "      <td>5.000708e+08</td>\n",
       "      <td>3.847588e+01</td>\n",
       "      <td>1.0</td>\n",
       "    </tr>\n",
       "    <tr>\n",
       "      <th>std</th>\n",
       "      <td>2.883678e+08</td>\n",
       "      <td>3.123966e+01</td>\n",
       "      <td>0.0</td>\n",
       "    </tr>\n",
       "    <tr>\n",
       "      <th>min</th>\n",
       "      <td>7.561000e+03</td>\n",
       "      <td>1.000000e+00</td>\n",
       "      <td>1.0</td>\n",
       "    </tr>\n",
       "    <tr>\n",
       "      <th>25%</th>\n",
       "      <td>2.504427e+08</td>\n",
       "      <td>2.200000e+01</td>\n",
       "      <td>1.0</td>\n",
       "    </tr>\n",
       "    <tr>\n",
       "      <th>50%</th>\n",
       "      <td>4.999363e+08</td>\n",
       "      <td>2.600000e+01</td>\n",
       "      <td>1.0</td>\n",
       "    </tr>\n",
       "    <tr>\n",
       "      <th>75%</th>\n",
       "      <td>7.493563e+08</td>\n",
       "      <td>4.200000e+01</td>\n",
       "      <td>1.0</td>\n",
       "    </tr>\n",
       "    <tr>\n",
       "      <th>max</th>\n",
       "      <td>9.999957e+08</td>\n",
       "      <td>1.300000e+02</td>\n",
       "      <td>1.0</td>\n",
       "    </tr>\n",
       "  </tbody>\n",
       "</table>\n",
       "</div>"
      ],
      "text/plain": [
       "                 id  global_proc_id      count\n",
       "count  1.514809e+06    1.514809e+06  1514809.0\n",
       "mean   5.000708e+08    3.847588e+01        1.0\n",
       "std    2.883678e+08    3.123966e+01        0.0\n",
       "min    7.561000e+03    1.000000e+00        1.0\n",
       "25%    2.504427e+08    2.200000e+01        1.0\n",
       "50%    4.999363e+08    2.600000e+01        1.0\n",
       "75%    7.493563e+08    4.200000e+01        1.0\n",
       "max    9.999957e+08    1.300000e+02        1.0"
      ]
     },
     "execution_count": 163,
     "metadata": {},
     "output_type": "execute_result"
    }
   ],
   "source": [
    "trans.describe()"
   ]
  },
  {
   "cell_type": "code",
   "execution_count": 164,
   "metadata": {
    "ExecuteTime": {
     "end_time": "2020-05-03T11:51:00.144117Z",
     "start_time": "2020-05-03T11:51:00.140128Z"
    }
   },
   "outputs": [],
   "source": [
    "#Fixing the null values; replacing them with mode"
   ]
  },
  {
   "cell_type": "code",
   "execution_count": 165,
   "metadata": {
    "ExecuteTime": {
     "end_time": "2020-05-03T11:51:13.922251Z",
     "start_time": "2020-05-03T11:51:13.814539Z"
    }
   },
   "outputs": [],
   "source": [
    "history.age = history.age.fillna(history.age.mode()[0])\n",
    "history.income = history.income.fillna(history.income.mode()[0])"
   ]
  },
  {
   "cell_type": "code",
   "execution_count": 166,
   "metadata": {
    "ExecuteTime": {
     "end_time": "2020-05-03T11:51:20.804056Z",
     "start_time": "2020-05-03T11:51:20.521812Z"
    }
   },
   "outputs": [],
   "source": [
    "trans=trans[['id','count']].groupby('id').sum()"
   ]
  },
  {
   "cell_type": "code",
   "execution_count": 167,
   "metadata": {
    "ExecuteTime": {
     "end_time": "2020-05-03T11:51:24.686300Z",
     "start_time": "2020-05-03T11:51:24.681314Z"
    }
   },
   "outputs": [],
   "source": [
    "history.set_index('id',inplace=True)"
   ]
  },
  {
   "cell_type": "code",
   "execution_count": 168,
   "metadata": {
    "ExecuteTime": {
     "end_time": "2020-05-03T11:51:28.661828Z",
     "start_time": "2020-05-03T11:51:28.657840Z"
    }
   },
   "outputs": [],
   "source": [
    "#Combining transactional information, trans and history data set, to form \"x\" which will form base table"
   ]
  },
  {
   "cell_type": "code",
   "execution_count": 169,
   "metadata": {
    "ExecuteTime": {
     "end_time": "2020-05-03T11:51:32.626349Z",
     "start_time": "2020-05-03T11:51:32.407919Z"
    }
   },
   "outputs": [],
   "source": [
    "x=pd.concat([trans,history],join='inner',axis=1)"
   ]
  },
  {
   "cell_type": "code",
   "execution_count": 170,
   "metadata": {
    "ExecuteTime": {
     "end_time": "2020-05-03T11:51:36.841261Z",
     "start_time": "2020-05-03T11:51:36.831287Z"
    }
   },
   "outputs": [
    {
     "data": {
      "text/html": [
       "<div>\n",
       "<style scoped>\n",
       "    .dataframe tbody tr th:only-of-type {\n",
       "        vertical-align: middle;\n",
       "    }\n",
       "\n",
       "    .dataframe tbody tr th {\n",
       "        vertical-align: top;\n",
       "    }\n",
       "\n",
       "    .dataframe thead th {\n",
       "        text-align: right;\n",
       "    }\n",
       "</style>\n",
       "<table border=\"1\" class=\"dataframe\">\n",
       "  <thead>\n",
       "    <tr style=\"text-align: right;\">\n",
       "      <th></th>\n",
       "      <th>count</th>\n",
       "      <th>age</th>\n",
       "      <th>gender</th>\n",
       "      <th>income</th>\n",
       "    </tr>\n",
       "    <tr>\n",
       "      <th>id</th>\n",
       "      <th></th>\n",
       "      <th></th>\n",
       "      <th></th>\n",
       "      <th></th>\n",
       "    </tr>\n",
       "  </thead>\n",
       "  <tbody>\n",
       "    <tr>\n",
       "      <th>7561</th>\n",
       "      <td>2</td>\n",
       "      <td>65-74</td>\n",
       "      <td>M</td>\n",
       "      <td>48000+</td>\n",
       "    </tr>\n",
       "    <tr>\n",
       "      <th>7619</th>\n",
       "      <td>2</td>\n",
       "      <td>&lt;65</td>\n",
       "      <td>F</td>\n",
       "      <td>48000+</td>\n",
       "    </tr>\n",
       "    <tr>\n",
       "      <th>10479</th>\n",
       "      <td>4</td>\n",
       "      <td>65-74</td>\n",
       "      <td>F</td>\n",
       "      <td>&lt;16000</td>\n",
       "    </tr>\n",
       "    <tr>\n",
       "      <th>13515</th>\n",
       "      <td>2</td>\n",
       "      <td>75-84</td>\n",
       "      <td>M</td>\n",
       "      <td>&lt;16000</td>\n",
       "    </tr>\n",
       "    <tr>\n",
       "      <th>15213</th>\n",
       "      <td>6</td>\n",
       "      <td>85+</td>\n",
       "      <td>M</td>\n",
       "      <td>32000-47999</td>\n",
       "    </tr>\n",
       "  </tbody>\n",
       "</table>\n",
       "</div>"
      ],
      "text/plain": [
       "       count    age gender       income\n",
       "id                                     \n",
       "7561       2  65-74      M       48000+\n",
       "7619       2    <65      F       48000+\n",
       "10479      4  65-74      F       <16000\n",
       "13515      2  75-84      M       <16000\n",
       "15213      6    85+      M  32000-47999"
      ]
     },
     "execution_count": 170,
     "metadata": {},
     "output_type": "execute_result"
    }
   ],
   "source": [
    "x.head()"
   ]
  },
  {
   "cell_type": "code",
   "execution_count": 171,
   "metadata": {
    "ExecuteTime": {
     "end_time": "2020-05-03T11:54:26.519544Z",
     "start_time": "2020-05-03T11:54:26.449730Z"
    }
   },
   "outputs": [
    {
     "name": "stdout",
     "output_type": "stream",
     "text": [
      "<class 'pandas.core.frame.DataFrame'>\n",
      "Int64Index: 500000 entries, 7561 to 999995713\n",
      "Data columns (total 4 columns):\n",
      "count     500000 non-null int64\n",
      "age       500000 non-null object\n",
      "gender    500000 non-null object\n",
      "income    500000 non-null object\n",
      "dtypes: int64(1), object(3)\n",
      "memory usage: 19.1+ MB\n"
     ]
    }
   ],
   "source": [
    "x.info()"
   ]
  },
  {
   "cell_type": "code",
   "execution_count": 172,
   "metadata": {
    "ExecuteTime": {
     "end_time": "2020-05-03T11:54:30.498061Z",
     "start_time": "2020-05-03T11:54:30.462158Z"
    }
   },
   "outputs": [
    {
     "data": {
      "text/html": [
       "<div>\n",
       "<style scoped>\n",
       "    .dataframe tbody tr th:only-of-type {\n",
       "        vertical-align: middle;\n",
       "    }\n",
       "\n",
       "    .dataframe tbody tr th {\n",
       "        vertical-align: top;\n",
       "    }\n",
       "\n",
       "    .dataframe thead th {\n",
       "        text-align: right;\n",
       "    }\n",
       "</style>\n",
       "<table border=\"1\" class=\"dataframe\">\n",
       "  <thead>\n",
       "    <tr style=\"text-align: right;\">\n",
       "      <th></th>\n",
       "      <th>count</th>\n",
       "    </tr>\n",
       "  </thead>\n",
       "  <tbody>\n",
       "    <tr>\n",
       "      <th>count</th>\n",
       "      <td>500000.000000</td>\n",
       "    </tr>\n",
       "    <tr>\n",
       "      <th>mean</th>\n",
       "      <td>2.999536</td>\n",
       "    </tr>\n",
       "    <tr>\n",
       "      <th>std</th>\n",
       "      <td>1.416457</td>\n",
       "    </tr>\n",
       "    <tr>\n",
       "      <th>min</th>\n",
       "      <td>1.000000</td>\n",
       "    </tr>\n",
       "    <tr>\n",
       "      <th>25%</th>\n",
       "      <td>2.000000</td>\n",
       "    </tr>\n",
       "    <tr>\n",
       "      <th>50%</th>\n",
       "      <td>3.000000</td>\n",
       "    </tr>\n",
       "    <tr>\n",
       "      <th>75%</th>\n",
       "      <td>4.000000</td>\n",
       "    </tr>\n",
       "    <tr>\n",
       "      <th>max</th>\n",
       "      <td>13.000000</td>\n",
       "    </tr>\n",
       "  </tbody>\n",
       "</table>\n",
       "</div>"
      ],
      "text/plain": [
       "               count\n",
       "count  500000.000000\n",
       "mean        2.999536\n",
       "std         1.416457\n",
       "min         1.000000\n",
       "25%         2.000000\n",
       "50%         3.000000\n",
       "75%         4.000000\n",
       "max        13.000000"
      ]
     },
     "execution_count": 172,
     "metadata": {},
     "output_type": "execute_result"
    }
   ],
   "source": [
    "x.describe()"
   ]
  },
  {
   "cell_type": "code",
   "execution_count": 173,
   "metadata": {
    "ExecuteTime": {
     "end_time": "2020-05-03T11:56:54.043511Z",
     "start_time": "2020-05-03T11:56:53.834072Z"
    }
   },
   "outputs": [],
   "source": [
    "#Creating dummy variables\n",
    "columns = ['age', 'gender', 'income']\n",
    "for i in columns:\n",
    "    dummy = pd.get_dummies(x[i], prefix=i)\n",
    "    x = pd.concat([x, dummy], axis=1)\n",
    "    x.drop(i, axis=1, inplace=True)"
   ]
  },
  {
   "cell_type": "code",
   "execution_count": 175,
   "metadata": {
    "ExecuteTime": {
     "end_time": "2020-05-03T11:57:09.018557Z",
     "start_time": "2020-05-03T11:57:08.722841Z"
    }
   },
   "outputs": [],
   "source": [
    "from sklearn.preprocessing import StandardScaler\n",
    "xs = StandardScaler().fit_transform(x)"
   ]
  },
  {
   "cell_type": "code",
   "execution_count": 176,
   "metadata": {
    "ExecuteTime": {
     "end_time": "2020-05-03T11:58:29.140625Z",
     "start_time": "2020-05-03T11:58:29.135639Z"
    }
   },
   "outputs": [],
   "source": [
    "x2 = pd.DataFrame(xs)\n",
    "x2.columns = x.columns\n",
    "x2.index = x.index"
   ]
  },
  {
   "cell_type": "code",
   "execution_count": 178,
   "metadata": {
    "ExecuteTime": {
     "end_time": "2020-05-03T11:59:09.243342Z",
     "start_time": "2020-05-03T11:59:09.239352Z"
    }
   },
   "outputs": [],
   "source": [
    "from sklearn.neighbors import LocalOutlierFactor\n",
    "xx = LocalOutlierFactor(n_neighbors=50, n_jobs=-1, contamination=0.002)"
   ]
  },
  {
   "cell_type": "code",
   "execution_count": 179,
   "metadata": {
    "ExecuteTime": {
     "end_time": "2020-05-03T12:08:08.743977Z",
     "start_time": "2020-05-03T11:59:16.162831Z"
    }
   },
   "outputs": [],
   "source": [
    "xa=xx.fit_predict(x2)"
   ]
  },
  {
   "cell_type": "code",
   "execution_count": 180,
   "metadata": {
    "ExecuteTime": {
     "end_time": "2020-05-03T12:08:08.762926Z",
     "start_time": "2020-05-03T12:08:08.757939Z"
    }
   },
   "outputs": [],
   "source": [
    "label = pd.DataFrame(xa)\n",
    "label.index = x2.index\n",
    "label.columns = ['label']"
   ]
  },
  {
   "cell_type": "code",
   "execution_count": 181,
   "metadata": {
    "ExecuteTime": {
     "end_time": "2020-05-03T12:08:08.791849Z",
     "start_time": "2020-05-03T12:08:08.765921Z"
    }
   },
   "outputs": [
    {
     "data": {
      "text/plain": [
       " 1    499011\n",
       "-1       989\n",
       "Name: label, dtype: int64"
      ]
     },
     "execution_count": 181,
     "metadata": {},
     "output_type": "execute_result"
    }
   ],
   "source": [
    "label.label.value_counts()"
   ]
  },
  {
   "cell_type": "code",
   "execution_count": 182,
   "metadata": {
    "ExecuteTime": {
     "end_time": "2020-05-03T12:10:37.257085Z",
     "start_time": "2020-05-03T12:10:37.248110Z"
    }
   },
   "outputs": [],
   "source": [
    "xo=x2[label.label==-1]"
   ]
  },
  {
   "cell_type": "code",
   "execution_count": 183,
   "metadata": {
    "ExecuteTime": {
     "end_time": "2020-05-03T12:10:42.770018Z",
     "start_time": "2020-05-03T12:10:42.749074Z"
    }
   },
   "outputs": [
    {
     "data": {
      "text/html": [
       "<div>\n",
       "<style scoped>\n",
       "    .dataframe tbody tr th:only-of-type {\n",
       "        vertical-align: middle;\n",
       "    }\n",
       "\n",
       "    .dataframe tbody tr th {\n",
       "        vertical-align: top;\n",
       "    }\n",
       "\n",
       "    .dataframe thead th {\n",
       "        text-align: right;\n",
       "    }\n",
       "</style>\n",
       "<table border=\"1\" class=\"dataframe\">\n",
       "  <thead>\n",
       "    <tr style=\"text-align: right;\">\n",
       "      <th></th>\n",
       "      <th>count</th>\n",
       "      <th>age_65-74</th>\n",
       "      <th>age_75-84</th>\n",
       "      <th>age_85+</th>\n",
       "      <th>age_&lt;65</th>\n",
       "      <th>gender_F</th>\n",
       "      <th>gender_M</th>\n",
       "      <th>income_16000-23999</th>\n",
       "      <th>income_24000-31999</th>\n",
       "      <th>income_32000-47999</th>\n",
       "      <th>income_48000+</th>\n",
       "      <th>income_&lt;16000</th>\n",
       "    </tr>\n",
       "    <tr>\n",
       "      <th>id</th>\n",
       "      <th></th>\n",
       "      <th></th>\n",
       "      <th></th>\n",
       "      <th></th>\n",
       "      <th></th>\n",
       "      <th></th>\n",
       "      <th></th>\n",
       "      <th></th>\n",
       "      <th></th>\n",
       "      <th></th>\n",
       "      <th></th>\n",
       "      <th></th>\n",
       "    </tr>\n",
       "  </thead>\n",
       "  <tbody>\n",
       "    <tr>\n",
       "      <th>1552051</th>\n",
       "      <td>4.236251</td>\n",
       "      <td>-0.893112</td>\n",
       "      <td>-0.589644</td>\n",
       "      <td>2.596578</td>\n",
       "      <td>-0.451183</td>\n",
       "      <td>0.906319</td>\n",
       "      <td>-0.906319</td>\n",
       "      <td>-0.507776</td>\n",
       "      <td>-0.422289</td>\n",
       "      <td>-0.487149</td>\n",
       "      <td>-0.557009</td>\n",
       "      <td>1.910315</td>\n",
       "    </tr>\n",
       "    <tr>\n",
       "      <th>2385395</th>\n",
       "      <td>4.942239</td>\n",
       "      <td>-0.893112</td>\n",
       "      <td>1.695939</td>\n",
       "      <td>-0.385122</td>\n",
       "      <td>-0.451183</td>\n",
       "      <td>0.906319</td>\n",
       "      <td>-0.906319</td>\n",
       "      <td>1.969373</td>\n",
       "      <td>-0.422289</td>\n",
       "      <td>-0.487149</td>\n",
       "      <td>-0.557009</td>\n",
       "      <td>-0.523474</td>\n",
       "    </tr>\n",
       "    <tr>\n",
       "      <th>2462212</th>\n",
       "      <td>3.530264</td>\n",
       "      <td>-0.893112</td>\n",
       "      <td>-0.589644</td>\n",
       "      <td>2.596578</td>\n",
       "      <td>-0.451183</td>\n",
       "      <td>-1.103364</td>\n",
       "      <td>1.103364</td>\n",
       "      <td>1.969373</td>\n",
       "      <td>-0.422289</td>\n",
       "      <td>-0.487149</td>\n",
       "      <td>-0.557009</td>\n",
       "      <td>-0.523474</td>\n",
       "    </tr>\n",
       "    <tr>\n",
       "      <th>2673778</th>\n",
       "      <td>3.530264</td>\n",
       "      <td>-0.893112</td>\n",
       "      <td>-0.589644</td>\n",
       "      <td>2.596578</td>\n",
       "      <td>-0.451183</td>\n",
       "      <td>-1.103364</td>\n",
       "      <td>1.103364</td>\n",
       "      <td>-0.507776</td>\n",
       "      <td>-0.422289</td>\n",
       "      <td>-0.487149</td>\n",
       "      <td>-0.557009</td>\n",
       "      <td>1.910315</td>\n",
       "    </tr>\n",
       "    <tr>\n",
       "      <th>2777478</th>\n",
       "      <td>3.530264</td>\n",
       "      <td>-0.893112</td>\n",
       "      <td>1.695939</td>\n",
       "      <td>-0.385122</td>\n",
       "      <td>-0.451183</td>\n",
       "      <td>-1.103364</td>\n",
       "      <td>1.103364</td>\n",
       "      <td>-0.507776</td>\n",
       "      <td>2.368045</td>\n",
       "      <td>-0.487149</td>\n",
       "      <td>-0.557009</td>\n",
       "      <td>-0.523474</td>\n",
       "    </tr>\n",
       "    <tr>\n",
       "      <th>...</th>\n",
       "      <td>...</td>\n",
       "      <td>...</td>\n",
       "      <td>...</td>\n",
       "      <td>...</td>\n",
       "      <td>...</td>\n",
       "      <td>...</td>\n",
       "      <td>...</td>\n",
       "      <td>...</td>\n",
       "      <td>...</td>\n",
       "      <td>...</td>\n",
       "      <td>...</td>\n",
       "      <td>...</td>\n",
       "    </tr>\n",
       "    <tr>\n",
       "      <th>996449832</th>\n",
       "      <td>3.530264</td>\n",
       "      <td>-0.893112</td>\n",
       "      <td>1.695939</td>\n",
       "      <td>-0.385122</td>\n",
       "      <td>-0.451183</td>\n",
       "      <td>0.906319</td>\n",
       "      <td>-0.906319</td>\n",
       "      <td>-0.507776</td>\n",
       "      <td>2.368045</td>\n",
       "      <td>-0.487149</td>\n",
       "      <td>-0.557009</td>\n",
       "      <td>-0.523474</td>\n",
       "    </tr>\n",
       "    <tr>\n",
       "      <th>996803072</th>\n",
       "      <td>3.530264</td>\n",
       "      <td>-0.893112</td>\n",
       "      <td>-0.589644</td>\n",
       "      <td>-0.385122</td>\n",
       "      <td>2.216394</td>\n",
       "      <td>-1.103364</td>\n",
       "      <td>1.103364</td>\n",
       "      <td>-0.507776</td>\n",
       "      <td>-0.422289</td>\n",
       "      <td>-0.487149</td>\n",
       "      <td>-0.557009</td>\n",
       "      <td>1.910315</td>\n",
       "    </tr>\n",
       "    <tr>\n",
       "      <th>997414065</th>\n",
       "      <td>3.530264</td>\n",
       "      <td>-0.893112</td>\n",
       "      <td>-0.589644</td>\n",
       "      <td>2.596578</td>\n",
       "      <td>-0.451183</td>\n",
       "      <td>0.906319</td>\n",
       "      <td>-0.906319</td>\n",
       "      <td>-0.507776</td>\n",
       "      <td>-0.422289</td>\n",
       "      <td>2.052759</td>\n",
       "      <td>-0.557009</td>\n",
       "      <td>-0.523474</td>\n",
       "    </tr>\n",
       "    <tr>\n",
       "      <th>997607529</th>\n",
       "      <td>3.530264</td>\n",
       "      <td>-0.893112</td>\n",
       "      <td>1.695939</td>\n",
       "      <td>-0.385122</td>\n",
       "      <td>-0.451183</td>\n",
       "      <td>-1.103364</td>\n",
       "      <td>1.103364</td>\n",
       "      <td>-0.507776</td>\n",
       "      <td>-0.422289</td>\n",
       "      <td>-0.487149</td>\n",
       "      <td>1.795304</td>\n",
       "      <td>-0.523474</td>\n",
       "    </tr>\n",
       "    <tr>\n",
       "      <th>998120672</th>\n",
       "      <td>4.236251</td>\n",
       "      <td>-0.893112</td>\n",
       "      <td>-0.589644</td>\n",
       "      <td>-0.385122</td>\n",
       "      <td>2.216394</td>\n",
       "      <td>0.906319</td>\n",
       "      <td>-0.906319</td>\n",
       "      <td>-0.507776</td>\n",
       "      <td>-0.422289</td>\n",
       "      <td>2.052759</td>\n",
       "      <td>-0.557009</td>\n",
       "      <td>-0.523474</td>\n",
       "    </tr>\n",
       "  </tbody>\n",
       "</table>\n",
       "<p>989 rows × 12 columns</p>\n",
       "</div>"
      ],
      "text/plain": [
       "              count  age_65-74  age_75-84   age_85+   age_<65  gender_F  \\\n",
       "id                                                                        \n",
       "1552051    4.236251  -0.893112  -0.589644  2.596578 -0.451183  0.906319   \n",
       "2385395    4.942239  -0.893112   1.695939 -0.385122 -0.451183  0.906319   \n",
       "2462212    3.530264  -0.893112  -0.589644  2.596578 -0.451183 -1.103364   \n",
       "2673778    3.530264  -0.893112  -0.589644  2.596578 -0.451183 -1.103364   \n",
       "2777478    3.530264  -0.893112   1.695939 -0.385122 -0.451183 -1.103364   \n",
       "...             ...        ...        ...       ...       ...       ...   \n",
       "996449832  3.530264  -0.893112   1.695939 -0.385122 -0.451183  0.906319   \n",
       "996803072  3.530264  -0.893112  -0.589644 -0.385122  2.216394 -1.103364   \n",
       "997414065  3.530264  -0.893112  -0.589644  2.596578 -0.451183  0.906319   \n",
       "997607529  3.530264  -0.893112   1.695939 -0.385122 -0.451183 -1.103364   \n",
       "998120672  4.236251  -0.893112  -0.589644 -0.385122  2.216394  0.906319   \n",
       "\n",
       "           gender_M  income_16000-23999  income_24000-31999  \\\n",
       "id                                                            \n",
       "1552051   -0.906319           -0.507776           -0.422289   \n",
       "2385395   -0.906319            1.969373           -0.422289   \n",
       "2462212    1.103364            1.969373           -0.422289   \n",
       "2673778    1.103364           -0.507776           -0.422289   \n",
       "2777478    1.103364           -0.507776            2.368045   \n",
       "...             ...                 ...                 ...   \n",
       "996449832 -0.906319           -0.507776            2.368045   \n",
       "996803072  1.103364           -0.507776           -0.422289   \n",
       "997414065 -0.906319           -0.507776           -0.422289   \n",
       "997607529  1.103364           -0.507776           -0.422289   \n",
       "998120672 -0.906319           -0.507776           -0.422289   \n",
       "\n",
       "           income_32000-47999  income_48000+  income_<16000  \n",
       "id                                                           \n",
       "1552051             -0.487149      -0.557009       1.910315  \n",
       "2385395             -0.487149      -0.557009      -0.523474  \n",
       "2462212             -0.487149      -0.557009      -0.523474  \n",
       "2673778             -0.487149      -0.557009       1.910315  \n",
       "2777478             -0.487149      -0.557009      -0.523474  \n",
       "...                       ...            ...            ...  \n",
       "996449832           -0.487149      -0.557009      -0.523474  \n",
       "996803072           -0.487149      -0.557009       1.910315  \n",
       "997414065            2.052759      -0.557009      -0.523474  \n",
       "997607529           -0.487149       1.795304      -0.523474  \n",
       "998120672            2.052759      -0.557009      -0.523474  \n",
       "\n",
       "[989 rows x 12 columns]"
      ]
     },
     "execution_count": 183,
     "metadata": {},
     "output_type": "execute_result"
    }
   ],
   "source": [
    "#Required list of people involved in malicious activities\n",
    "xo"
   ]
  },
  {
   "cell_type": "code",
   "execution_count": null,
   "metadata": {},
   "outputs": [],
   "source": []
  }
 ],
 "metadata": {
  "kernelspec": {
   "display_name": "Python 3",
   "language": "python",
   "name": "python3"
  },
  "language_info": {
   "codemirror_mode": {
    "name": "ipython",
    "version": 3
   },
   "file_extension": ".py",
   "mimetype": "text/x-python",
   "name": "python",
   "nbconvert_exporter": "python",
   "pygments_lexer": "ipython3",
   "version": "3.7.4"
  }
 },
 "nbformat": 4,
 "nbformat_minor": 2
}
