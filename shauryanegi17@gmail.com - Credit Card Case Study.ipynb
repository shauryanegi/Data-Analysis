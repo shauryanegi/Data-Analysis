{
 "cells": [
  {
   "cell_type": "code",
   "execution_count": 1,
   "metadata": {},
   "outputs": [],
   "source": [
    "import numpy as np\n",
    "import pandas as pd\n",
    "import matplotlib.pyplot as plt\n",
    "import seaborn as sns\n",
    "import scipy.stats as stats\n",
    "import datetime as dt\n",
    "%matplotlib inline\n",
    "import math"
   ]
  },
  {
   "cell_type": "code",
   "execution_count": 2,
   "metadata": {},
   "outputs": [],
   "source": [
    "data = pd.read_excel(\"C:/Data Sets/(Class 9-Python - Case Study)/2.Credit Card/Credit Card Data.xlsx\")\n",
    "custacq = pd.read_csv(\"C:/Data Sets/(Class 9-Python - Case Study)/2.Credit Card/Customer_Acqusition.csv\")\n",
    "repayment = pd.read_csv(\"C:/Data Sets/(Class 9-Python - Case Study)/2.Credit Card/Repayment.csv\")\n",
    "spend = pd.read_csv(\"C:/Data Sets/(Class 9-Python - Case Study)/2.Credit Card/spend.csv\")"
   ]
  },
  {
   "cell_type": "code",
   "execution_count": 3,
   "metadata": {},
   "outputs": [
    {
     "data": {
      "text/html": [
       "<div>\n",
       "<style scoped>\n",
       "    .dataframe tbody tr th:only-of-type {\n",
       "        vertical-align: middle;\n",
       "    }\n",
       "\n",
       "    .dataframe tbody tr th {\n",
       "        vertical-align: top;\n",
       "    }\n",
       "\n",
       "    .dataframe thead th {\n",
       "        text-align: right;\n",
       "    }\n",
       "</style>\n",
       "<table border=\"1\" class=\"dataframe\">\n",
       "  <thead>\n",
       "    <tr style=\"text-align: right;\">\n",
       "      <th></th>\n",
       "      <th>No</th>\n",
       "      <th>Customer</th>\n",
       "      <th>Age</th>\n",
       "      <th>City</th>\n",
       "      <th>Product</th>\n",
       "      <th>Limit</th>\n",
       "      <th>Company</th>\n",
       "      <th>Segment</th>\n",
       "    </tr>\n",
       "  </thead>\n",
       "  <tbody>\n",
       "    <tr>\n",
       "      <th>0</th>\n",
       "      <td>1</td>\n",
       "      <td>A1</td>\n",
       "      <td>76</td>\n",
       "      <td>BANGALORE</td>\n",
       "      <td>Gold</td>\n",
       "      <td>500000.0</td>\n",
       "      <td>C1</td>\n",
       "      <td>Self Employed</td>\n",
       "    </tr>\n",
       "    <tr>\n",
       "      <th>1</th>\n",
       "      <td>2</td>\n",
       "      <td>A2</td>\n",
       "      <td>71</td>\n",
       "      <td>CALCUTTA</td>\n",
       "      <td>Silver</td>\n",
       "      <td>100000.0</td>\n",
       "      <td>C2</td>\n",
       "      <td>Salaried_MNC</td>\n",
       "    </tr>\n",
       "    <tr>\n",
       "      <th>2</th>\n",
       "      <td>3</td>\n",
       "      <td>A3</td>\n",
       "      <td>34</td>\n",
       "      <td>COCHIN</td>\n",
       "      <td>Platimum</td>\n",
       "      <td>10000.0</td>\n",
       "      <td>C3</td>\n",
       "      <td>Salaried_Pvt</td>\n",
       "    </tr>\n",
       "    <tr>\n",
       "      <th>3</th>\n",
       "      <td>4</td>\n",
       "      <td>A4</td>\n",
       "      <td>47</td>\n",
       "      <td>BOMBAY</td>\n",
       "      <td>Platimum</td>\n",
       "      <td>10001.0</td>\n",
       "      <td>C4</td>\n",
       "      <td>Govt</td>\n",
       "    </tr>\n",
       "    <tr>\n",
       "      <th>4</th>\n",
       "      <td>5</td>\n",
       "      <td>A5</td>\n",
       "      <td>56</td>\n",
       "      <td>BANGALORE</td>\n",
       "      <td>Platimum</td>\n",
       "      <td>10002.0</td>\n",
       "      <td>C5</td>\n",
       "      <td>Normal Salary</td>\n",
       "    </tr>\n",
       "    <tr>\n",
       "      <th>...</th>\n",
       "      <td>...</td>\n",
       "      <td>...</td>\n",
       "      <td>...</td>\n",
       "      <td>...</td>\n",
       "      <td>...</td>\n",
       "      <td>...</td>\n",
       "      <td>...</td>\n",
       "      <td>...</td>\n",
       "    </tr>\n",
       "    <tr>\n",
       "      <th>95</th>\n",
       "      <td>96</td>\n",
       "      <td>A96</td>\n",
       "      <td>54</td>\n",
       "      <td>CHENNAI</td>\n",
       "      <td>Silver</td>\n",
       "      <td>100000.0</td>\n",
       "      <td>C19</td>\n",
       "      <td>Salaried_Pvt</td>\n",
       "    </tr>\n",
       "    <tr>\n",
       "      <th>96</th>\n",
       "      <td>97</td>\n",
       "      <td>A97</td>\n",
       "      <td>58</td>\n",
       "      <td>TRIVANDRUM</td>\n",
       "      <td>Platimum</td>\n",
       "      <td>10000.0</td>\n",
       "      <td>C20</td>\n",
       "      <td>Govt</td>\n",
       "    </tr>\n",
       "    <tr>\n",
       "      <th>97</th>\n",
       "      <td>98</td>\n",
       "      <td>A98</td>\n",
       "      <td>51</td>\n",
       "      <td>CALCUTTA</td>\n",
       "      <td>Platimum</td>\n",
       "      <td>10001.0</td>\n",
       "      <td>C21</td>\n",
       "      <td>Normal Salary</td>\n",
       "    </tr>\n",
       "    <tr>\n",
       "      <th>98</th>\n",
       "      <td>99</td>\n",
       "      <td>A99</td>\n",
       "      <td>35</td>\n",
       "      <td>CALCUTTA</td>\n",
       "      <td>Platimum</td>\n",
       "      <td>10002.0</td>\n",
       "      <td>C22</td>\n",
       "      <td>Self Employed</td>\n",
       "    </tr>\n",
       "    <tr>\n",
       "      <th>99</th>\n",
       "      <td>100</td>\n",
       "      <td>A100</td>\n",
       "      <td>36</td>\n",
       "      <td>COCHIN</td>\n",
       "      <td>Silver</td>\n",
       "      <td>100000.0</td>\n",
       "      <td>C5</td>\n",
       "      <td>Salaried_MNC</td>\n",
       "    </tr>\n",
       "  </tbody>\n",
       "</table>\n",
       "<p>100 rows × 8 columns</p>\n",
       "</div>"
      ],
      "text/plain": [
       "     No Customer  Age        City   Product     Limit Company        Segment\n",
       "0     1       A1   76   BANGALORE      Gold  500000.0      C1  Self Employed\n",
       "1     2       A2   71    CALCUTTA    Silver  100000.0      C2   Salaried_MNC\n",
       "2     3       A3   34      COCHIN  Platimum   10000.0      C3   Salaried_Pvt\n",
       "3     4       A4   47      BOMBAY  Platimum   10001.0      C4           Govt\n",
       "4     5       A5   56   BANGALORE  Platimum   10002.0      C5  Normal Salary\n",
       "..  ...      ...  ...         ...       ...       ...     ...            ...\n",
       "95   96      A96   54     CHENNAI    Silver  100000.0     C19   Salaried_Pvt\n",
       "96   97      A97   58  TRIVANDRUM  Platimum   10000.0     C20           Govt\n",
       "97   98      A98   51    CALCUTTA  Platimum   10001.0     C21  Normal Salary\n",
       "98   99      A99   35    CALCUTTA  Platimum   10002.0     C22  Self Employed\n",
       "99  100     A100   36      COCHIN    Silver  100000.0      C5   Salaried_MNC\n",
       "\n",
       "[100 rows x 8 columns]"
      ]
     },
     "execution_count": 3,
     "metadata": {},
     "output_type": "execute_result"
    }
   ],
   "source": [
    "custacq"
   ]
  },
  {
   "cell_type": "code",
   "execution_count": 4,
   "metadata": {},
   "outputs": [],
   "source": [
    "# 1(a) In case age is less than 18, replace it with mean of age values.\n",
    "\n"
   ]
  },
  {
   "cell_type": "code",
   "execution_count": 5,
   "metadata": {},
   "outputs": [
    {
     "name": "stderr",
     "output_type": "stream",
     "text": [
      "C:\\Users\\shaur\\Anaconda3\\lib\\site-packages\\ipykernel_launcher.py:1: SettingWithCopyWarning: \n",
      "A value is trying to be set on a copy of a slice from a DataFrame\n",
      "\n",
      "See the caveats in the documentation: http://pandas.pydata.org/pandas-docs/stable/user_guide/indexing.html#returning-a-view-versus-a-copy\n",
      "  \"\"\"Entry point for launching an IPython kernel.\n"
     ]
    }
   ],
   "source": [
    "custacq.Age[custacq.Age < 18]  = custacq.Age.mean()"
   ]
  },
  {
   "cell_type": "code",
   "execution_count": 6,
   "metadata": {},
   "outputs": [],
   "source": [
    "custacq\n",
    "cust = pd.merge(left= repayment,right = spend , how= 'inner', left_on = ['Customer','Month','SL No:'] , right_on=[ 'Customer','Month','Sl No:'] ,suffixes=('re','sp'))\n",
    "#cust = pd.merge(left= repayment,right = spend , how= 'left', left_on = 'Customer' , right_on= 'Customer' ,suffixes=('re','sp'))"
   ]
  },
  {
   "cell_type": "code",
   "execution_count": 7,
   "metadata": {},
   "outputs": [],
   "source": [
    "#Removing the irelevant columns for better data organisation.\n",
    "\n",
    "cust.drop(columns = ['Unnamed: 4'])\n",
    "\n",
    "cust_final = pd.merge(left = cust, right =custacq, how ='left', left_on='Customer',right_on='Customer')\n",
    "#cust_final"
   ]
  },
  {
   "cell_type": "code",
   "execution_count": 8,
   "metadata": {},
   "outputs": [],
   "source": [
    "cust_final.drop(columns = ['Unnamed: 4'], inplace = True)"
   ]
  },
  {
   "cell_type": "code",
   "execution_count": 9,
   "metadata": {},
   "outputs": [
    {
     "name": "stderr",
     "output_type": "stream",
     "text": [
      "C:\\Users\\shaur\\Anaconda3\\lib\\site-packages\\ipykernel_launcher.py:4: SettingWithCopyWarning: \n",
      "A value is trying to be set on a copy of a slice from a DataFrame\n",
      "\n",
      "See the caveats in the documentation: http://pandas.pydata.org/pandas-docs/stable/user_guide/indexing.html#returning-a-view-versus-a-copy\n",
      "  after removing the cwd from sys.path.\n"
     ]
    }
   ],
   "source": [
    "# 1(b) b. In case spend amount is more than the limit, replace it with 50% of that customer’s limit.\n",
    "#(customer’s limit provided in acquisition table is the per transaction limit on his card)\n",
    "\n",
    "cust_final.Amountsp[cust_final.Amountsp > cust_final.Limit]=0.5 * cust_final.Limit"
   ]
  },
  {
   "cell_type": "code",
   "execution_count": 10,
   "metadata": {
    "scrolled": true
   },
   "outputs": [
    {
     "name": "stderr",
     "output_type": "stream",
     "text": [
      "C:\\Users\\shaur\\Anaconda3\\lib\\site-packages\\ipykernel_launcher.py:3: SettingWithCopyWarning: \n",
      "A value is trying to be set on a copy of a slice from a DataFrame\n",
      "\n",
      "See the caveats in the documentation: http://pandas.pydata.org/pandas-docs/stable/user_guide/indexing.html#returning-a-view-versus-a-copy\n",
      "  This is separate from the ipykernel package so we can avoid doing imports until\n"
     ]
    }
   ],
   "source": [
    "#c. Incase the repayment amount is more than the limit, replace the repayment with the limit.\n",
    "\n",
    "cust_final.Amountre[cust_final.Amountre > cust_final.Limit] = cust_final.Limit"
   ]
  },
  {
   "cell_type": "code",
   "execution_count": 11,
   "metadata": {},
   "outputs": [
    {
     "name": "stdout",
     "output_type": "stream",
     "text": [
      " Distinct customers: 100\n"
     ]
    }
   ],
   "source": [
    "#2. From the above dataset create the following summaries:\n",
    "\n",
    "#a. How many distinct customers exist?\n",
    "\n",
    "a = cust_final.drop_duplicates(subset = 'Customer').count()\n",
    "print(\" Distinct customers:\", a.Customer)"
   ]
  },
  {
   "cell_type": "code",
   "execution_count": 12,
   "metadata": {},
   "outputs": [
    {
     "name": "stdout",
     "output_type": "stream",
     "text": [
      " Distinct categories: 15\n"
     ]
    }
   ],
   "source": [
    "#b. How many distinct categories exist?\n",
    "\n",
    "b = cust_final.drop_duplicates(subset = 'Type').count()\n",
    "print(\" Distinct categories:\", b.Type)"
   ]
  },
  {
   "cell_type": "code",
   "execution_count": 13,
   "metadata": {},
   "outputs": [
    {
     "name": "stdout",
     "output_type": "stream",
     "text": [
      "Average monthly spend by customers:  133013.14705882355\n"
     ]
    }
   ],
   "source": [
    "#c. What is the average monthly spend by customers?\n",
    "\n",
    "print(\"Average monthly spend by customers: \",cust_final.Amountsp.mean())"
   ]
  },
  {
   "cell_type": "code",
   "execution_count": 14,
   "metadata": {},
   "outputs": [
    {
     "name": "stdout",
     "output_type": "stream",
     "text": [
      "Average monthly repayment by customers: 162760.78986928108\n"
     ]
    }
   ],
   "source": [
    "#d. What is the average monthly repayment by customers?\n",
    "\n",
    "cust_final.Amountre.mean()\n",
    "print(\"Average monthly repayment by customers:\",cust_final.Amountre.mean())"
   ]
  },
  {
   "cell_type": "code",
   "execution_count": 15,
   "metadata": {},
   "outputs": [
    {
     "data": {
      "text/html": [
       "<div>\n",
       "<style scoped>\n",
       "    .dataframe tbody tr th:only-of-type {\n",
       "        vertical-align: middle;\n",
       "    }\n",
       "\n",
       "    .dataframe tbody tr th {\n",
       "        vertical-align: top;\n",
       "    }\n",
       "\n",
       "    .dataframe thead th {\n",
       "        text-align: right;\n",
       "    }\n",
       "</style>\n",
       "<table border=\"1\" class=\"dataframe\">\n",
       "  <thead>\n",
       "    <tr style=\"text-align: right;\">\n",
       "      <th></th>\n",
       "      <th>SL No:</th>\n",
       "      <th>Customer</th>\n",
       "      <th>Month</th>\n",
       "      <th>Amountre</th>\n",
       "      <th>Sl No:</th>\n",
       "      <th>Type</th>\n",
       "      <th>Amountsp</th>\n",
       "      <th>No</th>\n",
       "      <th>Age</th>\n",
       "      <th>City</th>\n",
       "      <th>Product</th>\n",
       "      <th>Limit</th>\n",
       "      <th>Company</th>\n",
       "      <th>Segment</th>\n",
       "      <th>Profit</th>\n",
       "    </tr>\n",
       "  </thead>\n",
       "  <tbody>\n",
       "    <tr>\n",
       "      <th>0</th>\n",
       "      <td>2.0</td>\n",
       "      <td>A1</td>\n",
       "      <td>3-Jan-04</td>\n",
       "      <td>245899.02</td>\n",
       "      <td>2</td>\n",
       "      <td>PETRO</td>\n",
       "      <td>410556.13</td>\n",
       "      <td>1</td>\n",
       "      <td>76.0</td>\n",
       "      <td>BANGALORE</td>\n",
       "      <td>Gold</td>\n",
       "      <td>500000.0</td>\n",
       "      <td>C1</td>\n",
       "      <td>Self Employed</td>\n",
       "      <td>-164657.11000</td>\n",
       "    </tr>\n",
       "    <tr>\n",
       "      <th>1</th>\n",
       "      <td>3.0</td>\n",
       "      <td>A1</td>\n",
       "      <td>15-Jan-04</td>\n",
       "      <td>259490.06</td>\n",
       "      <td>3</td>\n",
       "      <td>CLOTHES</td>\n",
       "      <td>23740.46</td>\n",
       "      <td>1</td>\n",
       "      <td>76.0</td>\n",
       "      <td>BANGALORE</td>\n",
       "      <td>Gold</td>\n",
       "      <td>500000.0</td>\n",
       "      <td>C1</td>\n",
       "      <td>Self Employed</td>\n",
       "      <td>6836.73840</td>\n",
       "    </tr>\n",
       "    <tr>\n",
       "      <th>2</th>\n",
       "      <td>4.0</td>\n",
       "      <td>A1</td>\n",
       "      <td>25-Jan-04</td>\n",
       "      <td>437555.12</td>\n",
       "      <td>4</td>\n",
       "      <td>FOOD</td>\n",
       "      <td>484342.47</td>\n",
       "      <td>1</td>\n",
       "      <td>76.0</td>\n",
       "      <td>BANGALORE</td>\n",
       "      <td>Gold</td>\n",
       "      <td>500000.0</td>\n",
       "      <td>C1</td>\n",
       "      <td>Self Employed</td>\n",
       "      <td>-46787.35000</td>\n",
       "    </tr>\n",
       "    <tr>\n",
       "      <th>3</th>\n",
       "      <td>5.0</td>\n",
       "      <td>A1</td>\n",
       "      <td>17-Jan-05</td>\n",
       "      <td>165972.88</td>\n",
       "      <td>5</td>\n",
       "      <td>CAMERA</td>\n",
       "      <td>369694.07</td>\n",
       "      <td>1</td>\n",
       "      <td>76.0</td>\n",
       "      <td>BANGALORE</td>\n",
       "      <td>Gold</td>\n",
       "      <td>500000.0</td>\n",
       "      <td>C1</td>\n",
       "      <td>Self Employed</td>\n",
       "      <td>-203721.19000</td>\n",
       "    </tr>\n",
       "    <tr>\n",
       "      <th>4</th>\n",
       "      <td>6.0</td>\n",
       "      <td>A1</td>\n",
       "      <td>23-Feb-05</td>\n",
       "      <td>365366.62</td>\n",
       "      <td>6</td>\n",
       "      <td>SANDALS</td>\n",
       "      <td>168285.60</td>\n",
       "      <td>1</td>\n",
       "      <td>76.0</td>\n",
       "      <td>BANGALORE</td>\n",
       "      <td>Gold</td>\n",
       "      <td>500000.0</td>\n",
       "      <td>C1</td>\n",
       "      <td>Self Employed</td>\n",
       "      <td>5715.34958</td>\n",
       "    </tr>\n",
       "    <tr>\n",
       "      <th>...</th>\n",
       "      <td>...</td>\n",
       "      <td>...</td>\n",
       "      <td>...</td>\n",
       "      <td>...</td>\n",
       "      <td>...</td>\n",
       "      <td>...</td>\n",
       "      <td>...</td>\n",
       "      <td>...</td>\n",
       "      <td>...</td>\n",
       "      <td>...</td>\n",
       "      <td>...</td>\n",
       "      <td>...</td>\n",
       "      <td>...</td>\n",
       "      <td>...</td>\n",
       "      <td>...</td>\n",
       "    </tr>\n",
       "    <tr>\n",
       "      <th>148</th>\n",
       "      <td>220.0</td>\n",
       "      <td>A6</td>\n",
       "      <td>3-Jan-04</td>\n",
       "      <td>100000.00</td>\n",
       "      <td>220</td>\n",
       "      <td>CLOTHES</td>\n",
       "      <td>18162.30</td>\n",
       "      <td>6</td>\n",
       "      <td>70.0</td>\n",
       "      <td>DELHI</td>\n",
       "      <td>Silver</td>\n",
       "      <td>100000.0</td>\n",
       "      <td>C6</td>\n",
       "      <td>Self Employed</td>\n",
       "      <td>2373.29330</td>\n",
       "    </tr>\n",
       "    <tr>\n",
       "      <th>149</th>\n",
       "      <td>221.0</td>\n",
       "      <td>A7</td>\n",
       "      <td>15-Jan-04</td>\n",
       "      <td>100001.00</td>\n",
       "      <td>221</td>\n",
       "      <td>CLOTHES</td>\n",
       "      <td>50000.50</td>\n",
       "      <td>7</td>\n",
       "      <td>26.0</td>\n",
       "      <td>COCHIN</td>\n",
       "      <td>Silver</td>\n",
       "      <td>100001.0</td>\n",
       "      <td>C7</td>\n",
       "      <td>Salaried_MNC</td>\n",
       "      <td>1450.01450</td>\n",
       "    </tr>\n",
       "    <tr>\n",
       "      <th>150</th>\n",
       "      <td>222.0</td>\n",
       "      <td>A8</td>\n",
       "      <td>25-Jan-04</td>\n",
       "      <td>100002.00</td>\n",
       "      <td>222</td>\n",
       "      <td>CLOTHES</td>\n",
       "      <td>50001.00</td>\n",
       "      <td>8</td>\n",
       "      <td>67.0</td>\n",
       "      <td>PATNA</td>\n",
       "      <td>Silver</td>\n",
       "      <td>100002.0</td>\n",
       "      <td>C8</td>\n",
       "      <td>Salaried_Pvt</td>\n",
       "      <td>1450.02900</td>\n",
       "    </tr>\n",
       "    <tr>\n",
       "      <th>151</th>\n",
       "      <td>559.0</td>\n",
       "      <td>A16</td>\n",
       "      <td>25-Mar-06</td>\n",
       "      <td>472718.78</td>\n",
       "      <td>559</td>\n",
       "      <td>PETRO</td>\n",
       "      <td>395533.64</td>\n",
       "      <td>16</td>\n",
       "      <td>52.0</td>\n",
       "      <td>COCHIN</td>\n",
       "      <td>Gold</td>\n",
       "      <td>500000.0</td>\n",
       "      <td>C16</td>\n",
       "      <td>Normal Salary</td>\n",
       "      <td>2238.36906</td>\n",
       "    </tr>\n",
       "    <tr>\n",
       "      <th>152</th>\n",
       "      <td>1058.0</td>\n",
       "      <td>A47</td>\n",
       "      <td>23-Feb-05</td>\n",
       "      <td>10000.00</td>\n",
       "      <td>1058</td>\n",
       "      <td>MOVIE TICKET</td>\n",
       "      <td>5000.00</td>\n",
       "      <td>47</td>\n",
       "      <td>28.0</td>\n",
       "      <td>CHENNAI</td>\n",
       "      <td>Platimum</td>\n",
       "      <td>10000.0</td>\n",
       "      <td>C9</td>\n",
       "      <td>Normal Salary</td>\n",
       "      <td>145.00000</td>\n",
       "    </tr>\n",
       "  </tbody>\n",
       "</table>\n",
       "<p>153 rows × 15 columns</p>\n",
       "</div>"
      ],
      "text/plain": [
       "     SL No: Customer      Month   Amountre  Sl No:          Type   Amountsp  \\\n",
       "0       2.0       A1   3-Jan-04  245899.02       2         PETRO  410556.13   \n",
       "1       3.0       A1  15-Jan-04  259490.06       3       CLOTHES   23740.46   \n",
       "2       4.0       A1  25-Jan-04  437555.12       4          FOOD  484342.47   \n",
       "3       5.0       A1  17-Jan-05  165972.88       5        CAMERA  369694.07   \n",
       "4       6.0       A1  23-Feb-05  365366.62       6       SANDALS  168285.60   \n",
       "..      ...      ...        ...        ...     ...           ...        ...   \n",
       "148   220.0       A6   3-Jan-04  100000.00     220       CLOTHES   18162.30   \n",
       "149   221.0       A7  15-Jan-04  100001.00     221       CLOTHES   50000.50   \n",
       "150   222.0       A8  25-Jan-04  100002.00     222       CLOTHES   50001.00   \n",
       "151   559.0      A16  25-Mar-06  472718.78     559         PETRO  395533.64   \n",
       "152  1058.0      A47  23-Feb-05   10000.00    1058  MOVIE TICKET    5000.00   \n",
       "\n",
       "     No   Age       City   Product     Limit Company        Segment  \\\n",
       "0     1  76.0  BANGALORE      Gold  500000.0      C1  Self Employed   \n",
       "1     1  76.0  BANGALORE      Gold  500000.0      C1  Self Employed   \n",
       "2     1  76.0  BANGALORE      Gold  500000.0      C1  Self Employed   \n",
       "3     1  76.0  BANGALORE      Gold  500000.0      C1  Self Employed   \n",
       "4     1  76.0  BANGALORE      Gold  500000.0      C1  Self Employed   \n",
       "..   ..   ...        ...       ...       ...     ...            ...   \n",
       "148   6  70.0      DELHI    Silver  100000.0      C6  Self Employed   \n",
       "149   7  26.0     COCHIN    Silver  100001.0      C7   Salaried_MNC   \n",
       "150   8  67.0      PATNA    Silver  100002.0      C8   Salaried_Pvt   \n",
       "151  16  52.0     COCHIN      Gold  500000.0     C16  Normal Salary   \n",
       "152  47  28.0    CHENNAI  Platimum   10000.0      C9  Normal Salary   \n",
       "\n",
       "           Profit  \n",
       "0   -164657.11000  \n",
       "1      6836.73840  \n",
       "2    -46787.35000  \n",
       "3   -203721.19000  \n",
       "4      5715.34958  \n",
       "..            ...  \n",
       "148    2373.29330  \n",
       "149    1450.01450  \n",
       "150    1450.02900  \n",
       "151    2238.36906  \n",
       "152     145.00000  \n",
       "\n",
       "[153 rows x 15 columns]"
      ]
     },
     "execution_count": 15,
     "metadata": {},
     "output_type": "execute_result"
    }
   ],
   "source": [
    "#e. If the monthly rate of interest is 2.9%, what is the profit for the bank for each month? (Profit is defined as interest earned on Monthly Profit. \n",
    "#Monthly Profit = Monthly repayment – Monthly spend. Interest is earned only on positive profits and not on negative amounts)\n",
    "\n",
    "\n",
    "cust_final['Profit'] = cust_final.Amountre-cust_final.Amountsp\n",
    "cust_final['Profit'] = np.where( (cust_final.Amountre-cust_final.Amountsp)> 0,  (cust_final.Amountre - cust_final.Amountsp) * 0.029, cust_final.Profit)\n",
    "\n",
    "cust_final\n",
    "\n",
    "#Interest only earned where we have posiitve profits."
   ]
  },
  {
   "cell_type": "code",
   "execution_count": 16,
   "metadata": {},
   "outputs": [
    {
     "data": {
      "text/plain": [
       "Type\n",
       "PETRO         3956474.70\n",
       "CAMERA        2092932.72\n",
       "AIR TICKET    1783754.93\n",
       "SANDALS       1478296.60\n",
       "SHOPPING      1438043.56\n",
       "Name: Amountsp, dtype: float64"
      ]
     },
     "execution_count": 16,
     "metadata": {},
     "output_type": "execute_result"
    }
   ],
   "source": [
    "#f. What are the top 5 product types?\n",
    "x = cust_final.groupby('Type').Amountsp.agg(np.sum)\n",
    "x.sort_values(ascending = False).head()"
   ]
  },
  {
   "cell_type": "code",
   "execution_count": 17,
   "metadata": {},
   "outputs": [
    {
     "data": {
      "text/plain": [
       "City\n",
       "BANGALORE    5952435.3\n",
       "Name: Amountsp, dtype: float64"
      ]
     },
     "execution_count": 17,
     "metadata": {},
     "output_type": "execute_result"
    }
   ],
   "source": [
    "#g. Which city is having maximum spend?\n",
    "\n",
    "a = cust_final.groupby('City').Amountsp.agg(np.sum)\n",
    "a.sort_values(ascending = False).head(1)"
   ]
  },
  {
   "cell_type": "code",
   "execution_count": 18,
   "metadata": {},
   "outputs": [
    {
     "data": {
      "text/plain": [
       "Age\n",
       "76.0    2503526.09\n",
       "Name: Amountsp, dtype: float64"
      ]
     },
     "execution_count": 18,
     "metadata": {},
     "output_type": "execute_result"
    }
   ],
   "source": [
    "#h. Which age group is spending more money?\n",
    "\n",
    "b = cust_final.groupby('Age').Amountsp.agg(np.sum)\n",
    "b.sort_values(ascending = False).head(1)"
   ]
  },
  {
   "cell_type": "code",
   "execution_count": 19,
   "metadata": {},
   "outputs": [
    {
     "data": {
      "text/plain": [
       "Customer\n",
       "A1     2439117.33\n",
       "A11    1149418.02\n",
       "A13    1099939.55\n",
       "A14     876739.12\n",
       "A10     815913.62\n",
       "A60     753702.93\n",
       "A12     624642.58\n",
       "A16     576642.48\n",
       "A8      500010.00\n",
       "A89     497237.97\n",
       "Name: Amountre, dtype: float64"
      ]
     },
     "execution_count": 19,
     "metadata": {},
     "output_type": "execute_result"
    }
   ],
   "source": [
    "#i. Who are the top 10 customers in terms of repayment?\n",
    "\n",
    "cust_final.groupby('Customer').Amountre.agg(np.sum).sort_values(ascending = False).head(10)"
   ]
  },
  {
   "cell_type": "code",
   "execution_count": 20,
   "metadata": {},
   "outputs": [],
   "source": [
    "#3. Calculate the city wise spend on each product on yearly basis. Also include a graphical representation for the same.\n",
    "a = pd.to_datetime(cust_final.Month)\n",
    "cust_final['Year'] = a.dt.year\n",
    "\n",
    "cust_final['Months'] = a.dt.month"
   ]
  },
  {
   "cell_type": "code",
   "execution_count": 21,
   "metadata": {},
   "outputs": [
    {
     "data": {
      "image/png": "[encoded data removed]",
      "text/plain": [
       "<Figure size 432x288 with 1 Axes>"
      ]
     },
     "metadata": {
      "needs_background": "light"
     },
     "output_type": "display_data"
    }
   ],
   "source": [
    "b = cust_final.pivot_table(values = 'Amountsp', columns= ['Type'], index =['City','Year'], aggfunc = np.sum)\n",
    "b.fillna(value = 0,inplace = True)\n",
    "\n",
    "\n",
    "#We have some null values for some years, it means there has not been any transaction that year. Therefore, set the null value to zero for calculations.\n",
    "\n",
    "#cust_final.plot(kind = 'bar', x = 'Year', y = 'Amountsp', figsize = (20, 8))\n",
    "\n",
    "from matplotlib.pyplot import figure\n",
    "b.plot(kind='bar')\n",
    "\n",
    "\n",
    "from pylab import rcParams\n",
    "rcParams['figure.figsize'] = 12, 10\n",
    "plt.show()"
   ]
  },
  {
   "cell_type": "code",
   "execution_count": 22,
   "metadata": {},
   "outputs": [
    {
     "data": {
      "image/png": "[encoded data removed]",
      "text/plain": [
       "<Figure size 864x720 with 1 Axes>"
      ]
     },
     "metadata": {
      "needs_background": "light"
     },
     "output_type": "display_data"
    }
   ],
   "source": [
    "# 4. Create graphs for\n",
    "#a. Monthly comparison of total spends, city wise\n",
    "\n",
    "c = cust_final.pivot_table(values = 'Amountsp', index ='Months', columns = 'City')\n",
    "\n",
    "c.fillna(value = 0,inplace = True)\n",
    "\n",
    "\n",
    "#cust_final.plot(kind = 'bar', x = 'City', y = 'Amountsp', figsize = (25, 12))\n",
    "from matplotlib.pyplot import figure\n",
    "c.plot(kind='bar')\n",
    "#plt.figure(figsize=(15,10))\n",
    "#figure(num=None, figsize=(15, 10), dpi=80, facecolor='w', edgecolor='k')\n",
    "\n",
    "from pylab import rcParams\n",
    "rcParams['figure.figsize'] = 12, 10\n",
    "plt.show()\n",
    "\n",
    "#We have some null values for some years, it means there has not been any transaction that year. Therefore, set the null value to zero for calculations."
   ]
  },
  {
   "cell_type": "code",
   "execution_count": 23,
   "metadata": {},
   "outputs": [
    {
     "data": {
      "image/png": "[encoded data removed]",
      "text/plain": [
       "<Figure size 864x720 with 1 Axes>"
      ]
     },
     "metadata": {
      "needs_background": "light"
     },
     "output_type": "display_data"
    },
    {
     "data": {
      "text/plain": [
       "<Figure size 1080x720 with 0 Axes>"
      ]
     },
     "metadata": {},
     "output_type": "display_data"
    }
   ],
   "source": [
    "#b. Comparison of yearly spend on air tickets\n",
    "a = cust_final[cust_final.Type == 'AIR TICKET'].Amountsp\n",
    "\n",
    "b = cust_final[cust_final.Type == 'AIR TICKET'].Year\n",
    "\n",
    "plt.scatter(a, b, alpha=0.5)\n",
    "plt.title('Comparison of yearly spend on air tickets')\n",
    "plt.xlabel('x')\n",
    "plt.ylabel('y')\n",
    "plt.figure(figsize=(15,10))\n",
    "\n",
    "plt.show()\n",
    "\n",
    "#sns.scatterplot(x = a, y = b, hue = cust_final.Year)"
   ]
  },
  {
   "cell_type": "code",
   "execution_count": 24,
   "metadata": {},
   "outputs": [
    {
     "data": {
      "text/plain": [
       "<Figure size 1800x1080 with 0 Axes>"
      ]
     },
     "metadata": {},
     "output_type": "display_data"
    },
    {
     "data": {
      "image/png": "[encoded data removed]",
      "text/plain": [
       "<Figure size 864x720 with 1 Axes>"
      ]
     },
     "metadata": {
      "needs_background": "light"
     },
     "output_type": "display_data"
    }
   ],
   "source": [
    "#c. Comparison of monthly spend for each product (look for any seasonality that exists in terms of spend)\n",
    "\n",
    "a = cust_final.pivot_table(values = 'Amountsp', index = 'Months', columns = 'Type', aggfunc = np.sum)\n",
    "\n",
    "#cust_final.loc[:,['Type','Amountsp','Months']]\n",
    "\n",
    "#cust_final.plot(kind = 'bar', x = 'City', y = 'Amountsp', figsize = (20, 8))\n",
    "\n",
    "a.fillna(value = 0,inplace = True)\n",
    "\n",
    "#plt.bar(a, height= cust_final.Months)\n",
    "plt.figure(figsize = (25,15))\n",
    "\n",
    "a.plot(kind='bar')\n",
    "#sns.barplot(cust_final.Amountsp, cust_final.Months, hue=cust_final.Product)\n",
    "plt.show()\n",
    "\n"
   ]
  },
  {
   "cell_type": "markdown",
   "metadata": {},
   "source": [
    "We see huge amounts of monthly spend in almost all categories in the initial months for all the categories and it reduces monthly."
   ]
  },
  {
   "cell_type": "code",
   "execution_count": null,
   "metadata": {},
   "outputs": [],
   "source": [
    "#5. Write user defined PYTHON function to perform the following analysis:\n",
    "#You need to find top 10 customers for each city in terms of their repayment amount by\n",
    "#different products and by different time periods i.e. year or month. The user should be able\n",
    "#to specify the product (Gold/Silver/Platinum) and time period (yearly or monthly) and the\n",
    "#function should automatically take these inputs while identifying the top 10 customers.\n",
    "    \n",
    "def my_func(product,year):\n",
    "    #a= cust_final.pivot_table(values = 'Amountre', index = ['City','Year','Customer'], columns = ['Product'], aggfunc = np.sum)\n",
    "    a = cust_final.groupby(['City','Product','Year','Customer']).Amountre.sum().reset_index()\n",
    "    b = a[(a.Product == product) & (a.Year == year)]\n",
    "    return b.sort_values(['City','Amountre'], ascending = [True,False])\n",
    "my_func('Platinum','2004')"
   ]
  }
 ],
 "metadata": {
  "kernelspec": {
   "display_name": "Python 3",
   "language": "python",
   "name": "python3"
  },
  "language_info": {
   "codemirror_mode": {
    "name": "ipython",
    "version": 3
   },
   "file_extension": ".py",
   "mimetype": "text/x-python",
   "name": "python",
   "nbconvert_exporter": "python",
   "pygments_lexer": "ipython3",
   "version": "3.7.4"
  }
 },
 "nbformat": 4,
 "nbformat_minor": 2
}
